{
 "cells": [
  {
   "cell_type": "markdown",
   "metadata": {},
   "source": [
    "# Exercice guidé : Télécharger des images depuis un manifeste IIIF\n",
    "\n",
    "Dans cet exercice, nous allons apprendre à télécharger des images à partir d'un manifeste IIIF en utilisant Python. Nous allons parcourir les étapes suivantes :\n",
    "\n",
    "1. **Ouvrir le manifeste**\n",
    "2. **Parcourir le manifeste pour trouver les URLs des images**\n",
    "3. **Utiliser la bibliothèque `requests` pour télécharger les images**\n",
    "   - Afficher les codes de statut HTTP (200, 404, 429, etc.)\n",
    "   - Récupérer les données\n",
    "4. **Construire le chemin d'enregistrement des images avec `os` et les enregistrer**\n",
    "5. **Utiliser la bibliothèque `PIL` pour enregistrer les caractéristiques de l'image dans un fichier `.txt` du même nom que l'image**\n",
    "6. **Automatiser le processus avec une fonction pour récupérer toutes les URLs du manifeste**\n",
    "\n",
    "---"
   ]
  },
  {
   "cell_type": "markdown",
   "metadata": {},
   "source": [
    "## Prérequis\n",
    "\n",
    "Avant de commencer, assurez-vous d'avoir les bibliothèques Python suivantes installées :\n",
    "\n",
    "- `requests`\n",
    "- `Pillow` (PIL)\n",
    "\n",
    "Si vous travaillez sur colab activez la commande suivante dans une cellule python :\n",
    "```bash\n",
    "!pip install requests pillow\n",
    "```\n",
    "---"
   ]
  },
  {
   "cell_type": "markdown",
   "metadata": {},
   "source": [
    "## Étape 1 : Ouvrir le manifeste\n",
    "\n",
    "Un manifeste IIIF est un fichier JSON qui décrit une ressource numérique complexe, telle qu'une collection d'images. Pour cet exercice, nous utiliserons un manifeste d'exemple."
   ]
  },
  {
   "cell_type": "code",
   "execution_count": null,
   "metadata": {},
   "outputs": [],
   "source": [
    "import json\n",
    "import requests\n",
    "\n",
    "# URL du manifeste IIIF\n",
    "manifest_url = 'https://www.e-codices.unifr.ch/metadata/iiif/bbb-0318/manifest.json'\n",
    "\n",
    "# Télécharger le manifeste\n",
    "response = requests.get(manifest_url)\n",
    "\n",
    "# Vérifier que la requête s'est bien passée\n",
    "if response.status_code == 200:\n",
    "    manifest = response.json()\n",
    "    print(\"Manifeste chargé avec succès.\")\n",
    "else:\n",
    "    print(f\"Erreur lors du chargement du manifeste : {response.status_code}\")"
   ]
  },
  {
   "cell_type": "markdown",
   "metadata": {},
   "source": [
    "### Explications\n",
    "\n",
    "- **Importation des modules** : Nous importons les modules `json` pour manipuler le JSON et `requests` pour effectuer des requêtes HTTP.\n",
    "- **Téléchargement du manifeste** : Nous utilisons `requests.get()` pour envoyer une requête GET à l'URL du manifeste.\n",
    "- **Vérification du statut HTTP** : Nous vérifions si le `status_code` est 200, ce qui indique un succès.\n",
    "- **Chargement du manifeste** : Si la requête a réussi, nous chargeons le contenu JSON du manifeste en utilisant `response.json()`.\n",
    "\n",
    "---"
   ]
  },
  {
   "cell_type": "markdown",
   "metadata": {},
   "source": [
    "## Étape 2 : Parcourir le manifeste pour trouver les URLs des images\n",
    "\n",
    "Les images sont généralement situées dans les `canvases` du manifeste. Chaque canvas représente une image individuelle."
   ]
  },
  {
   "cell_type": "code",
   "execution_count": null,
   "metadata": {},
   "outputs": [],
   "source": [
    "# Extraire les canvases du manifeste\n",
    "canvases = manifest['sequences'][0]['canvases']\n",
    "\n",
    "# Créer une liste pour stocker les informations sur les images\n",
    "images_info = []\n",
    "\n",
    "# Parcourir les canvases pour extraire les informations\n",
    "for idx, canvas in enumerate(canvases):\n",
    "    canvas_num = idx\n",
    "    image_label = canvas['label'] # Récupère l'index (position) du canvas dans le manifeste\n",
    "    image_url = canvas['images'][0]['resource']['@id']\n",
    "    image_format = canvas['images'][0]['resource']['@id'].split('/')[-1]\n",
    "    image_width_declared = canvas['images'][0]['resource']['width']\n",
    "    image_height_declared = canvas['images'][0]['resource']['height']\n",
    "    \n",
    "    images_info.append({\n",
    "        'canvasNum': canvas_num,\n",
    "        'imageLabel': image_label,\n",
    "        'urlImage': image_url,\n",
    "        'imageFormat' : image_format,\n",
    "        'imageWidthAsDeclared': image_width_declared,\n",
    "        'imageHeightAsDeclared': image_height_declared\n",
    "    })\n",
    "\n",
    "print(f\"Trouvé {len(images_info)} images dans le manifeste.\")"
   ]
  },
  {
   "cell_type": "markdown",
   "metadata": {},
   "source": [
    "### Explications\n",
    "\n",
    "- **Accès aux canvases** : Nous accédons à la liste des `canvases` du manifeste.\n",
    "- **Utilisation de `enumerate()`** : L'utilisation de `enumerate()` dans cette boucle a pour but de parcourir les canvas du manifeste tout en obtenant leur index (position) en plus de leur valeur (l'élément lui-même). C'est particulièrement utile pour contrer les problème de nommage que vous pouvez rencontrer dans certains manifestes où tous les médias on le même `label`, le plus souvent `NP`.\n",
    "\n",
    "- **Parcours des canvases** : Pour chaque canvas, nous extrayons :\n",
    "  - `canvasNum` : Le numéro du canvas (son index).\n",
    "  - `imageLabel` : Label de l'image, avec une valeur par défaut si absent.\n",
    "  - `urlImage` : URL de l'image.\n",
    "  - `imageFormat` : Le format de l'image (jpg, png, tiff, ...)\n",
    "  - `imageWidthAsDeclared` et `imageHeightAsDeclared` : Dimensions déclarées de l'image.\n",
    "- **Stockage des informations** : Nous ajoutons ces informations à la liste `images_info`.\n",
    "\n",
    "\n",
    "\n",
    "---"
   ]
  },
  {
   "cell_type": "markdown",
   "metadata": {},
   "source": [
    "## Étape 3 : Utiliser la bibliothèque `requests` pour télécharger les images\n",
    "\n",
    "Nous allons maintenant utiliser `requests` pour télécharger les images à partir des URLs que nous avons extraites. Nous afficherons également les codes de statut HTTP."
   ]
  },
  {
   "cell_type": "code",
   "execution_count": null,
   "metadata": {},
   "outputs": [],
   "source": [
    "# Importer les modules nécessaires\n",
    "import os\n",
    "\n",
    "# Créer un dossier pour stocker les images téléchargées\n",
    "folder_path = 'downloaded_images'\n",
    "if not os.path.exists(folder_path):\n",
    "    os.makedirs(folder_path)\n",
    "\n",
    "# Parcourir la liste des images et les télécharger\n",
    "for idx, image in enumerate(images_info):\n",
    "    url = image['urlImage']\n",
    "    image_filename = f\"image_{idx+1}.jpg\"\n",
    "    image_path = os.path.join(folder_path, image_filename)\n",
    "    \n",
    "    try:\n",
    "        response = requests.get(url)\n",
    "        html_code = response.status_code\n",
    "        print(f\"Téléchargement de {image_filename} - Code HTTP : {html_code}\")\n",
    "        \n",
    "        if response.status_code == 200:\n",
    "            # Enregistrer l'image sur le disque\n",
    "            with open(image_path, 'wb') as file:\n",
    "                file.write(response.content)\n",
    "            image['imageFileName'] = image_filename\n",
    "            image['folderPath'] = folder_path\n",
    "            image['htmlCode'] = html_code\n",
    "        else:\n",
    "            print(f\"Erreur lors du téléchargement de l'image : {html_code}\")\n",
    "            image['htmlCode'] = html_code\n",
    "    except Exception as e:\n",
    "        print(f\"Exception lors du téléchargement de l'image : {e}\")\n",
    "        image['htmlCode'] = 'Exception'"
   ]
  },
  {
   "cell_type": "markdown",
   "metadata": {},
   "source": [
    "### Explications\n",
    "\n",
    "- **Création du dossier** : Nous utilisons `os.makedirs()` pour créer un dossier `downloaded_images` si nécessaire.\n",
    "- **Téléchargement des images** :\n",
    "  - Nous parcourons chaque image dans `images_info`.\n",
    "  - Nous construisons le nom du fichier image.\n",
    "  - Nous utilisons `requests.get()` pour télécharger l'image.\n",
    "  - Nous affichons le code HTTP pour chaque requête.\n",
    "  - Si le téléchargement est réussi (`status_code` 200), nous enregistrons l'image et mettons à jour les informations dans `images_info`.\n",
    "  - Nous gérons les exceptions pour capturer les erreurs éventuelles.\n",
    "\n",
    "---"
   ]
  },
  {
   "cell_type": "markdown",
   "metadata": {},
   "source": [
    "## Étape 4 : Construire le chemin d'enregistrement avec `os` et enregistrer l'image\n",
    "\n",
    "Nous avons déjà utilisé `os` pour créer le dossier et construire le chemin du fichier. Nous allons continuer à utiliser `os` pour assurer la portabilité du code."
   ]
  },
  {
   "cell_type": "markdown",
   "metadata": {},
   "source": [
    "### Code\n",
    "\n",
    "*Cette étape est intégrée dans le code de l'étape précédente.*\n",
    "\n",
    "### Explications\n",
    "\n",
    "- **Construction du chemin du fichier** : Nous utilisons `os.path.join()` pour créer un chemin compatible avec le système d'exploitation.\n",
    "- **Vérification de l'existence du dossier** : `os.path.exists()` vérifie si le dossier existe déjà.\n",
    "- **Création du dossier** : `os.makedirs()` crée le dossier spécifié.\n",
    "\n",
    "---"
   ]
  },
  {
   "cell_type": "markdown",
   "metadata": {},
   "source": [
    "## Étape 5 : Utiliser `PIL` pour enregistrer les caractéristiques de l'image\n",
    "\n",
    "Nous allons maintenant utiliser `PIL` pour ouvrir l'image téléchargée et obtenir ses dimensions réelles. Nous enregistrerons les caractéristiques de l'image dans un fichier `.txt` du même nom que l'image."
   ]
  },
  {
   "cell_type": "code",
   "execution_count": null,
   "metadata": {},
   "outputs": [],
   "source": [
    "from PIL import Image\n",
    "import os\n",
    "\n",
    "# Parcourir les images pour récupérer les caractéristiques et les enregistrer\n",
    "for image in images_info:\n",
    "    image_filename = image.get('imageFileName')\n",
    "    \n",
    "    # Vérifier si l'image est valide (nom de fichier et code HTML = 200)\n",
    "    if image_filename and image.get('htmlCode') == 200:\n",
    "        image_path = os.path.join(image['folderPath'], image_filename)\n",
    "        txt_filename = os.path.splitext(image_filename)[0] + '.txt'\n",
    "        txt_path = os.path.join(image['folderPath'], txt_filename)\n",
    "        \n",
    "        # Ouvrir l'image avec PIL et récupérer les dimensions téléchargées (size retourne un tuple (width, height) )\n",
    "        with Image.open(image_path) as img:\n",
    "            image_width_downloaded, image_height_downloaded = img.size\n",
    "            image['imageWidthAsDownloaded'] = image_width_downloaded\n",
    "            image['imageHeightAsDownloaded'] = image_height_downloaded\n",
    "        \n",
    "        # Liste des clés à écrire dans le fichier .txt\n",
    "        data_to_write = [\n",
    "            'imageFileName', 'canvasId', 'urlImage', 'folderPath', 'imageLabel',\n",
    "            'imageWidthAsDeclared', 'imageHeightAsDeclared', 'htmlCode',\n",
    "            'imageWidthAsDownloaded', 'imageHeightAsDownloaded'\n",
    "        ]\n",
    "        \n",
    "        # Enregistrer les caractéristiques dans le fichier .txt\n",
    "        with open(txt_path, 'w', encoding='utf-8') as txt_file:\n",
    "            for key in data_to_write:\n",
    "                value = image.get(key)\n",
    "                # Si la valeur est nulle (None ou chaîne vide), remplacer par \"Non défini\"\n",
    "                if not value:\n",
    "                    value = 'Non défini'\n",
    "                txt_file.write(f\"{key}: {value}\\n\")\n",
    "        \n",
    "        print(f\"Caractéristiques enregistrées dans {txt_filename}\")\n",
    "    else:\n",
    "        print(f\"Image non téléchargée ou erreur lors du téléchargement pour {image.get('imageLabel', 'Inconnu')}\")\n"
   ]
  },
  {
   "cell_type": "markdown",
   "metadata": {},
   "source": [
    "### Explications\n",
    "\n",
    "- **Ouverture de l'image avec PIL** : Nous utilisons `Image.open()` pour ouvrir l'image téléchargée.\n",
    "- **Récupération des dimensions** : `img.size` renvoie les dimensions réelles de l'image sous la forme d'un tuple largeur, hauteur.\n",
    "- **Création du fichier `.txt`** :\n",
    "  - Nous changeons l'extension du nom de l'image en `.txt` en utilisant `os.path.splitext()`.\n",
    "  - Nous écrivons les caractéristiques de l'image dans le fichier texte.\n",
    "- **Gestion des erreurs** : \n",
    "  - Si l'image n'a pas été téléchargée avec succès, nous affichons un message.\n",
    "  - Lors de l'écriture, si une clé est absente, une valeur par défaut sera retournée ('Non défini'). Cela évite les erreurs si certaines informations manquent.\n",
    "\n",
    "- **Attention** : Le `get()` auquel nous faisons référence pour `image.get('imageFileName')` est une méthode des dictionnaires Python, utilisée pour récupérer la valeur associée à une clé spécifique dans un dictionnaire. Si la clé n'existe pas, `get()` retourne `None` (ou une valeur par défaut si spécifiée), ce qui évite de lever une exception (`KeyError`) comme avec l'accès direct par [].\n",
    "---"
   ]
  },
  {
   "cell_type": "markdown",
   "metadata": {},
   "source": [
    "## Étape 6 : Automatiser le processus avec une fonction\n",
    "\n",
    "Pour rendre le processus réutilisable, vous allez encapsuler le code dans une fonction qui prend en entrée l'URL du manifeste et le dossier chemin vers le dossier de téléchargement."
   ]
  },
  {
   "cell_type": "code",
   "execution_count": null,
   "metadata": {},
   "outputs": [],
   "source": [
    "# Votre code ici"
   ]
  },
  {
   "cell_type": "markdown",
   "metadata": {},
   "source": [
    "### Explications\n",
    "\n",
    "- **Définition de la fonction** : `download_images_from_manifest()` prend en entrée l'URL du manifeste et le nom du dossier de destination.\n",
    "- **Réutilisation du code** : L'objectif est d'encapsuler le code des étapes précédentes dans la fonction.\n",
    "- **Appel de la fonction** : N'oubliez pas d'appeler la fonction!\n",
    "\n",
    "---"
   ]
  },
  {
   "cell_type": "markdown",
   "metadata": {},
   "source": [
    "## Conclusion\n",
    "\n",
    "Dans cet exercice, nous avons appris à :\n",
    "\n",
    "- **Ouvrir et analyser un manifeste IIIF** pour extraire les URLs des images.\n",
    "- **Utiliser la bibliothèque `requests`** pour télécharger les images et gérer les codes de statut HTTP.\n",
    "- **Utiliser la bibliothèque `os`** pour construire les chemins d'enregistrement et gérer les fichiers.\n",
    "- **Utiliser la bibliothèque `PIL`** pour obtenir les caractéristiques des images téléchargées.\n",
    "- **Automatiser le processus avec une fonction** pour le rendre réutilisable.\n",
    "\n",
    "Ces compétences sont essentielles pour manipuler des ressources numériques dans le domaine de l'histoire numérique et pour gérer efficacement des collections d'images.\n",
    "\n",
    "---\n",
    "\n",
    "**Remarque** : Assurez-vous d'avoir une connexion Internet active lors de l'exécution de ce notebook, car il nécessite de télécharger des données en ligne.\n",
    "\n",
    "---"
   ]
  },
  {
   "cell_type": "markdown",
   "metadata": {},
   "source": [
    "# Exécution du notebook\n",
    "\n",
    "Vous pouvez maintenant exécuter ce notebook cellule par cellule pour tester le processus complet de téléchargement d'images depuis un manifeste IIIF.\n",
    "\n",
    "**Bon courage !**"
   ]
  }
 ],
 "metadata": {
  "kernelspec": {
   "display_name": "iiif_env",
   "language": "python",
   "name": "iiif_env"
  },
  "language_info": {
   "codemirror_mode": {
    "name": "ipython",
    "version": 3
   },
   "file_extension": ".py",
   "mimetype": "text/x-python",
   "name": "python",
   "nbconvert_exporter": "python",
   "pygments_lexer": "ipython3",
   "version": "3.8.0"
  }
 },
 "nbformat": 4,
 "nbformat_minor": 2
}
