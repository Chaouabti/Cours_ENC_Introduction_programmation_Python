{
 "cells": [
  {
   "cell_type": "markdown",
   "metadata": {},
   "source": [
    "# Cours de Python - Utilisation de l'API IIIF et manipulation de données 2"
   ]
  },
  {
   "cell_type": "markdown",
   "metadata": {},
   "source": [
    "---\n",
    "\n",
    "## Table des Matières\n",
    "\n",
    "1. [Révisions](#révisions)\n",
    "    - [Structure des manifestes](#structure-des-manifestes)\n",
    "        - [Les principales composantes](#les-principales-composantes)\n",
    "        - [Les canvas](#les-canvas)\n",
    "        - [Trouver l'URL de l'image](#trouver-lurl-de-limage)\n",
    "    - [Bibliothèque JSON](#bibliothèque-json)\n",
    "        - [Rappel sur la bibliothèque](#rappel-sur-la-bibliothèque)\n",
    "        - [Ouvrir un fichier JSON](#ouvrir-un-fichier-json)\n",
    "        - [Écrire et enregistrer un fichier JSON](#écrire-et-enregistrer-un-fichier-json)\n",
    "    - [La bibliothèque `os`](#la-bibliothèque-os)\n",
    "        - [Intérêt de `os`](#intérêt-de-os)\n",
    "        - [Création de filepath](#création-de-filepath)\n",
    "        - [Création de dossier](#création-de-dossier)\n",
    "2. [Télécharger des données avec la bibliothèque `requests`](#télécharger-des-données-avec-la-bibliothèque-requests)\n",
    "    - [Intérêt de la bibliothèque](#intérêt-de-la-bibliothèque)\n",
    "    - [Manipulation des codes et gestion des exceptions](#manipulation-des-codes-et-gestion-des-exceptions)\n",
    "    - [Méthode `get` et gérer les `status_code`](#méthode-get-et-gérer-les-status_code)\n",
    "    - [Téléchargement avec `requests'](#téléchargement-avec-requests)\n",
    "3. [Manipuler des images](#manipuler-des-images)\n",
    "    - [La bibliothèque PIL](#la-bibliothèque-pil)\n",
    "    - [Manipulation de base d'une image](#manipulation-de-base-dune-image)\n",
    "    - [Récupérer les données des images](#récupérer-les-données-des-images)\n",
    "\n",
    "---"
   ]
  },
  {
   "cell_type": "markdown",
   "metadata": {},
   "source": [
    "## Révisions\n",
    "\n",
    "### Structure des manifestes\n",
    "\n",
    "#### Les principales composantes\n",
    "\n",
    "Un **manifeste** est un document structuré qui décrit une ressource numérique complexe. Il est souvent utilisé pour représenter des collections d'images, de textes ou de médias. Dans le contexte de l'histoire numérique, les manifestes facilitent l'accès et l'interopérabilité des ressources historiques en ligne.\n",
    "\n",
    "- **Identifiant unique (`@id`)** : Un URL unique qui identifie le manifeste.\n",
    "- **Type (`@type`)** : Indique le type de ressource (par exemple, \"sc:Manifest\").\n",
    "- **Métadonnées (`metadata`)** : Informations sur la ressource, telles que le titre, le créateur, la date, etc.\n",
    "- **Séquences (`sequences`)** : Liste des séquences de contenu, généralement une seule séquence nommée \"normal\".\n",
    "- **Canvases (`canvases`)** : Représente les unités de contenu individuelles, comme les pages d'un livre, les folios d'un manuscrit ou les images d'une collection.\n",
    "\n",
    "Exemple d'un manifeste simplifié au format JSON :\n"
   ]
  },
  {
   "cell_type": "markdown",
   "metadata": {},
   "source": [
    "```json\n",
    "{\n",
    "  \"@context\": \"http://iiif.io/api/presentation/2/context.json\",\n",
    "  \"@id\": \"http://example.org/manifest.json\",\n",
    "  \"@type\": \"sc:Manifest\",\n",
    "  \"label\": \"Titre de la ressource\",\n",
    "  \"metadata\": [\n",
    "    {\n",
    "      \"label\": \"Créateur\",\n",
    "      \"value\": \"Nom du créateur\"\n",
    "    }\n",
    "  ],\n",
    "  \"sequences\": [\n",
    "    {\n",
    "      \"@type\": \"sc:Sequence\",\n",
    "      \"canvases\": [\n",
    "        {\n",
    "          \"@id\": \"http://example.org/canvas/p1\",\n",
    "          \"@type\": \"sc:Canvas\",\n",
    "          \"label\": \"Page 1\",\n",
    "          \"images\": [\n",
    "            {\n",
    "              \"@type\": \"oa:Annotation\",\n",
    "              \"motivation\": \"sc:painting\",\n",
    "              \"resource\": {\n",
    "                \"@id\": \"http://example.org/image/p1/full/full/0/default.jpg\",\n",
    "                \"@type\": \"dctypes:Image\",\n",
    "                \"format\": \"image/jpeg\",\n",
    "                \"width\": 1000,\n",
    "                \"height\": 1500\n",
    "              },\n",
    "              \"on\": \"http://example.org/canvas/p1\"\n",
    "            }\n",
    "          ]\n",
    "        }\n",
    "      ]\n",
    "    }\n",
    "  ]\n",
    "}\n",
    "```"
   ]
  },
  {
   "cell_type": "markdown",
   "metadata": {},
   "source": [
    "#### Les canvas\n",
    "\n",
    "Un **canvas** représente une unité de contenu, comme une page ou une image individuelle. Il est essentiel pour structurer et naviguer à travers une collection ou un document complexe.\n",
    "\n",
    "Propriétés d'un canvas :\n",
    "\n",
    "- **Identifiant (`@id`)** : URL unique du canvas.\n",
    "- **Type (`@type`)** : Généralement \"sc:Canvas\".\n",
    "- **Label** : Nom ou titre du canvas.\n",
    "- **Dimensions** : Largeur et hauteur du canvas.\n",
    "- **Images** : Liste des annotations d'images associées au canvas. L'annotation dans le contexte de IIIF contient des informations sur l'image, telles que :\n",
    "    - @type : Type de l'annotation, par exemple, \"Annotation\".\n",
    "    - motivation : But de l'annotation. Pour une image, c'est souvent \"sc:painting\", ce qui signifie qu'elle est peinte ou placée sur le canvas.\n",
    "    - resource : La ressource multimédia, souvent un lien vers l'image elle-même. Il peut contenir des détails sur la taille de l'image et des informations de type MIME (comme image/jpeg).\n",
    "    - on : Référence au canvas sur lequel l'image doit être affichée. Cela associe l'image à un endroit spécifique sur ce canvas."
   ]
  },
  {
   "cell_type": "markdown",
   "metadata": {},
   "source": [
    "```json\n",
    "{\n",
    "    \"@id\": \"https://www.e-codices.unifr.ch/metadata/iiif/bbb-0318/canvas/bbb-0318_001r.json\",\n",
    "    \"@type\": \"sc:Canvas\",\n",
    "    \"label\": \"1r\",\n",
    "    \"height\": 6496,\n",
    "    \"width\": 4872,\n",
    "    \"images\": [\n",
    "        {\n",
    "            \"@id\": \"https://www.e-codices.unifr.ch/metadata/iiif/bbb-0318/annotation/bbb-0318_001r.json\",\n",
    "            \"@type\": \"oa:Annotation\",\n",
    "            \"motivation\": \"sc:painting\",\n",
    "            \"on\": \"https://www.e-codices.unifr.ch/metadata/iiif/bbb-0318/canvas/bbb-0318_001r.json\",\n",
    "            \"resource\": {\n",
    "                \"@id\": \"https://www.e-codices.unifr.ch/loris/bbb/bbb-0318/bbb-0318_001r.jp2/full/full/0/default/jpg\",\n",
    "                \"@type\": \"dctypes:Image\",\n",
    "                \"format\": \"image/jpeg\",\n",
    "                \"height\": 6496,\n",
    "                \"width\": 4872,\n",
    "                \"service\": {\n",
    "                    \"@context\": \"http://iiif.io/api/image/2/context.json\",\n",
    "                    \"@id\": \"https://www.e-codices.unifr.ch/loris/bbb/bbb-0318/bbb-0318_001r.jp2\",\n",
    "                    \"profile\": \"http://iiif.io/api/image/2/level2.json\"\n",
    "                }\n",
    "            }\n",
    "        }\n",
    "    ]\n",
    "}"
   ]
  },
  {
   "cell_type": "markdown",
   "metadata": {},
   "source": [
    "#### Trouver l'URL de l'image\n",
    "\n",
    "Pour extraire l'URL d'une image spécifique à partir d'un manifeste, vous devez naviguer à travers la structure imbriquée du JSON."
   ]
  },
  {
   "cell_type": "markdown",
   "metadata": {},
   "source": [
    "Exemple en Python :\n",
    "\n",
    "```python\n",
    "import json\n",
    "\n",
    "# Charger le manifeste\n",
    "with open('manifest.json', 'r') as file:\n",
    "    manifest = json.load(file)\n",
    "\n",
    "# Accéder au premier canvas\n",
    "canvas = manifest['sequences'][0]['canvases'][0]\n",
    "\n",
    "# Accéder à l'annotation de l'image\n",
    "annotation = canvas['images'][0]\n",
    "\n",
    "# URL de l'image\n",
    "image_url = annotation['resource']['@id']\n",
    "\n",
    "print(\"URL de l'image :\", image_url)\n",
    "```"
   ]
  },
  {
   "cell_type": "code",
   "execution_count": 33,
   "metadata": {},
   "outputs": [],
   "source": [
    "import json\n",
    "\n",
    "def find_url_img(iiif_manifest):\n",
    "    with open(iiif_manifest, 'r') as file:\n",
    "        manifest = json.load(file)\n",
    "\n",
    "    # Accéder au premier canvas\n",
    "    canvas = manifest['sequences'][0]['canvases'][0]\n",
    "\n",
    "    # Accéder à l'annotation de l'image\n",
    "    annotation = canvas['images'][0]\n",
    "\n",
    "    # URL de l'image\n",
    "    image_url = annotation['resource']['@id']\n",
    "\n",
    "    print(\"URL de l'image :\", image_url)"
   ]
  },
  {
   "cell_type": "markdown",
   "metadata": {},
   "source": [
    "---\n",
    "\n",
    "### Bibliothèque JSON\n",
    "\n",
    "#### Rappel sur la bibliothèque\n",
    "\n",
    "La bibliothèque `json` est intégrée à Python et permet de travailler facilement avec des données au format JSON.\n",
    "\n",
    "- **JSON** (JavaScript Object Notation) est un format léger d'échange de données, facile à lire et à écrire pour les humains, et facile à analyser et générer pour les machines.\n",
    "\n",
    "#### Ouvrir un fichier JSON\n",
    "\n",
    "Pour lire un fichier JSON en Python :\n",
    "\n",
    "```python\n",
    "import json\n",
    "\n",
    "with open('data.json', 'r', encoding='utf-8') as file:\n",
    "    data = json.load(file)\n",
    "\n",
    "print(data)\n",
    "```\n",
    "\n",
    "Gestion des exceptions :\n",
    "\n",
    "```python\n",
    "try:\n",
    "    with open('data.json', 'r', encoding='utf-8') as file:\n",
    "        data = json.load(file)\n",
    "except json.JSONDecodeError as e:\n",
    "    print(\"Erreur lors du décodage JSON :\", e)\n",
    "except FileNotFoundError:\n",
    "    print(\"Fichier non trouvé.\")\n",
    "```"
   ]
  },
  {
   "cell_type": "markdown",
   "metadata": {},
   "source": [
    "#### Écrire et enregistrer un fichier JSON\n",
    "\n",
    "Pour écrire des données Python dans un fichier JSON :\n",
    "\n",
    "```python\n",
    "import json\n",
    "\n",
    "data = {\n",
    "    'name': 'Historien',\n",
    "    'projets': ['numérisation', 'analyse']\n",
    "}\n",
    "\n",
    "with open('output.json', 'w', encoding='utf-8') as file:\n",
    "    json.dump(data, file, indent=4, ensure_ascii=False)\n",
    "```\n",
    "\n",
    "Notes :\n",
    "\n",
    "- `indent=4` : pour une indentation de 4 espaces, améliore la lisibilité.\n",
    "- `ensure_ascii=False` : pour conserver les caractères spéciaux (accents, etc.).\n",
    "\n",
    "---"
   ]
  },
  {
   "cell_type": "markdown",
   "metadata": {},
   "source": [
    "### La bibliothèque `os`\n",
    "\n",
    "#### Intérêt de `os`\n",
    "\n",
    "La bibliothèque `os` permet d'interagir avec le système d'exploitation :\n",
    "\n",
    "- Gestion des fichiers et répertoires.\n",
    "- Exécution de commandes système.\n",
    "- Accès aux variables d'environnement."
   ]
  },
  {
   "cell_type": "markdown",
   "metadata": {},
   "source": [
    "#### Création de filepath\n",
    "\n",
    "Construction de chemins de fichiers de manière indépendante du système :\n",
    "\n",
    "```python\n",
    "import os\n",
    "\n",
    "# Chemin relatif\n",
    "chemin = os.path.join('dossier', 'sous_dossier', 'fichier.txt')\n",
    "print(chemin)\n",
    "\n",
    "# Chemin absolu\n",
    "chemin_absolu = os.path.abspath(chemin)\n",
    "print(chemin_absolu)\n",
    "```"
   ]
  },
  {
   "cell_type": "markdown",
   "metadata": {},
   "source": [
    "Fonctions utiles :\n",
    "\n",
    "- `os.path.exists(chemin)` : Vérifie si le chemin existe.\n",
    "- `os.path.dirname(chemin)` : Renvoie le répertoire parent.\n",
    "- `os.path.basename(chemin)` : Renvoie le nom du fichier."
   ]
  },
  {
   "cell_type": "markdown",
   "metadata": {},
   "source": [
    "#### Création de dossier\n",
    "\n",
    "Créer un seul dossier :\n",
    "\n",
    "```python\n",
    "import os\n",
    "\n",
    "dossier = 'nouveau_dossier'\n",
    "\n",
    "if not os.path.exists(dossier):\n",
    "    os.mkdir(dossier)\n",
    "    print(f\"Dossier '{dossier}' créé.\")\n",
    "else:\n",
    "    print(f\"Dossier '{dossier}' existe déjà.\")\n",
    "```"
   ]
  },
  {
   "cell_type": "markdown",
   "metadata": {},
   "source": [
    "Créer des répertoires imbriqués :\n",
    "\n",
    "```python\n",
    "dossiers = os.path.join('dossier1', 'dossier2', 'dossier3')\n",
    "\n",
    "if not os.path.exists(dossiers):\n",
    "    os.makedirs(dossiers)\n",
    "    print(f\"Dossiers '{dossiers}' créés.\")\n",
    "else:\n",
    "    print(f\"Dossiers '{dossiers}' existent déjà.\")\n",
    "```"
   ]
  },
  {
   "cell_type": "markdown",
   "metadata": {},
   "source": [
    "Gestion des exceptions :\n",
    "\n",
    "```python\n",
    "try:\n",
    "    os.makedirs(dossiers, exist_ok=True)\n",
    "except OSError as e:\n",
    "    if e.errno == os.errno.EEXIST:\n",
    "        print(\"Le dossier existe déjà.\")\n",
    "    else:\n",
    "        raise\n",
    "```\n",
    "\n",
    "Plus simplement \n",
    "\n",
    "```python\n",
    "os.makedirs(dossiers, exist_ok=True)\n",
    "```\n",
    "\n"
   ]
  },
  {
   "cell_type": "markdown",
   "metadata": {},
   "source": [
    "---\n",
    "\n",
    "## Télécharger des données avec la bibliothèque `requests`\n",
    "\n",
    "### Intérêt de la bibliothèque\n",
    "\n",
    "La bibliothèque `requests` simplifie les requêtes HTTP en Python :\n",
    "\n",
    "- Plus conviviale que le module intégré `urllib`.\n",
    "- Gère les sessions, les cookies, l'authentification, etc.\n",
    "- Bien documentée et largement utilisée.\n",
    "\n",
    "Installation :\n",
    "\n",
    "```bash\n",
    "pip install requests\n",
    "```"
   ]
  },
  {
   "cell_type": "markdown",
   "metadata": {},
   "source": [
    "### Manipulation des codes et gestion des exceptions\n",
    "\n",
    "Comprendre les codes de statut HTTP :\n",
    "\n",
    "- **200** : OK (succès).\n",
    "- **404** : Not Found (non trouvé).\n",
    "- **429** : Too Many Requests\n",
    "- **500** : Internal Server Error (erreur serveur).\n",
    "\n",
    "Exemple :"
   ]
  },
  {
   "cell_type": "code",
   "execution_count": null,
   "metadata": {},
   "outputs": [
    {
     "name": "stdout",
     "output_type": "stream",
     "text": [
      "Code de statut : 200\n"
     ]
    }
   ],
   "source": [
    "import requests\n",
    "\n",
    "response = requests.get('https://www.e-codices.unifr.ch/metadata/iiif/bbb-0318/manifest.json')\n",
    "\n",
    "print(\"Code de statut :\", response.status_code)"
   ]
  },
  {
   "cell_type": "markdown",
   "metadata": {},
   "source": [
    "### 2.3 Méthode `get` et gérer les `status_code`\n",
    "\n",
    "Gestion des erreurs :\n",
    "\n",
    "```python\n",
    "if response.status_code == 200:\n",
    "    data = response.json()\n",
    "else:\n",
    "    print(f\"Erreur {response.status_code} lors de la requête.\")\n",
    "```"
   ]
  },
  {
   "cell_type": "markdown",
   "metadata": {},
   "source": [
    "Exceptions de `requests` :\n",
    "\n",
    "```python\n",
    "import requests\n",
    "\n",
    "try:\n",
    "    response = requests.get('https://api.example.com/data')\n",
    "    response.raise_for_status()  # Lève une exception pour les codes d'erreur HTTP\n",
    "    data = response.json()\n",
    "except requests.exceptions.HTTPError as errh:\n",
    "    print(\"Erreur HTTP :\", errh)\n",
    "except requests.exceptions.ConnectionError as errc:\n",
    "    print(\"Erreur de connexion :\", errc)\n",
    "except requests.exceptions.Timeout as errt:\n",
    "    print(\"Délai d'attente dépassé :\", errt)\n",
    "except requests.exceptions.RequestException as err:\n",
    "    print(\"Erreur lors de la requête :\", err)\n",
    "```"
   ]
  },
  {
   "cell_type": "markdown",
   "metadata": {},
   "source": [
    "### Téléchargement avec `requests'\n",
    "\n",
    "#### Télécharger un manifeste depuis une URL :"
   ]
  },
  {
   "cell_type": "code",
   "execution_count": null,
   "metadata": {},
   "outputs": [],
   "source": [
    "import json\n",
    "import requests\n",
    "import os\n",
    "\n",
    "def download_manifest(manifest_url, output_folder, ms_name):\n",
    "    # URL du manifeste IIIF\n",
    "    manifest_url = 'https://www.e-codices.unifr.ch/metadata/iiif/bbb-0318/manifest.json'\n",
    "\n",
    "    # Télécharger le manifeste\n",
    "    response = requests.get(manifest_url)\n",
    "\n",
    "    # Vérifier que la requête s'est bien passée\n",
    "    if response.status_code == 200:\n",
    "        manifest = response.json()\n",
    "        print(\"Manifeste chargé avec succès.\")\n",
    "        manifest_path = os.path.join(output_folder, ms_name + '_manifest.json')\n",
    "        \n",
    "        # Save the manifest.json file in the destination folder\n",
    "        with open(manifest_path, 'wb') as f:\n",
    "            f.write(response.content)\n",
    "        print(f\"Manifeste téléchargé dans : {os.path.join(output_folder, ms_name + '_manifest.json')}\")\n",
    "    else:\n",
    "        print(f\"Erreur lors du chargement du manifeste : {response.status_code}\")"
   ]
  },
  {
   "cell_type": "markdown",
   "metadata": {},
   "source": [
    "#### Téléchargement d'image\n",
    "\n",
    "Télécharger une image depuis une URL :"
   ]
  },
  {
   "cell_type": "code",
   "execution_count": null,
   "metadata": {},
   "outputs": [
    {
     "name": "stdout",
     "output_type": "stream",
     "text": [
      "Image téléchargée avec succès.\n"
     ]
    }
   ],
   "source": [
    "import requests\n",
    "\n",
    "url = 'https://www.e-codices.unifr.ch/loris/bbb/bbb-0318/bbb-0318_001r.jp2/full/full/0/default/jpg'\n",
    "\n",
    "try:\n",
    "    response = requests.get(url)\n",
    "    response.raise_for_status()\n",
    "    \n",
    "    # Vérifier le type de contenu\n",
    "    if url.endswith('jpg'):\n",
    "        with open('image.jpg', 'wb') as file:\n",
    "            file.write(response.content)\n",
    "        print(\"Image téléchargée avec succès.\")\n",
    "    else:\n",
    "        print(\"URL ne pointe pas vers une image.\")\n",
    "except requests.exceptions.RequestException as e:\n",
    "    print(f\"Erreur lors du téléchargement : {e}\")\n"
   ]
  },
  {
   "cell_type": "markdown",
   "metadata": {},
   "source": [
    "## Manipuler des images\n",
    "\n",
    "### La bibliothèque PIL\n",
    "\n",
    "#### Présentation de PIL/Pillow\n",
    "\n",
    "- **PIL** : Python Imaging Library, bibliothèque historique pour la manipulation d'images.\n",
    "- **Pillow** : Fork de PIL, activement maintenu et compatible avec les versions récentes de Python.\n",
    "\n",
    "Installation :\n",
    "\n",
    "```bash\n",
    "pip install Pillow\n",
    "```\n",
    "\n",
    "Importation :\n",
    "\n",
    "```python\n",
    "from PIL import Image\n",
    "```"
   ]
  },
  {
   "cell_type": "markdown",
   "metadata": {},
   "source": [
    "### Manipulation de base d'une image\n",
    "\n",
    "#### Ouvrir et afficher une image"
   ]
  },
  {
   "cell_type": "code",
   "execution_count": null,
   "metadata": {},
   "outputs": [],
   "source": [
    "from PIL import Image\n",
    "\n",
    "image = Image.open('PATHTODOWLOAD/image.jpg')\n",
    "image.show()"
   ]
  },
  {
   "cell_type": "markdown",
   "metadata": {},
   "source": [
    "#### Redimensionner une image"
   ]
  },
  {
   "cell_type": "code",
   "execution_count": null,
   "metadata": {},
   "outputs": [],
   "source": [
    "nouvelle_image = image.resize((800, 600))\n",
    "nouvelle_image.save('image_redimensionnee.jpg')"
   ]
  },
  {
   "cell_type": "markdown",
   "metadata": {},
   "source": [
    "#### Rotation"
   ]
  },
  {
   "cell_type": "code",
   "execution_count": null,
   "metadata": {},
   "outputs": [],
   "source": [
    "image_rotated = image.rotate(90)\n",
    "image_rotated.save('image_rotated.jpg')"
   ]
  },
  {
   "cell_type": "markdown",
   "metadata": {},
   "source": [
    "#### Conversion de format"
   ]
  },
  {
   "cell_type": "code",
   "execution_count": null,
   "metadata": {},
   "outputs": [],
   "source": [
    "image.convert('L').save('image_grayscale.jpg')"
   ]
  },
  {
   "cell_type": "markdown",
   "metadata": {},
   "source": [
    "#### Recadrage"
   ]
  },
  {
   "cell_type": "code",
   "execution_count": 31,
   "metadata": {},
   "outputs": [],
   "source": [
    "box = (200, 900, 2400, 3500)  # (left, upper, right, lower)\n",
    "image_cropped = image.crop(box)\n",
    "image_cropped.save('image_cropped.jpg')"
   ]
  },
  {
   "cell_type": "markdown",
   "metadata": {},
   "source": [
    "### Récupérer les données des images\n",
    "\n",
    "#### Accéder aux métadonnées\n",
    "\n",
    "Informations de base :"
   ]
  },
  {
   "cell_type": "code",
   "execution_count": 32,
   "metadata": {},
   "outputs": [
    {
     "name": "stdout",
     "output_type": "stream",
     "text": [
      "Format : JPEG\n",
      "Taille : (4872, 6496)\n",
      "Absoluter path : /Users/marioncharpier/Documents/Cours_ENC/Cours_6_Utilisation de l’API IIIF et manipulation de données 2/image.jpg\n"
     ]
    }
   ],
   "source": [
    "print(f\"Format : {image.format}\")\n",
    "print(f\"Taille : {image.size}\")\n",
    "print(f\"Absoluter path : {image.filename}\")"
   ]
  },
  {
   "cell_type": "markdown",
   "metadata": {},
   "source": [
    "---\n",
    "\n",
    "### Conclusion\n",
    "\n",
    "En maîtrisant ces bibliothèques et techniques, vous serez en mesure de :\n",
    "\n",
    "- Manipuler des données structurées (JSON).\n",
    "- Interagir avec le système de fichiers.\n",
    "- Télécharger des ressources en ligne de manière efficace et sécurisée.\n",
    "- Traiter et analyser des images pour vos projets en histoire numérique.\n",
    "\n",
    "Ces compétences sont essentielles pour analyser, conserver et diffuser le patrimoine historique dans le contexte numérique actuel.\n",
    "\n",
    "---\n",
    "\n",
    "Vous pouvez utiliser ce notebook comme base pour vos propres projets, en adaptant et en étendant les exemples fournis.\n",
    "\n",
    "---"
   ]
  }
 ],
 "metadata": {
  "kernelspec": {
   "display_name": "iiif_env",
   "language": "python",
   "name": "iiif_env"
  },
  "language_info": {
   "codemirror_mode": {
    "name": "ipython",
    "version": 3
   },
   "file_extension": ".py",
   "mimetype": "text/x-python",
   "name": "python",
   "nbconvert_exporter": "python",
   "pygments_lexer": "ipython3",
   "version": "3.8.0"
  }
 },
 "nbformat": 4,
 "nbformat_minor": 2
}
