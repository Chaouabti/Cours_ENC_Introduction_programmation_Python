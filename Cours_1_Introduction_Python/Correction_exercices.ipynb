{
 "cells": [
  {
   "cell_type": "markdown",
   "metadata": {},
   "source": [
    "# **Solutions des exercices**"
   ]
  },
  {
   "cell_type": "markdown",
   "metadata": {},
   "source": [
    "## **Exercice 1 : Manipulation des types de données de base**"
   ]
  },
  {
   "cell_type": "code",
   "execution_count": null,
   "metadata": {},
   "outputs": [],
   "source": [
    "nombre = 10  # int\n",
    "pi = 3.14159  # float\n",
    "message = \"Ceci est une chaîne de caractères\"  # str\n",
    "est_utile = True  # bool\n",
    "\n",
    "print(nombre, type(nombre))\n",
    "print(pi, type(pi))\n",
    "print(message, type(message))\n",
    "print(est_utile, type(est_utile))"
   ]
  },
  {
   "cell_type": "markdown",
   "metadata": {},
   "source": [
    "## **Exercice 2 : Manipulation des listes**"
   ]
  },
  {
   "cell_type": "code",
   "execution_count": null,
   "metadata": {},
   "outputs": [],
   "source": [
    "films = [\"Inception\", \"Le Seigneur des Anneaux\", \"Matrix\", \"Interstellar\", \"Blade Runner\"]\n",
    "print(films[2])  # Troisième film\n",
    "\n",
    "films.append(\"Fight Club\")  # Ajouter un nouveau film\n",
    "films.sort()  # Trier la liste\n",
    "\n",
    "print(films)"
   ]
  },
  {
   "cell_type": "markdown",
   "metadata": {},
   "source": [
    "## **Exercice 3 : Utilisation des tuples**"
   ]
  },
  {
   "cell_type": "code",
   "execution_count": null,
   "metadata": {},
   "outputs": [],
   "source": [
    "jours = (\"Lundi\", \"Mardi\", \"Mercredi\", \"Jeudi\", \"Vendredi\", \"Samedi\", \"Dimanche\")\n",
    "print(jours)\n",
    "\n",
    "# Essayer de modifier un élément\n",
    "# jours[0] = \"Sunday\"  # Cela provoquera une erreur : TypeError"
   ]
  },
  {
   "cell_type": "markdown",
   "metadata": {},
   "source": [
    "## **Exercice 4 : Manipulation des dictionnaires**"
   ]
  },
  {
   "cell_type": "code",
   "execution_count": null,
   "metadata": {},
   "outputs": [],
   "source": [
    "livre = {\"titre\": \"1984\", \"auteur\": \"George Orwell\", \"année\": 1949}\n",
    "print(livre[\"titre\"])\n",
    "\n",
    "livre[\"pages\"] = 328\n",
    "print(livre)"
   ]
  },
  {
   "cell_type": "markdown",
   "metadata": {},
   "source": [
    "## **Exercice 5 : Manipulation de chaînes de caractères**"
   ]
  },
  {
   "cell_type": "code",
   "execution_count": null,
   "metadata": {},
   "outputs": [],
   "source": [
    "phrase = input(\"Entrez une phrase : \")\n",
    "mots = phrase.split(\" \")\n",
    "print(\"Nombre de mots :\", len(mots))\n",
    "print(\"Phrase en majuscules :\", phrase.upper())"
   ]
  },
  {
   "cell_type": "markdown",
   "metadata": {},
   "source": [
    "## **Exercice 6 : Vérification d'un nombre pair ou impair**\n"
   ]
  },
  {
   "cell_type": "code",
   "execution_count": null,
   "metadata": {},
   "outputs": [],
   "source": [
    "nombre = int(input(\"Entrez un nombre entier : \"))\n",
    "if nombre % 2 == 0:\n",
    "    print(\"Le nombre est pair.\")\n",
    "else:\n",
    "    print(\"Le nombre est impair.\")"
   ]
  },
  {
   "cell_type": "markdown",
   "metadata": {},
   "source": [
    "## **Exercice 7 : Calcul de la somme des nombres pairs de 1 à 100**"
   ]
  },
  {
   "cell_type": "code",
   "execution_count": null,
   "metadata": {},
   "outputs": [],
   "source": [
    "somme = 0\n",
    "for i in range(1, 101):\n",
    "    if i % 2 == 0:\n",
    "        somme += i\n",
    "print(\"La somme des nombres pairs de 1 à 100 est :\", somme)"
   ]
  },
  {
   "cell_type": "markdown",
   "metadata": {},
   "source": [
    "#### **Exercice 8 : Jeu de devinette**"
   ]
  },
  {
   "cell_type": "code",
   "execution_count": null,
   "metadata": {},
   "outputs": [],
   "source": [
    "import random\n",
    "\n",
    "nombre_secret = random.randint(1, 10)\n",
    "essai = None\n",
    "\n",
    "while essai != nombre_secret:\n",
    "    essai = int(input(\"Devinez le nombre entre 1 et 10 : \"))\n",
    "    if essai < nombre_secret:\n",
    "        print(\"Trop petit !\")\n",
    "    elif essai > nombre_secret:\n",
    "        print(\"Trop grand !\")\n",
    "    else:\n",
    "        print(\"Bravo, vous avez trouvé le nombre secret :\", nombre_secret)"
   ]
  }
 ],
 "metadata": {
  "language_info": {
   "name": "python"
  }
 },
 "nbformat": 4,
 "nbformat_minor": 2
}
