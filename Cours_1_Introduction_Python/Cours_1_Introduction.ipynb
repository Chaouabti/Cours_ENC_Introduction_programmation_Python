{
 "cells": [
  {
   "cell_type": "markdown",
   "metadata": {},
   "source": [
    "# **Cours 1 : Introduction à Python**\n",
    "\n",
    "## **Présentation du langage Python**\n",
    "\n",
    "Python est un langage de programmation interprété, orienté objet et de haut niveau, avec une syntaxe claire et facile à apprendre. Il est largement utilisé dans de nombreux domaines tels que le développement web, l'analyse de données, l'intelligence artificielle et, bien sûr, les humanités numériques.\n",
    "\n",
    "---\n",
    "\n",
    "## **Bases de la programmation en Python**\n",
    "\n",
    "### **Variables et types de données**\n",
    "\n",
    "#### **1. Types de données de base**\n",
    "\n",
    "##### **Integer (int) - Nombres entiers**"
   ]
  },
  {
   "cell_type": "code",
   "execution_count": 1,
   "metadata": {},
   "outputs": [
    {
     "name": "stdout",
     "output_type": "stream",
     "text": [
      "42\n",
      "<class 'int'>\n"
     ]
    }
   ],
   "source": [
    "nombre_entier = 42\n",
    "print(nombre_entier)\n",
    "print(type(nombre_entier))"
   ]
  },
  {
   "cell_type": "markdown",
   "metadata": {},
   "source": [
    "##### **Float - Nombres à virgule flottante**"
   ]
  },
  {
   "cell_type": "code",
   "execution_count": 2,
   "metadata": {},
   "outputs": [
    {
     "name": "stdout",
     "output_type": "stream",
     "text": [
      "3.14\n",
      "<class 'float'>\n"
     ]
    }
   ],
   "source": [
    "nombre_flottant = 3.14\n",
    "print(nombre_flottant)\n",
    "print(type(nombre_flottant))"
   ]
  },
  {
   "cell_type": "markdown",
   "metadata": {},
   "source": [
    "##### **String (str) - Chaînes de caractères**"
   ]
  },
  {
   "cell_type": "code",
   "execution_count": 3,
   "metadata": {},
   "outputs": [
    {
     "name": "stdout",
     "output_type": "stream",
     "text": [
      "Bonjour, Python!\n",
      "<class 'str'>\n"
     ]
    }
   ],
   "source": [
    "chaine_de_caracteres = \"Bonjour, Python!\"\n",
    "print(chaine_de_caracteres)\n",
    "print(type(chaine_de_caracteres))"
   ]
  },
  {
   "cell_type": "markdown",
   "metadata": {},
   "source": [
    "**f-strings** (formatage de chaînes introduit en Python 3.6) :"
   ]
  },
  {
   "cell_type": "code",
   "execution_count": 4,
   "metadata": {},
   "outputs": [
    {
     "name": "stdout",
     "output_type": "stream",
     "text": [
      "Je m'appelle Alice et j'ai 25 ans.\n"
     ]
    }
   ],
   "source": [
    "nom = \"Alice\"\n",
    "age = 25\n",
    "print(f\"Je m'appelle {nom} et j'ai {age} ans.\")"
   ]
  },
  {
   "cell_type": "markdown",
   "metadata": {},
   "source": [
    "##### **Booléen (bool) - Valeurs logiques**"
   ]
  },
  {
   "cell_type": "code",
   "execution_count": 5,
   "metadata": {},
   "outputs": [
    {
     "name": "stdout",
     "output_type": "stream",
     "text": [
      "True\n",
      "<class 'bool'>\n"
     ]
    }
   ],
   "source": [
    "est_vrai = True\n",
    "est_faux = False\n",
    "print(est_vrai)\n",
    "print(type(est_vrai))"
   ]
  },
  {
   "cell_type": "markdown",
   "metadata": {},
   "source": [
    "#### **Exercice 1 : Manipulation des types de données de base**\n",
    "Créez des variables pour chaque type de données de base (int, float, str, bool) avec des valeurs de votre choix et affichez-les."
   ]
  },
  {
   "cell_type": "markdown",
   "metadata": {},
   "source": [
    "*Solution :*"
   ]
  },
  {
   "cell_type": "code",
   "execution_count": 6,
   "metadata": {},
   "outputs": [],
   "source": [
    "# Votre code ici"
   ]
  },
  {
   "cell_type": "markdown",
   "metadata": {},
   "source": [
    "#### **2. Structures de données**\n",
    "\n",
    "##### **Listes**\n",
    "\n",
    "Une liste est une collection ordonnée et modifiable d'éléments.\n",
    "\n",
    "**Création d'une liste :**"
   ]
  },
  {
   "cell_type": "code",
   "execution_count": 7,
   "metadata": {},
   "outputs": [
    {
     "name": "stdout",
     "output_type": "stream",
     "text": [
      "['draco', 'unicorn', 'baslisk']\n"
     ]
    }
   ],
   "source": [
    "animals = [\"draco\", \"unicorn\", \"baslisk\"]\n",
    "print(animals)"
   ]
  },
  {
   "cell_type": "markdown",
   "metadata": {},
   "source": [
    "**Accéder aux éléments :**"
   ]
  },
  {
   "cell_type": "code",
   "execution_count": 8,
   "metadata": {},
   "outputs": [
    {
     "name": "stdout",
     "output_type": "stream",
     "text": [
      "draco\n",
      "baslisk\n"
     ]
    }
   ],
   "source": [
    "print(animals[0])  # Premier élément\n",
    "print(animals[-1])  # Dernier élément"
   ]
  },
  {
   "cell_type": "markdown",
   "metadata": {},
   "source": [
    "**Modifier un élément :**"
   ]
  },
  {
   "cell_type": "code",
   "execution_count": 9,
   "metadata": {},
   "outputs": [
    {
     "name": "stdout",
     "output_type": "stream",
     "text": [
      "['draco', 'amphisbena', 'baslisk']\n"
     ]
    }
   ],
   "source": [
    "animals[1] = \"amphisbena\"\n",
    "print(animals)"
   ]
  },
  {
   "cell_type": "markdown",
   "metadata": {},
   "source": [
    "**Méthodes utiles :**\n",
    "- `append()` : Ajouter un élément à la fin de la liste"
   ]
  },
  {
   "cell_type": "code",
   "execution_count": 10,
   "metadata": {},
   "outputs": [
    {
     "name": "stdout",
     "output_type": "stream",
     "text": [
      "['draco', 'amphisbena', 'baslisk', 'patnhera']\n"
     ]
    }
   ],
   "source": [
    "animals.append(\"patnhera\")\n",
    "print(animals)"
   ]
  },
  {
   "cell_type": "markdown",
   "metadata": {},
   "source": [
    "- `sort()` : Trier la liste"
   ]
  },
  {
   "cell_type": "code",
   "execution_count": 11,
   "metadata": {},
   "outputs": [
    {
     "name": "stdout",
     "output_type": "stream",
     "text": [
      "['draco', 'amphisbena', 'baslisk', 'patnhera']\n"
     ]
    }
   ],
   "source": [
    "animals.sort\n",
    "print(animals)"
   ]
  },
  {
   "cell_type": "markdown",
   "metadata": {},
   "source": [
    "##### **Exercice 2 : Manipulation des listes**\n",
    "\n",
    "Créez une liste contenant les noms de 5 de vos films préférés. Affichez le troisième film de la liste, ajoutez un nouveau film à la fin, puis triez la liste par ordre alphabétique.\n",
    "\n",
    "*Solution :*"
   ]
  },
  {
   "cell_type": "code",
   "execution_count": 12,
   "metadata": {},
   "outputs": [],
   "source": [
    "# Votre code ici"
   ]
  },
  {
   "cell_type": "markdown",
   "metadata": {},
   "source": [
    "##### **Tuples**\n",
    "\n",
    "Un tuple est similaire à une liste, mais il est immuable (non modifiable après sa création).\n",
    "\n",
    "**Création d'un tuple :**"
   ]
  },
  {
   "cell_type": "code",
   "execution_count": 13,
   "metadata": {},
   "outputs": [
    {
     "name": "stdout",
     "output_type": "stream",
     "text": [
      "('Add 11283', 'Aberdeen 24', 'Bern 318')\n"
     ]
    }
   ],
   "source": [
    "ms_list = (\"Add 11283\", \"Aberdeen 24\", \"Bern 318\")\n",
    "print(ms_list)"
   ]
  },
  {
   "cell_type": "markdown",
   "metadata": {},
   "source": [
    "**Accéder aux éléments :**"
   ]
  },
  {
   "cell_type": "code",
   "execution_count": 14,
   "metadata": {},
   "outputs": [
    {
     "name": "stdout",
     "output_type": "stream",
     "text": [
      "Add 11283\n"
     ]
    }
   ],
   "source": [
    "print(ms_list[0])"
   ]
  },
  {
   "cell_type": "markdown",
   "metadata": {},
   "source": [
    "##### **Exercice 3 : Utilisation des tuples**\n",
    "\n",
    "Créez un tuple avec les jours de la semaine. Essayez de modifier l'un des éléments du tuple et observez le résultat.\n",
    "\n",
    "*Solution :*"
   ]
  },
  {
   "cell_type": "code",
   "execution_count": 15,
   "metadata": {},
   "outputs": [],
   "source": [
    "# Votre code ici"
   ]
  },
  {
   "cell_type": "markdown",
   "metadata": {},
   "source": [
    "##### **Dictionnaires**\n",
    "\n",
    "Un dictionnaire est une collection non ordonnée de paires clé-valeur.\n",
    "\n",
    "**Création d'un dictionnaire :**"
   ]
  },
  {
   "cell_type": "code",
   "execution_count": 16,
   "metadata": {},
   "outputs": [
    {
     "name": "stdout",
     "output_type": "stream",
     "text": [
      "{'nom': 'David', 'âge': 34, 'ville': 'Paris'}\n"
     ]
    }
   ],
   "source": [
    "personne = {\"nom\": \"David\", \"âge\": 34, \"ville\": \"Paris\"}\n",
    "print(personne)"
   ]
  },
  {
   "cell_type": "markdown",
   "metadata": {},
   "source": [
    "**Accéder aux valeurs :**"
   ]
  },
  {
   "cell_type": "code",
   "execution_count": 17,
   "metadata": {},
   "outputs": [
    {
     "name": "stdout",
     "output_type": "stream",
     "text": [
      "David\n"
     ]
    }
   ],
   "source": [
    "print(personne[\"nom\"])"
   ]
  },
  {
   "cell_type": "markdown",
   "metadata": {},
   "source": [
    "**Ajouter une nouvelle paire clé-valeur :**"
   ]
  },
  {
   "cell_type": "code",
   "execution_count": 18,
   "metadata": {},
   "outputs": [
    {
     "name": "stdout",
     "output_type": "stream",
     "text": [
      "{'nom': 'David', 'âge': 34, 'ville': 'Paris', 'profession': 'Réalisateur'}\n"
     ]
    }
   ],
   "source": [
    "personne[\"profession\"] = \"Réalisateur\"\n",
    "print(personne)"
   ]
  },
  {
   "cell_type": "markdown",
   "metadata": {},
   "source": [
    "**Méthodes utiles :**\n",
    "\n",
    "- `keys()` : Retourne les clés du dictionnaire"
   ]
  },
  {
   "cell_type": "code",
   "execution_count": 19,
   "metadata": {},
   "outputs": [
    {
     "name": "stdout",
     "output_type": "stream",
     "text": [
      "dict_keys(['nom', 'âge', 'ville', 'profession'])\n"
     ]
    }
   ],
   "source": [
    "print(personne.keys())"
   ]
  },
  {
   "cell_type": "markdown",
   "metadata": {},
   "source": [
    "- `values()` : Retourne les valeurs du dictionnaire"
   ]
  },
  {
   "cell_type": "code",
   "execution_count": 20,
   "metadata": {},
   "outputs": [
    {
     "name": "stdout",
     "output_type": "stream",
     "text": [
      "dict_values(['David', 34, 'Paris', 'Réalisateur'])\n"
     ]
    }
   ],
   "source": [
    "print(personne.values())"
   ]
  },
  {
   "cell_type": "markdown",
   "metadata": {},
   "source": [
    "##### **Exercice 4 : Manipulation des dictionnaires**\n",
    "\n",
    "Créez un dictionnaire contenant des informations sur un livre (titre, auteur, année de publication). Affichez le titre du livre et ajoutez le nombre de pages au dictionnaire.\n",
    "\n",
    "*Solution :*"
   ]
  },
  {
   "cell_type": "code",
   "execution_count": 21,
   "metadata": {},
   "outputs": [],
   "source": [
    "# Votre code ici"
   ]
  },
  {
   "cell_type": "markdown",
   "metadata": {},
   "source": [
    "#### **Sets (Ensembles)**\n",
    "\n",
    "Les sets sont des collections non ordonnées d'éléments uniques.\n",
    "\n",
    "##### **Création d'un set**"
   ]
  },
  {
   "cell_type": "code",
   "execution_count": 22,
   "metadata": {},
   "outputs": [
    {
     "name": "stdout",
     "output_type": "stream",
     "text": [
      "{1, 2, 3, 4, 5}\n"
     ]
    }
   ],
   "source": [
    "mon_set = {1, 2, 3, 4, 5}\n",
    "print(mon_set)"
   ]
  },
  {
   "cell_type": "markdown",
   "metadata": {},
   "source": [
    "**Remarque** : Pour créer un set vide, utilisez `set()` et non `{}`, car `{}` crée un dictionnaire vide."
   ]
  },
  {
   "cell_type": "code",
   "execution_count": 23,
   "metadata": {},
   "outputs": [
    {
     "name": "stdout",
     "output_type": "stream",
     "text": [
      "set()\n"
     ]
    }
   ],
   "source": [
    "set_vide = set()\n",
    "print(set_vide)"
   ]
  },
  {
   "cell_type": "markdown",
   "metadata": {},
   "source": [
    "##### **Propriétés des sets**\n",
    "\n",
    "- **Pas d'indexation** : Vous ne pouvez pas accéder aux éléments par leur position.\n",
    "- **Éléments uniques** : Les doublons sont automatiquement supprimés."
   ]
  },
  {
   "cell_type": "code",
   "execution_count": 24,
   "metadata": {},
   "outputs": [
    {
     "name": "stdout",
     "output_type": "stream",
     "text": [
      "{1, 2, 3, 4, 5}\n"
     ]
    }
   ],
   "source": [
    "mon_set = {1, 2, 2, 3, 4, 4, 5}\n",
    "print(mon_set)  # Affiche {1, 2, 3, 4, 5}"
   ]
  },
  {
   "cell_type": "markdown",
   "metadata": {},
   "source": [
    "##### **Opérations ensemblistes**\n",
    "\n",
    "- **Union**"
   ]
  },
  {
   "cell_type": "code",
   "execution_count": 25,
   "metadata": {},
   "outputs": [
    {
     "name": "stdout",
     "output_type": "stream",
     "text": [
      "{1, 2, 3, 4, 5}\n"
     ]
    }
   ],
   "source": [
    "set1 = {1, 2, 3}\n",
    "set2 = {3, 4, 5}\n",
    "union = set1.union(set2)\n",
    "print(union)  # Affiche {1, 2, 3, 4, 5}"
   ]
  },
  {
   "cell_type": "markdown",
   "metadata": {},
   "source": [
    "- **Intersection**"
   ]
  },
  {
   "cell_type": "code",
   "execution_count": 26,
   "metadata": {},
   "outputs": [
    {
     "name": "stdout",
     "output_type": "stream",
     "text": [
      "{3}\n"
     ]
    }
   ],
   "source": [
    "intersection = set1.intersection(set2)\n",
    "print(intersection)  # Affiche {3}"
   ]
  },
  {
   "cell_type": "markdown",
   "metadata": {},
   "source": [
    "- **Différence**"
   ]
  },
  {
   "cell_type": "code",
   "execution_count": 27,
   "metadata": {},
   "outputs": [
    {
     "name": "stdout",
     "output_type": "stream",
     "text": [
      "{1, 2}\n"
     ]
    }
   ],
   "source": [
    "difference = set1.difference(set2)\n",
    "print(difference)  # Affiche {1, 2}"
   ]
  },
  {
   "cell_type": "markdown",
   "metadata": {},
   "source": [
    "- **Différence symétrique**"
   ]
  },
  {
   "cell_type": "code",
   "execution_count": 28,
   "metadata": {},
   "outputs": [
    {
     "name": "stdout",
     "output_type": "stream",
     "text": [
      "{1, 2, 4, 5}\n"
     ]
    }
   ],
   "source": [
    "difference_sym = set1.symmetric_difference(set2)\n",
    "print(difference_sym)  # Affiche {1, 2, 4, 5}"
   ]
  },
  {
   "cell_type": "markdown",
   "metadata": {},
   "source": [
    "##### **Méthodes courantes**\n",
    "- `add(element)`: Ajoute un élément."
   ]
  },
  {
   "cell_type": "code",
   "execution_count": 29,
   "metadata": {},
   "outputs": [
    {
     "name": "stdout",
     "output_type": "stream",
     "text": [
      "{1, 2, 3, 4, 5, 6}\n"
     ]
    }
   ],
   "source": [
    "mon_set.add(6)\n",
    "print(mon_set)"
   ]
  },
  {
   "cell_type": "markdown",
   "metadata": {},
   "source": [
    "- `remove(element)`: Supprime un élément (erreur si l'élément n'existe pas)."
   ]
  },
  {
   "cell_type": "code",
   "execution_count": 30,
   "metadata": {},
   "outputs": [],
   "source": [
    "mon_set.remove(2)"
   ]
  },
  {
   "cell_type": "markdown",
   "metadata": {},
   "source": [
    "- `discard(element)`: Supprime un élément (pas d'erreur si l'élément n'existe pas)."
   ]
  },
  {
   "cell_type": "code",
   "execution_count": 31,
   "metadata": {},
   "outputs": [],
   "source": [
    "mon_set.discard(10)  # Ne fait rien, pas d'erreur"
   ]
  },
  {
   "cell_type": "markdown",
   "metadata": {},
   "source": [
    "##### **Exercice : Manipulation des Sets**\n",
    "\n",
    "1. Créez un set `voyelles` contenant les lettres `'a'`, `'e'`, `'i'`, `'o'`, `'u'`.\n",
    "\n"
   ]
  },
  {
   "cell_type": "code",
   "execution_count": null,
   "metadata": {},
   "outputs": [],
   "source": [
    "# Votre code ici"
   ]
  },
  {
   "cell_type": "markdown",
   "metadata": {},
   "source": [
    "2. Entrer une phrase."
   ]
  },
  {
   "cell_type": "code",
   "execution_count": 32,
   "metadata": {},
   "outputs": [],
   "source": [
    "# Votre code ici"
   ]
  },
  {
   "cell_type": "markdown",
   "metadata": {},
   "source": [
    "3. Trouvez les voyelles utilisées dans la phrase."
   ]
  },
  {
   "cell_type": "code",
   "execution_count": 33,
   "metadata": {},
   "outputs": [],
   "source": [
    "# Votre code ici"
   ]
  },
  {
   "cell_type": "markdown",
   "metadata": {},
   "source": [
    "4. Affichez le nombre de voyelles différentes utilisées."
   ]
  },
  {
   "cell_type": "code",
   "execution_count": 34,
   "metadata": {},
   "outputs": [],
   "source": [
    "# Votre code ici"
   ]
  },
  {
   "cell_type": "markdown",
   "metadata": {},
   "source": [
    "### **Récapitulatif des Types de Données**\n",
    "\n",
    "- **Types de base** :\n",
    "  - **int** : Nombres entiers\n",
    "  - **float** : Nombres à virgule flottante\n",
    "  - **str** : Chaînes de caractères\n",
    "  - **bool** : Booléens (`True` ou `False`)\n",
    "\n",
    "- **Structures de données** :\n",
    "  - **Listes** : Séquences ordonnées et modifiables\n",
    "  - **Tuples** : Séquences ordonnées et immuables\n",
    "  - **Sets (Ensembles)** : Collections non ordonnées d'éléments uniques\n",
    "  - **Dictionnaires** : Collections non ordonnées de paires clé-valeur"
   ]
  },
  {
   "cell_type": "markdown",
   "metadata": {},
   "source": [
    "### **Opérateurs logiques et manipulation de variables**\n",
    "\n",
    "#### **1. Concaténation**\n",
    "\n",
    "Assembler des chaînes de caractères."
   ]
  },
  {
   "cell_type": "code",
   "execution_count": 35,
   "metadata": {},
   "outputs": [
    {
     "name": "stdout",
     "output_type": "stream",
     "text": [
      "Marion Chaouabti\n"
     ]
    }
   ],
   "source": [
    "prenom = \"Marion\"\n",
    "nom = \"Chaouabti\"\n",
    "nom_complet = prenom + \" \" + nom\n",
    "print(nom_complet)"
   ]
  },
  {
   "cell_type": "markdown",
   "metadata": {},
   "source": [
    "#### **2. Indexation**\n",
    "\n",
    "Accéder à un caractère spécifique dans une chaîne."
   ]
  },
  {
   "cell_type": "code",
   "execution_count": 36,
   "metadata": {},
   "outputs": [
    {
     "name": "stdout",
     "output_type": "stream",
     "text": [
      "P\n",
      "n\n"
     ]
    }
   ],
   "source": [
    "mot = \"Python\"\n",
    "print(mot[0])    # Premier caractère\n",
    "print(mot[-1])   # Dernier caractère"
   ]
  },
  {
   "cell_type": "markdown",
   "metadata": {},
   "source": [
    "#### **3. Tranchage (Slicing)**\n",
    "\n",
    "Obtenir une sous-chaîne."
   ]
  },
  {
   "cell_type": "code",
   "execution_count": 37,
   "metadata": {},
   "outputs": [
    {
     "name": "stdout",
     "output_type": "stream",
     "text": [
      "Draco\n",
      "maior\n"
     ]
    }
   ],
   "source": [
    "citation = \"Draco maior est animalibus\"\n",
    "print(citation[0:5])    # 'Draco'\n",
    "print(citation[6:11])   # 'maior'"
   ]
  },
  {
   "cell_type": "markdown",
   "metadata": {},
   "source": [
    "#### **4. Méthodes utiles**\n",
    "\n",
    "- `type()`: Obtenir le type d'une variable"
   ]
  },
  {
   "cell_type": "code",
   "execution_count": 38,
   "metadata": {},
   "outputs": [
    {
     "name": "stdout",
     "output_type": "stream",
     "text": [
      "<class 'str'>\n"
     ]
    }
   ],
   "source": [
    "print(type(mot))"
   ]
  },
  {
   "cell_type": "markdown",
   "metadata": {},
   "source": [
    "- `len()`: Obtenir la longueur d'une séquence"
   ]
  },
  {
   "cell_type": "code",
   "execution_count": 39,
   "metadata": {},
   "outputs": [
    {
     "name": "stdout",
     "output_type": "stream",
     "text": [
      "26\n"
     ]
    }
   ],
   "source": [
    "print(len(citation))"
   ]
  },
  {
   "cell_type": "markdown",
   "metadata": {},
   "source": [
    "- `split()`: Diviser une chaîne en une liste"
   ]
  },
  {
   "cell_type": "code",
   "execution_count": 40,
   "metadata": {},
   "outputs": [
    {
     "name": "stdout",
     "output_type": "stream",
     "text": [
      "['Draco', 'maior', 'est', 'animalibus']\n"
     ]
    }
   ],
   "source": [
    "mots = citation.split(\" \")\n",
    "print(mots)"
   ]
  },
  {
   "cell_type": "markdown",
   "metadata": {},
   "source": [
    "##### **Exercice 5 : Manipulation de chaînes de caractères**\n",
    "A partir du paragraphe suivant affichez le nombre de phrase et le nombre de mots contenus dans la troisième phrase.\n",
    "\n",
    "*Les Cyranides*, Hermès Trismégiste (attribué à)\n",
    "\n",
    "**III, 14. De la colombe.**\n",
    "La colombe est un oiseau connu de tous. Il existe dans l'Inde un\n",
    "arbre appelé péridexion ; son fruit est si doux et si bon que les\n",
    "colombes, après en avoir mangé restent dans l'arbre et y font\n",
    "leur nid. Le serpent craint cet arbre au point d'en fuir même\n",
    "l'ombre. Si l'ombre de l'arbre s'étend vers l'orient le serpent fuit\n",
    "vers l'occident ; si l'ombre vient vers l'occident, le serpent court\n",
    "vers l’orient ; et la puissance de l'arbre l'empêche d'attraper les\n",
    "colombes. Mais si quelqu'une des colombes s'éloigne de l'arbre, le\n",
    "serpent les attire par son souffle et les mange. Mais si elles\n",
    "s'envolent toutes ensemble, ni le serpent, ni les oiseaux au vol\n",
    "rapide n'osent les toucher. Les feuilles de l'arbre ou son écorce, en\n",
    "fumigations, chassent toute espèce de mal.\n",
    "\n"
   ]
  },
  {
   "cell_type": "markdown",
   "metadata": {},
   "source": [
    "*Solution :*"
   ]
  },
  {
   "cell_type": "code",
   "execution_count": 41,
   "metadata": {},
   "outputs": [],
   "source": [
    "# Votre code ici"
   ]
  },
  {
   "cell_type": "markdown",
   "metadata": {},
   "source": [
    "### **Structures de contrôle : conditions et boucles**\n",
    "\n",
    "#### **1. Conditions**\n",
    "\n",
    "##### **Structure `if`, `elif`, `else`**"
   ]
  },
  {
   "cell_type": "code",
   "execution_count": 42,
   "metadata": {},
   "outputs": [
    {
     "name": "stdout",
     "output_type": "stream",
     "text": [
      "Majeur\n"
     ]
    }
   ],
   "source": [
    "age = 20\n",
    "if age < 18:\n",
    "    print(\"Mineur\")\n",
    "elif age == 18:\n",
    "    print(\"Tout juste majeur\")\n",
    "else:\n",
    "    print(\"Majeur\")"
   ]
  },
  {
   "cell_type": "markdown",
   "metadata": {},
   "source": [
    "##### **Opérateurs de comparaison et logiques**\n",
    "\n",
    "- Opérateurs de comparaison : `==`, `!=`, `>`, `<`, `>=`, `<=`\n",
    "- Opérateurs logiques : `and`, `or`, `not`"
   ]
  },
  {
   "cell_type": "markdown",
   "metadata": {},
   "source": [
    "##### **Exercice 6 : Vérification d'un nombre pair ou impair**\n",
    "\n",
    "Créez un script qui permet d'indiquer si un nombre est pair ou impair"
   ]
  },
  {
   "cell_type": "markdown",
   "metadata": {},
   "source": [
    "*Solution :*"
   ]
  },
  {
   "cell_type": "code",
   "execution_count": 43,
   "metadata": {},
   "outputs": [],
   "source": [
    "# Votre code ici"
   ]
  },
  {
   "cell_type": "markdown",
   "metadata": {},
   "source": [
    "#### **2. Boucles bornées : `for`**\n",
    "\n",
    "Parcours d'une séquence (liste, chaîne, etc.)\n",
    "\n",
    "**Exemple avec une liste :**"
   ]
  },
  {
   "cell_type": "code",
   "execution_count": 44,
   "metadata": {},
   "outputs": [
    {
     "name": "stdout",
     "output_type": "stream",
     "text": [
      "draco\n",
      "unicorn\n",
      "baslisk\n"
     ]
    }
   ],
   "source": [
    "animals = [\"draco\", \"unicorn\", \"baslisk\"]\n",
    "for animal in animals:\n",
    "    print(animal)"
   ]
  },
  {
   "cell_type": "markdown",
   "metadata": {},
   "source": [
    "**Utilisation de `range()`:**"
   ]
  },
  {
   "cell_type": "code",
   "execution_count": 45,
   "metadata": {},
   "outputs": [
    {
     "name": "stdout",
     "output_type": "stream",
     "text": [
      "0\n",
      "1\n",
      "2\n",
      "3\n",
      "4\n"
     ]
    }
   ],
   "source": [
    "for i in range(5):\n",
    "    print(i)"
   ]
  },
  {
   "cell_type": "markdown",
   "metadata": {},
   "source": [
    "**Instructions `break` et `continue`:**\n",
    "\n",
    "- `break`: Sortir immédiatement de la boucle\n",
    "- `continue`: Passer à l'itération suivante\n",
    "\n",
    "**Exemple :**"
   ]
  },
  {
   "cell_type": "code",
   "execution_count": 46,
   "metadata": {},
   "outputs": [
    {
     "name": "stdout",
     "output_type": "stream",
     "text": [
      "0\n",
      "1\n",
      "2\n",
      "3\n",
      "4\n"
     ]
    }
   ],
   "source": [
    "for i in range(10):\n",
    "    if i == 5:\n",
    "        break\n",
    "    print(i)"
   ]
  },
  {
   "cell_type": "markdown",
   "metadata": {},
   "source": [
    "##### **Exercice 7 : Calcul de la somme des nombres pairs de 1 à 100**\n",
    "\n",
    "Calculez et affichez la somme de tous les nombres pairs entre 1 et 100 inclus."
   ]
  },
  {
   "cell_type": "markdown",
   "metadata": {},
   "source": [
    "*Solution :*"
   ]
  },
  {
   "cell_type": "code",
   "execution_count": 47,
   "metadata": {},
   "outputs": [],
   "source": [
    "# Votre code ici"
   ]
  },
  {
   "cell_type": "markdown",
   "metadata": {},
   "source": [
    "#### **3. Boucles non bornées : `while`**\n",
    "\n",
    "Exécute les instructions tant que la condition est vraie."
   ]
  },
  {
   "cell_type": "code",
   "execution_count": 48,
   "metadata": {},
   "outputs": [
    {
     "name": "stdout",
     "output_type": "stream",
     "text": [
      "Compteur : 0\n",
      "Compteur : 1\n",
      "Compteur : 2\n",
      "Compteur : 3\n",
      "Compteur : 4\n"
     ]
    }
   ],
   "source": [
    "compteur = 0\n",
    "while compteur < 5:\n",
    "    print(\"Compteur :\", compteur)\n",
    "    compteur += 1"
   ]
  },
  {
   "cell_type": "markdown",
   "metadata": {},
   "source": [
    "**Instructions `break` et `continue` fonctionnent également avec `while`.**"
   ]
  },
  {
   "cell_type": "markdown",
   "metadata": {},
   "source": [
    "##### **Exercice 8 : Jeu de devinette**\n",
    "\n",
    "L'ordinateur choisit un nombre aléatoire entre 1 et 10. L'utilisateur doit deviner le nombre. Indiquez si le nombre saisi est trop petit ou trop grand jusqu'à ce que l'utilisateur trouve le bon nombre.\n",
    "\n",
    "*Indice : Utilisez le module `random` pour générer un nombre aléatoire.*"
   ]
  },
  {
   "cell_type": "markdown",
   "metadata": {},
   "source": [
    "*Solution :*"
   ]
  },
  {
   "cell_type": "code",
   "execution_count": 49,
   "metadata": {},
   "outputs": [],
   "source": [
    "# Votre code ici"
   ]
  },
  {
   "cell_type": "markdown",
   "metadata": {},
   "source": [
    "### **Conclusion**\n",
    "\n",
    "Dans ce notebook, nous avons couvert les bases de la programmation en Python :\n",
    "\n",
    "- Les **types de données de base** et les **structures de données** (listes, tuples, dictionnaires)\n",
    "- Les **opérateurs** et les **méthodes utiles** pour manipuler les données\n",
    "- Les **structures de contrôle** avec les **conditions** et les **boucles**\n",
    "\n",
    "---"
   ]
  }
 ],
 "metadata": {
  "kernelspec": {
   "display_name": "3.12.6",
   "language": "python",
   "name": "python3"
  },
  "language_info": {
   "codemirror_mode": {
    "name": "ipython",
    "version": 3
   },
   "file_extension": ".py",
   "mimetype": "text/x-python",
   "name": "python",
   "nbconvert_exporter": "python",
   "pygments_lexer": "ipython3",
   "version": "3.12.6"
  }
 },
 "nbformat": 4,
 "nbformat_minor": 2
}
