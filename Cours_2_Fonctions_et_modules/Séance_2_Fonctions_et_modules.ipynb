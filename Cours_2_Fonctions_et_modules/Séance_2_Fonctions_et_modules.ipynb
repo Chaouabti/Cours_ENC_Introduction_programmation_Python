{
 "cells": [
  {
   "cell_type": "markdown",
   "metadata": {},
   "source": [
    "# **Atelier Pratique : Fonctions et Modules en Python**\n",
    "\n",
    "---\n",
    "Ce notebook est conçu pour vous aider à pratiquer les concepts abordés pendant le cours. Vous y trouverez des explications, des exemples et des exercices pour renforcer votre compréhension des fonctions et des modules en Python.\n",
    "\n",
    "---\n",
    "\n",
    "## **Plan du Notebook :**\n",
    "\n",
    "1. [Boucles et conditions](#boucles-et-conditions)\n",
    "    - Conditions : `if`, `elif`, `else`\n",
    "    - Boucles : `for`, `while`\n",
    "    - Instructions `break` et `continue`\n",
    "2. [Les Fonctions en Python](#Les-Fonctions-en-Python)\n",
    "    - Définition et utilisation\n",
    "    - Structure d’une fonction\n",
    "    - Concepts clés et bonnes pratiques\n",
    "    - Fonctions anonymes (`lambda`)\n",
    "3. [Les Modules en Python](#Les-Modules-en-Python)\n",
    "    - Qu’est-ce qu’un module ?\n",
    "    - Importation de modules et conventions\n",
    "    - Quelques modules utiles\n",
    "    - Création de modules personnalisés\n",
    "4. [Exercices Récapitulatifs](#Exercices-Récapitulatifs)\n",
    "\n",
    "---"
   ]
  },
  {
   "cell_type": "markdown",
   "metadata": {},
   "source": [
    "## Boucles et conditions\n",
    "\n",
    "### Conditions : `if`, `elif`, `else`\n",
    "\n",
    "Les structures conditionnelles permettent d'exécuter du code de manière sélective en fonction de conditions.\n",
    "\n",
    "**Syntaxe :**"
   ]
  },
  {
   "cell_type": "code",
   "execution_count": null,
   "metadata": {},
   "outputs": [],
   "source": [
    "if condition:\n",
    "    # Code si la condition est vraie\n",
    "elif autre_condition:\n",
    "    # Code si l'autre condition est vraie\n",
    "else:\n",
    "    # Code si aucune des conditions précédentes n'est vraie"
   ]
  },
  {
   "cell_type": "markdown",
   "metadata": {},
   "source": [
    "**Exemple :**"
   ]
  },
  {
   "cell_type": "code",
   "execution_count": null,
   "metadata": {},
   "outputs": [],
   "source": [
    "age = 20\n",
    "\n",
    "if age >= 18:\n",
    "    print(\"Vous êtes majeur.\")\n",
    "else:\n",
    "    print(\"Vous êtes mineur.\")"
   ]
  },
  {
   "cell_type": "markdown",
   "metadata": {},
   "source": [
    "#### **Exercice 1 :**\n",
    "\n",
    "Écrivez un programme qui demande à l'utilisateur d'entrer un nombre et qui indique si ce nombre est positif, négatif ou nul.\n",
    "\n",
    "*Hint* : utilisez la fontion input()"
   ]
  },
  {
   "cell_type": "code",
   "execution_count": null,
   "metadata": {},
   "outputs": [],
   "source": [
    "# Votre code ici"
   ]
  },
  {
   "cell_type": "markdown",
   "metadata": {},
   "source": [
    "### Boucles : `for`, `while`\n",
    "\n",
    "#### **Boucle `for`**\n",
    "\n",
    "La boucle `for` est utilisée pour parcourir les éléments d'une séquence (liste, chaîne de caractères, etc.).\n",
    "\n",
    "**Syntaxe :**"
   ]
  },
  {
   "cell_type": "code",
   "execution_count": null,
   "metadata": {},
   "outputs": [],
   "source": [
    "for élément in séquence:\n",
    "    # Code à exécuter pour chaque élément"
   ]
  },
  {
   "cell_type": "markdown",
   "metadata": {},
   "source": [
    "**Exemple :**"
   ]
  },
  {
   "cell_type": "code",
   "execution_count": null,
   "metadata": {
    "vscode": {
     "languageId": "plaintext"
    }
   },
   "outputs": [],
   "source": [
    "fruits = ['pomme', 'banane', 'cerise']\n",
    "\n",
    "for fruit in fruits:\n",
    "    print(fruit)"
   ]
  },
  {
   "cell_type": "markdown",
   "metadata": {},
   "source": [
    "#### **Exercice 2 :**\n",
    "\n",
    "Écrivez un programme qui affiche les nombres pairs de 0 à 20."
   ]
  },
  {
   "cell_type": "code",
   "execution_count": null,
   "metadata": {},
   "outputs": [],
   "source": [
    "# Votre code ici\n"
   ]
  },
  {
   "cell_type": "markdown",
   "metadata": {},
   "source": [
    "#### **Boucle `while`**\n",
    "\n",
    "La boucle `while` est utilisée pour répéter du code tant qu'une condition est vraie.\n",
    "\n",
    "**Syntaxe :**"
   ]
  },
  {
   "cell_type": "code",
   "execution_count": null,
   "metadata": {},
   "outputs": [],
   "source": [
    "while condition:\n",
    "    # Code à exécuter tant que la condition est vraie"
   ]
  },
  {
   "cell_type": "markdown",
   "metadata": {},
   "source": [
    "**Exemple :**"
   ]
  },
  {
   "cell_type": "markdown",
   "metadata": {},
   "source": [
    "compteur = 0\n",
    "\n",
    "while compteur < 5:\n",
    "    print(\"Compteur :\", compteur)\n",
    "    compteur += 1"
   ]
  },
  {
   "cell_type": "markdown",
   "metadata": {},
   "source": [
    "#### **Exercice 3 :**\n",
    "\n",
    "Écrivez un programme qui demande à l'utilisateur de deviner un nombre secret entre 1 et 10.\n",
    "\n",
    "*Hint* : utiliser random.randint(1, 10)"
   ]
  },
  {
   "cell_type": "code",
   "execution_count": null,
   "metadata": {},
   "outputs": [],
   "source": [
    "# Votre code ici"
   ]
  },
  {
   "cell_type": "markdown",
   "metadata": {},
   "source": [
    "### Instructions `break` et `continue`\n",
    "\n",
    "#### **`break`**\n",
    "\n",
    "L'instruction `break` permet de sortir immédiatement d'une boucle.\n",
    "\n",
    "**Exemple :**"
   ]
  },
  {
   "cell_type": "code",
   "execution_count": null,
   "metadata": {},
   "outputs": [],
   "source": [
    "for i in range(10):\n",
    "    if i == 5:\n",
    "        break\n",
    "    print(i)"
   ]
  },
  {
   "cell_type": "markdown",
   "metadata": {},
   "source": [
    "#### **`continue`**\n",
    "\n",
    "L'instruction `continue` permet de passer directement à l'itération suivante de la boucle.\n",
    "\n",
    "**Exemple :**"
   ]
  },
  {
   "cell_type": "code",
   "execution_count": null,
   "metadata": {},
   "outputs": [],
   "source": [
    "for i in range(10):\n",
    "    if i % 2 == 0:\n",
    "        continue\n",
    "    print(i)"
   ]
  },
  {
   "cell_type": "markdown",
   "metadata": {},
   "source": [
    "#### **Exercice 4 :**\n",
    "\n",
    "Écrivez un programme qui affiche les nombres de 1 à 10, mais qui saute le nombre 5."
   ]
  },
  {
   "cell_type": "code",
   "execution_count": null,
   "metadata": {},
   "outputs": [],
   "source": [
    "# Votre code ici"
   ]
  },
  {
   "cell_type": "markdown",
   "metadata": {},
   "source": [
    "---\n",
    "## Les Fonctions en Python\n",
    "\n",
    "### Définition et utilisation\n",
    "\n",
    "Une fonction est un bloc de code qui réalise une tâche spécifique et qui peut être réutilisé.\n",
    "\n",
    "**Syntaxe :**"
   ]
  },
  {
   "cell_type": "code",
   "execution_count": null,
   "metadata": {},
   "outputs": [],
   "source": [
    "def nom_de_la_fonction(paramètres):\n",
    "    # Corps de la fonction\n",
    "    return valeur_de_retour"
   ]
  },
  {
   "cell_type": "markdown",
   "metadata": {},
   "source": [
    "**Exemple :**"
   ]
  },
  {
   "cell_type": "code",
   "execution_count": null,
   "metadata": {},
   "outputs": [],
   "source": [
    "def saluer(nom):\n",
    "    return f\"Bonjour, {nom} !\"\n",
    "\n",
    "message = saluer(\"Marion\")\n",
    "print(message)"
   ]
  },
  {
   "cell_type": "markdown",
   "metadata": {},
   "source": [
    "### Structure d’une fonction\n",
    "\n",
    "- **Déclaration avec `def`**\n",
    "- **Paramètres d'entrée**\n",
    "- **Corps de la fonction**\n",
    "- **Valeur de retour avec `return`**"
   ]
  },
  {
   "cell_type": "markdown",
   "metadata": {},
   "source": [
    "#### **Exercice 5 :**\n",
    "\n",
    "Écrivez une fonction `aire_rectangle` qui prend en paramètres la longueur et la largeur d'un rectangle et qui retourne son aire."
   ]
  },
  {
   "cell_type": "code",
   "execution_count": null,
   "metadata": {},
   "outputs": [],
   "source": [
    "# Votre code ici"
   ]
  },
  {
   "cell_type": "markdown",
   "metadata": {},
   "source": [
    "### Concepts clés et bonnes pratiques pour les fonctions\n",
    "\n",
    "- **Paramètres vs Arguments**\n",
    "- **Portée des variables (locales vs globales)**\n",
    "- **Documentation avec les docstrings**\n",
    "- **Noms explicites pour les fonctions et paramètres**\n",
    "\n",
    "**Exemple avec docstring :**"
   ]
  },
  {
   "cell_type": "code",
   "execution_count": null,
   "metadata": {},
   "outputs": [],
   "source": [
    "def multiplier(a, b):\n",
    "    \"\"\"\n",
    "    Multiplie deux nombres et retourne le résultat.\n",
    "    :param a: Premier nombre\n",
    "    :param b: Deuxième nombre\n",
    "    :return: Produit de a et b\n",
    "    \"\"\"\n",
    "    return a * b"
   ]
  },
  {
   "cell_type": "markdown",
   "metadata": {},
   "source": [
    "### Fonction anonyme (`lambda`)\n",
    "\n",
    "Les fonctions lambda sont des fonctions anonymes, définies en une seule ligne.\n",
    "\n",
    "**Syntaxe :**"
   ]
  },
  {
   "cell_type": "code",
   "execution_count": null,
   "metadata": {},
   "outputs": [],
   "source": [
    "lambda paramètres : expression"
   ]
  },
  {
   "cell_type": "markdown",
   "metadata": {},
   "source": [
    "**Exemple :**"
   ]
  },
  {
   "cell_type": "code",
   "execution_count": null,
   "metadata": {},
   "outputs": [],
   "source": [
    "carré = lambda x: x ** 2\n",
    "print(carré(5))"
   ]
  },
  {
   "cell_type": "markdown",
   "metadata": {},
   "source": [
    "#### **Exercice 6 :**\n",
    "\n",
    "Utilisez une fonction lambda pour trier la liste suivante en fonction du deuxième élément de chaque tuple."
   ]
  },
  {
   "cell_type": "code",
   "execution_count": null,
   "metadata": {},
   "outputs": [],
   "source": [
    "# Votre code ici"
   ]
  },
  {
   "cell_type": "markdown",
   "metadata": {},
   "source": [
    "---\n",
    "## Les Modules en Python\n",
    "\n",
    "### Qu’est-ce qu’un module ?\n",
    "\n",
    "Un module est un fichier Python contenant des fonctions, classes et variables regroupées par fonctionnalité.\n",
    "\n",
    "### Importation de modules et conventions\n",
    "\n",
    "- **Importation standard :**"
   ]
  },
  {
   "cell_type": "code",
   "execution_count": null,
   "metadata": {},
   "outputs": [],
   "source": [
    "import math\n",
    "print(math.pi)"
   ]
  },
  {
   "cell_type": "markdown",
   "metadata": {},
   "source": [
    "- **Importation partielle :**"
   ]
  },
  {
   "cell_type": "code",
   "execution_count": null,
   "metadata": {},
   "outputs": [],
   "source": [
    "from math import sqrt\n",
    "print(sqrt(16))"
   ]
  },
  {
   "cell_type": "markdown",
   "metadata": {},
   "source": [
    "- **Alias avec `as` :**"
   ]
  },
  {
   "cell_type": "code",
   "execution_count": null,
   "metadata": {},
   "outputs": [],
   "source": [
    "import numpy as np"
   ]
  },
  {
   "cell_type": "markdown",
   "metadata": {},
   "source": [
    "#### **Exercice 7 :**\n",
    "\n",
    "Importez le module `random` et utilisez la fonction `randint` pour générer un nombre entier aléatoire entre 1 et 100."
   ]
  },
  {
   "cell_type": "code",
   "execution_count": null,
   "metadata": {},
   "outputs": [],
   "source": [
    "# Votre code ici"
   ]
  },
  {
   "cell_type": "markdown",
   "metadata": {},
   "source": [
    "### Quelques modules utiles\n",
    "\n",
    "- `math` : Fonctions mathématiques\n",
    "- `random` : Génération de nombres aléatoires\n",
    "- `datetime` : Manipulation des dates et heures\n",
    "- `os` : Interactions avec le système d'exploitation\n",
    "- `sys` : Accès à certaines variables utilisées ou maintenues par l'interpréteur"
   ]
  },
  {
   "cell_type": "markdown",
   "metadata": {},
   "source": [
    "#### **Exercice 8 :**\n",
    "\n",
    "Utilisez le module `datetime` pour afficher la date et l'heure actuelles."
   ]
  },
  {
   "cell_type": "code",
   "execution_count": null,
   "metadata": {},
   "outputs": [],
   "source": [
    "# Votre code ici"
   ]
  },
  {
   "cell_type": "markdown",
   "metadata": {},
   "source": [
    "### Création de modules personnalisés\n",
    "\n",
    "#### **Étape 1 :** Créer un fichier `mon_module.py`\n",
    "\n",
    "Placez le code suivant dans un fichier nommé `mon_module.py`."
   ]
  },
  {
   "cell_type": "code",
   "execution_count": null,
   "metadata": {},
   "outputs": [],
   "source": [
    "# mon_module.py\n",
    "\n",
    "def saluer(nom):\n",
    "    return f\"Bonjour, {nom} !\"\n",
    "\n",
    "def addition(a, b):\n",
    "    return a + b"
   ]
  },
  {
   "cell_type": "markdown",
   "metadata": {},
   "source": [
    "import mon_module\n",
    "\n",
    "print(mon_module.saluer(\"Alice\"))\n",
    "print(mon_module.addition(5, 7))"
   ]
  },
  {
   "cell_type": "markdown",
   "metadata": {},
   "source": [
    "#### **Étape 2 :** Importer votre module"
   ]
  },
  {
   "cell_type": "code",
   "execution_count": null,
   "metadata": {},
   "outputs": [],
   "source": [
    "import mon_module\n",
    "\n",
    "print(mon_module.saluer(\"Alice\"))\n",
    "print(mon_module.addition(5, 7))"
   ]
  },
  {
   "cell_type": "markdown",
   "metadata": {},
   "source": [
    "*Note :* Assurez-vous que le fichier `mon_module.py` est dans le même répertoire que votre notebook."
   ]
  },
  {
   "cell_type": "markdown",
   "metadata": {},
   "source": [
    "---\n",
    "## Exercices Récapitulatifs\n",
    "\n",
    "### **Exercice 9 : Jeu Pierre-Papier-Ciseaux**\n",
    "\n",
    "Créez un programme qui permet à l'utilisateur de jouer à Pierre-Papier-Ciseaux contre l'ordinateur.\n",
    "\n",
    "**Instructions :**\n",
    "\n",
    "- L'ordinateur fait un choix aléatoire entre \"pierre\", \"papier\" et \"ciseaux\".\n",
    "- L'utilisateur saisit son choix.\n",
    "- Le programme détermine le gagnant en fonction des règles du jeu.\n",
    "- Le programme gère les entrées invalides."
   ]
  },
  {
   "cell_type": "code",
   "execution_count": null,
   "metadata": {},
   "outputs": [],
   "source": [
    "# Votre code ici"
   ]
  },
  {
   "cell_type": "markdown",
   "metadata": {},
   "source": []
  },
  {
   "cell_type": "markdown",
   "metadata": {},
   "source": [
    "\n",
    "\n",
    "\n",
    "\n",
    "```python\n",
    "# math_personnalisé.py\n",
    "\n",
    "def addition(a, b):\n",
    "    return a + b\n",
    "\n",
    "def soustraction(a, b):\n",
    "    return a - b\n",
    "\n",
    "def multiplication(a, b):\n",
    "    return a * b\n",
    "\n",
    "def division(a, b):\n",
    "    if b != 0:\n",
    "        return a / b\n",
    "    else:\n",
    "        return \"Erreur : Division par zéro\"\n",
    "```\n",
    "\n",
    "2. **Utilisez ce module dans votre programme de calculatrice.**\n",
    "\n",
    "```python\n",
    "# Votre code ici\n",
    "import math_personnalisé as mp\n",
    "\n",
    "print(\"Sélectionnez l'opération :\")\n",
    "print(\"1. Addition\")\n",
    "print(\"2. Soustraction\")\n",
    "print(\"3. Multiplication\")\n",
    "print(\"4. Division\")\n",
    "\n",
    "choix = input(\"Entrez votre choix (1/2/3/4) : \")\n",
    "\n",
    "num1 = float(input(\"Entrez le premier nombre : \"))\n",
    "num2 = float(input(\"Entrez le deuxième nombre : \"))\n",
    "\n",
    "if choix == '1':\n",
    "    print(f\"Résultat : {mp.addition(num1, num2)}\")\n",
    "elif choix == '2':\n",
    "    print(f\"Résultat : {mp.soustraction(num1, num2)}\")\n",
    "elif choix == '3':\n",
    "    print(f\"Résultat : {mp.multiplication(num1, num2)}\")\n",
    "elif choix == '4':\n",
    "    print(f\"Résultat : {mp.division(num1, num2)}\")\n",
    "else:\n",
    "    print(\"Choix invalide.\")\n",
    "```\n",
    "\n",
    "*Note :* Assurez-vous que le fichier `math_personnalisé.py` est dans le même répertoire que votre notebook.\n",
    "\n",
    "---\n",
    "\n",
    "## **Félicitations !**\n",
    "\n",
    "Vous avez terminé les exercices de ce notebook. N'hésitez pas à revenir sur les sections précédentes pour réviser ou approfondir les notions abordées.\n",
    "\n",
    "---\n",
    "\n",
    "**Ressources supplémentaires :**\n",
    "\n",
    "- [Documentation officielle Python](https://docs.python.org/3/)\n",
    "- [Tutoriels Python sur OpenClassrooms](https://openclassrooms.com/fr/courses/235344-apprenez-a-programmer-en-python)\n",
    "- [W3Schools Python Tutorial](https://www.w3schools.com/python/)\n",
    "\n",
    "---"
   ]
  }
 ],
 "metadata": {
  "language_info": {
   "name": "python"
  }
 },
 "nbformat": 4,
 "nbformat_minor": 2
}
