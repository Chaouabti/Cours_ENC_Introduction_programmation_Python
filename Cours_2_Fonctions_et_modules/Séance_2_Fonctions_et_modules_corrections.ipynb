{
 "cells": [
  {
   "cell_type": "markdown",
   "metadata": {},
   "source": [
    "# Corrections des exercices"
   ]
  },
  {
   "cell_type": "markdown",
   "metadata": {},
   "source": [
    "## **Exercice 1 :**\n",
    "\n",
    "Écrivez un programme qui demande à l'utilisateur d'entrer un nombre et qui indique si ce nombre est positif, négatif ou nul.\n",
    "\n",
    "*Hint* : utilisez la fontion input()"
   ]
  },
  {
   "cell_type": "code",
   "execution_count": 5,
   "metadata": {},
   "outputs": [
    {
     "name": "stdout",
     "output_type": "stream",
     "text": [
      "Le nombre est positif.\n"
     ]
    }
   ],
   "source": [
    "# Réponse\n",
    "nombre = float(input(\"Entrez un nombre : \"))\n",
    "\n",
    "if nombre > 0:\n",
    "    print(\"Le nombre est positif.\")\n",
    "elif nombre < 0:\n",
    "    print(\"Le nombre est négatif.\")\n",
    "else:\n",
    "    print(\"Le nombre est nul.\")"
   ]
  },
  {
   "cell_type": "markdown",
   "metadata": {},
   "source": [
    "## **Exercice 2 :**\n",
    "\n",
    "Écrivez un programme qui affiche les nombres pairs de 0 à 20."
   ]
  },
  {
   "cell_type": "markdown",
   "metadata": {},
   "source": [
    "for i in range(0, 21, 2):\n",
    "    print(i)"
   ]
  },
  {
   "cell_type": "markdown",
   "metadata": {},
   "source": [
    "## **Exercice 3 :**\n",
    "\n",
    "Écrivez un programme qui demande à l'utilisateur de deviner un nombre secret entre 1 et 10.\n",
    "\n",
    "*Hint* : utiliser random.randint(1, 10)"
   ]
  },
  {
   "cell_type": "code",
   "execution_count": 6,
   "metadata": {},
   "outputs": [
    {
     "name": "stdout",
     "output_type": "stream",
     "text": [
      "C'est plus grand.\n",
      "C'est plus grand.\n",
      "Bravo ! Vous avez trouvé le nombre secret.\n"
     ]
    }
   ],
   "source": [
    "import random\n",
    "\n",
    "nombre_secret = random.randint(1, 10)\n",
    "devine = False\n",
    "\n",
    "while not devine:\n",
    "    essai = int(input(\"Devinez le nombre entre 1 et 10 : \"))\n",
    "    if essai == nombre_secret:\n",
    "        print(\"Bravo ! Vous avez trouvé le nombre secret.\")\n",
    "        devine = True\n",
    "    elif essai < nombre_secret:\n",
    "        print(\"C'est plus grand.\")\n",
    "    else:\n",
    "        print(\"C'est plus petit.\")"
   ]
  },
  {
   "cell_type": "markdown",
   "metadata": {},
   "source": [
    "#### **Exercice 4 :**\n",
    "\n",
    "Écrivez un programme qui affiche les nombres de 1 à 10, mais qui saute le nombre 5."
   ]
  },
  {
   "cell_type": "code",
   "execution_count": 7,
   "metadata": {},
   "outputs": [
    {
     "name": "stdout",
     "output_type": "stream",
     "text": [
      "1\n",
      "2\n",
      "3\n",
      "4\n",
      "6\n",
      "7\n",
      "8\n",
      "9\n",
      "10\n"
     ]
    }
   ],
   "source": [
    "for i in range(1, 11):\n",
    "    if i == 5:\n",
    "        continue\n",
    "    print(i)"
   ]
  },
  {
   "cell_type": "markdown",
   "metadata": {},
   "source": [
    "#### **Exercice 5 :**\n",
    "\n",
    "Écrivez une fonction `aire_rectangle` qui prend en paramètres la longueur et la largeur d'un rectangle et qui retourne son aire."
   ]
  },
  {
   "cell_type": "code",
   "execution_count": 8,
   "metadata": {},
   "outputs": [
    {
     "name": "stdout",
     "output_type": "stream",
     "text": [
      "L'aire du rectangle est : 15\n"
     ]
    }
   ],
   "source": [
    "def aire_rectangle(longueur, largeur):\n",
    "    return longueur * largeur\n",
    "\n",
    "# Test de la fonction\n",
    "l, L = 5, 3\n",
    "print(f\"L'aire du rectangle est : {aire_rectangle(l, L)}\")"
   ]
  },
  {
   "cell_type": "markdown",
   "metadata": {},
   "source": [
    "#### **Exercice 6 :**\n",
    "\n",
    "Utilisez une fonction lambda pour trier la liste suivante en fonction du deuxième élément de chaque tuple."
   ]
  },
  {
   "cell_type": "code",
   "execution_count": 9,
   "metadata": {},
   "outputs": [
    {
     "name": "stdout",
     "output_type": "stream",
     "text": [
      "[(10, -1), (5, 0), (4, 1), (1, 2)]\n"
     ]
    }
   ],
   "source": [
    "points = [(1, 2), (4, 1), (5, 0), (10, -1)]\n",
    "sorted_points = sorted(points, key=lambda point: point[1])\n",
    "print(sorted_points)"
   ]
  },
  {
   "cell_type": "markdown",
   "metadata": {},
   "source": [
    "#### **Exercice 7 :**\n",
    "\n",
    "Importez le module `random` et utilisez la fonction `randint` pour générer un nombre entier aléatoire entre 1 et 100."
   ]
  },
  {
   "cell_type": "code",
   "execution_count": 10,
   "metadata": {},
   "outputs": [
    {
     "name": "stdout",
     "output_type": "stream",
     "text": [
      "Nombre aléatoire généré : 45\n"
     ]
    }
   ],
   "source": [
    "import random\n",
    "\n",
    "nombre_aleatoire = random.randint(1, 100)\n",
    "print(f\"Nombre aléatoire généré : {nombre_aleatoire}\")"
   ]
  },
  {
   "cell_type": "markdown",
   "metadata": {},
   "source": [
    "#### **Exercice 8 :**\n",
    "\n",
    "Utilisez le module `datetime` pour afficher la date et l'heure actuelles."
   ]
  },
  {
   "cell_type": "code",
   "execution_count": 11,
   "metadata": {},
   "outputs": [
    {
     "name": "stdout",
     "output_type": "stream",
     "text": [
      "Date et heure actuelles : 2024-10-07 23:35:14.361809\n"
     ]
    }
   ],
   "source": [
    "from datetime import datetime\n",
    "\n",
    "maintenant = datetime.now()\n",
    "print(\"Date et heure actuelles :\", maintenant)"
   ]
  },
  {
   "cell_type": "markdown",
   "metadata": {},
   "source": [
    "## Exercices Récapitulatifs\n",
    "\n",
    "### **Exercice 10 : Jeu Pierre-Papier-Ciseaux**\n",
    "\n",
    "Créez un programme qui permet à l'utilisateur de jouer à Pierre-Papier-Ciseaux contre l'ordinateur.\n",
    "\n",
    "**Instructions :**\n",
    "\n",
    "- L'ordinateur fait un choix aléatoire entre \"pierre\", \"papier\" et \"ciseaux\".\n",
    "- L'utilisateur saisit son choix.\n",
    "- Le programme détermine le gagnant en fonction des règles du jeu.\n",
    "- Le programme gère les entrées invalides."
   ]
  },
  {
   "cell_type": "code",
   "execution_count": 12,
   "metadata": {},
   "outputs": [
    {
     "name": "stdout",
     "output_type": "stream",
     "text": [
      "Ordinateur a choisi : papier\n",
      "Vous perdez.\n"
     ]
    }
   ],
   "source": [
    "import random\n",
    "\n",
    "options = [\"pierre\", \"papier\", \"ciseaux\"]\n",
    "ordinateur = random.choice(options)\n",
    "utilisateur = input(\"Choisissez pierre, papier ou ciseaux : \").lower()\n",
    "\n",
    "if utilisateur not in options:\n",
    "    print(\"Choix invalide.\")\n",
    "else:\n",
    "    print(f\"Ordinateur a choisi : {ordinateur}\")\n",
    "    if utilisateur == ordinateur:\n",
    "        print(\"Égalité.\")\n",
    "    elif (utilisateur == \"pierre\" and ordinateur == \"ciseaux\") or \\\n",
    "         (utilisateur == \"papier\" and ordinateur == \"pierre\") or \\\n",
    "         (utilisateur == \"ciseaux\" and ordinateur == \"papier\"):\n",
    "        print(\"Vous gagnez !\")\n",
    "    else:\n",
    "        print(\"Vous perdez.\")"
   ]
  }
 ],
 "metadata": {
  "kernelspec": {
   "display_name": "3.12.6",
   "language": "python",
   "name": "python3"
  },
  "language_info": {
   "codemirror_mode": {
    "name": "ipython",
    "version": 3
   },
   "file_extension": ".py",
   "mimetype": "text/x-python",
   "name": "python",
   "nbconvert_exporter": "python",
   "pygments_lexer": "ipython3",
   "version": "3.12.6"
  }
 },
 "nbformat": 4,
 "nbformat_minor": 2
}
