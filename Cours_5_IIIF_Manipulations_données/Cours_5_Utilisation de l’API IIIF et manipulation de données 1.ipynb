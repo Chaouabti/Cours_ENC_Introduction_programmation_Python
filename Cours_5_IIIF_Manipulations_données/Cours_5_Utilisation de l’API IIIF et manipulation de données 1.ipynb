{
 "cells": [
  {
   "cell_type": "markdown",
   "metadata": {},
   "source": [
    "# Cours de Python - IIIF et Manipulation de Fichiers Historiques 1\n",
    "\n",
    "---\n",
    "\n",
    "## Table des Matières\n",
    "\n",
    "1. [Révisions](#Révisions)\n",
    "    - [Héritage](#Héritage)\n",
    "        - [Qu'est-ce que l'héritage en POO ?](#Qu'est-ce-que-l'héritage-en-POO-?)\n",
    "        - [Utilisation de `super()`](#Utilisation-de-super--)\n",
    "        - [Exemple pratique](#Exemple-pratique)\n",
    "    - [Les décorateurs](#Les-décorateurs)\n",
    "        - [Qu'est-ce qu'un décorateur en Python ?](#Qu'est-ce-qu'un-décorateur-en-Python-?)\n",
    "        - [Pourquoi utiliser des décorateurs ?](#Pourquoi-utiliser-des-décorateurs-?)\n",
    "        - [Comment fonctionnent les décorateurs ?](#Comment-fonctionnent-les-décorateurs-?)\n",
    "    - [Les paramètres `*args` et `**kwargs`](#Les-paramètres-args-et-kwargs)\n",
    "        - [Utilisation de `*args`](#Utilisation-de-args)\n",
    "        - [Utilisation de `**kwargs`](#Utilisation-de-kwargs)\n",
    "        - [Combinaison de `*args` et `**kwargs`](#Combinaison-de-args-et-kwargs)\n",
    "2. [Introduction à IIIF](#Introduction-à-IIIF)\n",
    "    - [Qu'est-ce que IIIF ?](#Qu'est-ce-que-IIIF-?)\n",
    "    - [Les API IIIF](#Les-API-IIIF)\n",
    "3. [Structure des Manifestes IIIF](#Structure-des-Manifestes-IIIF)\n",
    "    - [Le format JSON-LD](#Le-format-JSON-LD)\n",
    "    - [Composants d'un manifeste IIIF](#Composants-d'un-manifeste-IIIF)\n",
    "4. [La bibliothèque `json`](#La-bibliothèque-json)\n",
    "    - [Chargement de données JSON](#Chargement-de-données-JSON)\n",
    "    - [Écriture de données JSON](#Écriture-de-données-JSON)\n",
    "5. [Parcourir un manifeste IIIF](#Parcourir-un-manifeste-IIIF)\n",
    "    - [Chargement du manifeste](#Chargement-du-manifeste)\n",
    "    - [Extraction des métadonnées historiques](#Extraction-des-métadonnées-historiques)\n",
    "6. [Manipuler des images avec `PIL`](#Manipuler-des-images-avec-PIL)\n",
    "    - [Chargement et affichage d'images historiques](#Chargement-et-affichage-d'images-historiques)\n",
    "    - [Transformation d'images](#Transformation-d'images)\n",
    "7. [Gérer le téléchargement avec `os` et `requests`](#Gérer-le-téléchargement-avec-os-et-requests)\n",
    "    - [Création de répertoires pour les documents historiques](#Création-de-répertoires-pour-les-documents-historiques)\n",
    "    - [Téléchargement d'images à partir de manifestes IIIF](#Téléchargement-d'images-à-partir-de-manifestes-IIIF)\n",
    "8. [Téléchargement multiple d’images](#Téléchargement-multiple-d’images)\n",
    "    - [Boucle de téléchargement](#Boucle-de-téléchargement)\n",
    "    - [Améliorations possibles](#Améliorations-possibles)\n",
    "\n",
    "    ----"
   ]
  },
  {
   "cell_type": "markdown",
   "metadata": {},
   "source": [
    "## Révisions\n",
    "\n",
    "### Héritage\n",
    "\n",
    "#### Qu'est-ce que l'héritage en POO ?\n",
    "\n",
    "L'héritage est un mécanisme en programmation orientée objet (POO) qui permet à une classe (appelée **classe enfant** ou **sous-classe**) d'hériter des attributs et méthodes d'une autre classe (appelée **classe parente** ou **super-classe**).\n",
    "\n",
    "- **But** : Réutiliser du code existant, établir une hiérarchie entre les classes pour une meilleure organisation.\n",
    "\n",
    "#### Utilisation de `super()`\n",
    "\n",
    "La fonction `super()` est utilisée pour appeler des méthodes ou des constructeurs de la classe parente.\n",
    "\n",
    "- **Avantages** :\n",
    "  - Assure une initialisation correcte des attributs hérités.\n",
    "  - Permet de réutiliser le code de la classe parente."
   ]
  },
  {
   "cell_type": "markdown",
   "metadata": {},
   "source": [
    "#### Exemple pratique\n",
    "\n",
    "Imaginons que nous travaillons sur des documents historiques et que nous voulons modéliser des types de documents."
   ]
  },
  {
   "cell_type": "code",
   "execution_count": null,
   "metadata": {},
   "outputs": [],
   "source": [
    "class DocumentHistorique:\n",
    "    def __init__(self, titre, date):\n",
    "        self.titre = titre\n",
    "        self.date = date\n",
    "\n",
    "    def afficher_info(self):\n",
    "        print(f\"Titre : {self.titre}\")\n",
    "        print(f\"Date : {self.date}\")\n",
    "\n",
    "# Classe enfant\n",
    "class Manuscrit(DocumentHistorique):\n",
    "    def __init__(self, titre, date, auteur):\n",
    "        super().__init__(titre, date)\n",
    "        self.auteur = auteur\n",
    "\n",
    "    def afficher_info(self):\n",
    "        super().afficher_info()\n",
    "        print(f\"Auteur : {self.auteur}\")"
   ]
  },
  {
   "cell_type": "code",
   "execution_count": null,
   "metadata": {},
   "outputs": [],
   "source": [
    "manuscrit = Manuscrit(\"Bestiaire divin\", \"XIIIe siècle\", \"Guillaume le Clerc\")\n",
    "manuscrit.afficher_info()"
   ]
  },
  {
   "cell_type": "markdown",
   "metadata": {},
   "source": [
    "#### Exercice\n",
    "\n",
    "Créez une classe `Lettre` qui hérite de `DocumentHistorique` qui ajoute un attribut `destinataire` et modifie la méthode `afficher_info`"
   ]
  },
  {
   "cell_type": "code",
   "execution_count": null,
   "metadata": {},
   "outputs": [],
   "source": [
    "# Votre code ici"
   ]
  },
  {
   "cell_type": "markdown",
   "metadata": {},
   "source": [
    "---\n",
    "\n",
    "### Les décorateurs\n",
    "\n",
    "#### Qu'est-ce qu'un décorateur en Python ?\n",
    "\n",
    "Un **décorateur** est une fonction qui prend en entrée une autre fonction et retourne une nouvelle fonction avec un comportement modifié ou étendu.\n",
    "\n",
    "- **But** : Modifier le comportement d'une fonction sans changer son code source.\n",
    "\n",
    "#### Pourquoi utiliser des décorateurs ?\n",
    "\n",
    "- **Réutilisation du code** : Appliquer le même comportement à plusieurs fonctions.\n",
    "- **Séparation des préoccupations** : Isoler le code additionnel du code principal.\n",
    "\n",
    "#### Comment fonctionnent les décorateurs ?\n",
    "\n",
    "Créons un décorateur qui journalise les appels de fonctions, ce qui peut être utile pour suivre les manipulations sur des documents historiques."
   ]
  },
  {
   "cell_type": "code",
   "execution_count": 1,
   "metadata": {},
   "outputs": [
    {
     "name": "stdout",
     "output_type": "stream",
     "text": [
      "Appel de la fonction 'analyser_document' avec les arguments ('The Aberdeen bestiary', '1200') {}\n",
      "Analyse du document 'The Aberdeen bestiary' datant de 1200.\n",
      "Fin de l'appel de 'analyser_document'\n"
     ]
    }
   ],
   "source": [
    "def journaliser(fonction):\n",
    "    def nouvelle_fonction(*args, **kwargs):\n",
    "        print(f\"Appel de la fonction '{fonction.__name__}' avec les arguments {args} {kwargs}\")\n",
    "        resultat = fonction(*args, **kwargs)\n",
    "        print(f\"Fin de l'appel de '{fonction.__name__}'\")\n",
    "        return resultat\n",
    "    return nouvelle_fonction\n",
    "\n",
    "# Utilisation du décorateur\n",
    "@journaliser\n",
    "def analyser_document(titre, date):\n",
    "    print(f\"Analyse du document '{titre}' datant de {date}.\")\n",
    "\n",
    "# Appel de la fonction\n",
    "analyser_document(\"The Aberdeen bestiary\", \"1200\")"
   ]
  },
  {
   "cell_type": "markdown",
   "metadata": {},
   "source": [
    "#### Exercice\n",
    "\n",
    "Créez un décorateur `verifier_permissions` qui vérifie si un utilisateur a le droit d'accéder à une fonction (par exemple, pour éditer un document historique).\n",
    "\n",
    "```python\n",
    "def verifier_permissions(fonction):\n",
    "    def wrapper(*args, **kwargs):\n",
    "        utilisateur_autorise = False  # Changez à True pour tester l'accès autorisé\n",
    "        if utilisateur_autorise:\n",
    "            return fonction(*args, **kwargs)\n",
    "        else:\n",
    "            print(\"Accès refusé : vous n'avez pas les permissions nécessaires.\")\n",
    "    return wrapper\n",
    "\n",
    "@verifier_permissions\n",
    "def editer_document(titre):\n",
    "    print(f\"Édition du document '{titre}'.\")\n",
    "\n",
    "# Testez la fonction\n",
    "editer_document(\"Code d'Hammurabi\")"
   ]
  },
  {
   "cell_type": "code",
   "execution_count": null,
   "metadata": {},
   "outputs": [],
   "source": [
    "# Votre code ici"
   ]
  },
  {
   "cell_type": "markdown",
   "metadata": {},
   "source": [
    "---\n",
    "\n",
    "### Les paramètres `*args` et `**kwargs`\n",
    "\n",
    "#### Utilisation de `*args`\n",
    "\n",
    "- **`*args`** permet de passer un nombre variable d'arguments positionnels à une fonction.\n",
    "- Les arguments sont accessibles sous forme de **tuple**."
   ]
  },
  {
   "cell_type": "code",
   "execution_count": null,
   "metadata": {},
   "outputs": [],
   "source": [
    "def lister_evenements(*evenements):\n",
    "    print(\"Liste des événements historiques :\")\n",
    "    for evenement in evenements:\n",
    "        print(f\"- {evenement}\")\n",
    "\n",
    "# Utilisation\n",
    "lister_evenements(\"Fondation de l'Empire akkadien\", \"Civilisation minoenne\", \"Chute de Rome\", \"Règne de saint Louis\")"
   ]
  },
  {
   "cell_type": "markdown",
   "metadata": {},
   "source": [
    "#### Utilisation de `**kwargs`\n",
    "\n",
    "- **`**kwargs`** permet de passer un nombre variable d'arguments nommés à une fonction.\n",
    "- Les arguments sont accessibles sous forme de **dictionnaire**."
   ]
  },
  {
   "cell_type": "code",
   "execution_count": null,
   "metadata": {},
   "outputs": [],
   "source": [
    "def afficher_informations_document(**infos):\n",
    "    print(\"Informations sur le document :\")\n",
    "    for cle, valeur in infos.items():\n",
    "        print(f\"{cle} : {valeur}\")\n",
    "\n",
    "# Utilisation\n",
    "afficher_informations_document(titre=\"De animalibus\", auteur= 'Albertus Magnus', date=\"1270\", lieu=\"Cologne\")"
   ]
  },
  {
   "cell_type": "markdown",
   "metadata": {},
   "source": [
    "#### Combinaison de `*args` et `**kwargs`\n",
    "\n",
    "- Les deux paramètres peuvent être passés simultanment à une fonction. \n",
    "- **A noter** : `args` et `kwargs` sont des convebtions de nommage vous pouvez passer le nom des arguments que vous souhaitez en respectant `*` pour les arguments positionnels et `**` pour les arguments nommés."
   ]
  },
  {
   "cell_type": "code",
   "execution_count": null,
   "metadata": {},
   "outputs": [],
   "source": [
    "def fonction_mixte(*args, **kwargs):\n",
    "    print(\"Arguments positionnels :\", args)\n",
    "    print(\"Arguments nommés :\", kwargs)\n",
    "\n",
    "# Utilisation\n",
    "fonction_mixte(\"Renaissance\", \"Moyen Âge\", periode1=\"Antiquité\", periode2=\"Époque moderne\")"
   ]
  },
  {
   "cell_type": "markdown",
   "metadata": {},
   "source": [
    "---\n",
    "\n",
    "## Introduction à IIIF\n",
    "\n",
    "### Qu'est-ce que IIIF ?\n",
    "\n",
    "- **IIIF** : International Image Interoperability Framework\n",
    "- **Objectif** : Fournir un cadre d'interopérabilité pour diffuser, présenter et annoter des images et documents historiques sur le Web.\n",
    "\n",
    "### Les API IIIF\n",
    "\n",
    "- **API Présentation** : Décrit la structure, les métadonnées et les liens d'une ressource numérique.\n",
    "- **API Image** : Permet d'accéder et de manipuler des images en haute résolution via une syntaxe d'URL standard.\n",
    "\n",
    "---\n",
    "\n",
    "## Structure des Manifestes IIIF\n",
    "\n",
    "### Le format JSON-LD\n",
    "\n",
    "- **JSON-LD** : Extension de JSON pour intégrer des données liées (Linked Data).\n",
    "- Permet d'ajouter du contexte aux données pour une meilleure interopérabilité.\n",
    "\n",
    "### Composants d'un manifeste IIIF\n",
    "\n",
    "- **`@context`** : Définit le contexte JSON-LD.\n",
    "- **`@id`** : Identifiant unique de la ressource.\n",
    "- **`@type`** : Type de la ressource (e.g., `sc:Manifest`).\n",
    "- **`label`** : Titre ou nom de la ressource.\n",
    "- **`metadata`** : Liste de métadonnées supplémentaires.\n",
    "- **`items`** ou **`sequences`** : Liste des éléments structurants (pages, images).\n",
    "\n",
    "---"
   ]
  },
  {
   "cell_type": "markdown",
   "metadata": {},
   "source": [
    "## La bibliothèque `json`\n",
    "\n",
    "### Chargement de données JSON\n",
    "\n",
    "La bibliothèque `json` est essentielle pour manipuler des données au format JSON, comme les manifestes IIIF."
   ]
  },
  {
   "cell_type": "code",
   "execution_count": null,
   "metadata": {},
   "outputs": [],
   "source": [
    "import json\n",
    "\n",
    "# Charger un fichier JSON local\n",
    "with open('document_historique.json', 'r', encoding='utf-8') as fichier:\n",
    "    data = json.load(fichier)\n",
    "\n",
    "# Charger des données JSON depuis une chaîne\n",
    "json_str = '{\"titre\": \"Déclaration d\\'indépendance des États-Unis\", \"date\": \"1776\"}'\n",
    "data = json.loads(json_str)\n",
    "print(data)"
   ]
  },
  {
   "cell_type": "markdown",
   "metadata": {},
   "source": [
    "### Écriture de données JSON"
   ]
  },
  {
   "cell_type": "code",
   "execution_count": null,
   "metadata": {},
   "outputs": [],
   "source": [
    "import json\n",
    "\n",
    "# Écrire des données dans un fichier JSON\n",
    "document = {\n",
    "    'titre': 'Constitution française',\n",
    "    'date': '1791',\n",
    "    'auteurs': ['Assemblée nationale']\n",
    "}\n",
    "with open('constitution_1791.json', 'w', encoding='utf-8') as fichier:\n",
    "    json.dump(document, fichier, indent=4, ensure_ascii=False)"
   ]
  },
  {
   "cell_type": "markdown",
   "metadata": {},
   "source": [
    "- **Note** : L'option `ensure_ascii=False` permet de conserver les caractères spéciaux (accents) lors de l'écriture.\n",
    "\n",
    "---"
   ]
  },
  {
   "cell_type": "markdown",
   "metadata": {},
   "source": [
    "## Parcourir un manifeste IIIF\n",
    "\n",
    "### Chargement du manifeste\n",
    "\n",
    "Nous allons travailler avec le manifeste de **Gallica** :"
   ]
  },
  {
   "cell_type": "code",
   "execution_count": null,
   "metadata": {},
   "outputs": [],
   "source": [
    "import json\n",
    "\n",
    "def open_json(json_file):\n",
    "        with open(json_file, 'r') as readable_json:\n",
    "                manifeste = json.load(readable_json)\n",
    "        return manifeste"
   ]
  },
  {
   "cell_type": "code",
   "execution_count": null,
   "metadata": {},
   "outputs": [],
   "source": []
  },
  {
   "cell_type": "markdown",
   "metadata": {},
   "source": [
    "### Extraction des métadonnées historiques\n",
    "\n",
    "Deux manières de parcourir un manifeste : \n",
    "- Comme un dictionaire en appelant les clés et les valeurs (Exemple 1)\n",
    "- En parcourant simplement les clés (Exemple 1) : plus fluide pour récupérer les données qui nous intéresse et parourir la structure"
   ]
  },
  {
   "cell_type": "code",
   "execution_count": null,
   "metadata": {},
   "outputs": [],
   "source": [
    "iiif_manifest = open_json('pathtomanifeste')\n",
    "\n",
    "# Exemple 1\n",
    "for key, value in iiif_manifest.items():\n",
    "    print(key)\n",
    "\n",
    "# Exemple 2\n",
    "for item in iiif_manifest:\n",
    "    print(item)\n",
    "\n",
    "# Avantage de la deuxième pour taper sur les clés qui nous intéresse\n",
    "# id = iiif_manifest['@id']"
   ]
  },
  {
   "cell_type": "markdown",
   "metadata": {},
   "source": [
    "#### Exercice\n",
    "\n",
    "- Chargez l'un des manifestes suivants :\n",
    "\n",
    "  - **BVMM** : `https://bvmm.irht.cnrs.fr/iiif/22470/manifest`\n",
    "  - **e-codices** : `https://www.e-codices.unifr.ch/metadata/iiif/bbb-0318/manifest.json`\n",
    "\n",
    "- Affichez le titre et les métadonnées du manifeste."
   ]
  },
  {
   "cell_type": "code",
   "execution_count": null,
   "metadata": {},
   "outputs": [],
   "source": [
    "# Votre code ici"
   ]
  },
  {
   "cell_type": "markdown",
   "metadata": {},
   "source": [
    "---\n",
    "\n",
    "## Manipuler des images avec `PIL`\n",
    "\n",
    "### Chargement et affichage d'images historiques\n",
    "\n",
    "Nous allons manipuler des images issus de l'un des manifestes précédents"
   ]
  },
  {
   "cell_type": "code",
   "execution_count": null,
   "metadata": {},
   "outputs": [],
   "source": [
    "from PIL import Image\n",
    "\n",
    "# Ouvrir une image locale\n",
    "image = Image.open('pathto/img.jpg')\n",
    "\n",
    "# Afficher l'image\n",
    "image.show()"
   ]
  },
  {
   "cell_type": "markdown",
   "metadata": {},
   "source": [
    "### Transformation d'images\n",
    "\n",
    "Par exemple, nous pouvons améliorer la lisibilité d'un manuscrit ancien."
   ]
  },
  {
   "cell_type": "code",
   "execution_count": null,
   "metadata": {},
   "outputs": [],
   "source": [
    "# Convertir en niveaux de gris\n",
    "image_gris = image.convert('L')\n",
    "\n",
    "# Augmenter le contraste\n",
    "from PIL import ImageEnhance\n",
    "\n",
    "enhancer = ImageEnhance.Contrast(image_gris)\n",
    "image_contraste = enhancer.enhance(2)  # Augmenter le contraste par un facteur de 2\n",
    "\n",
    "# Enregistrer l'image modifiée\n",
    "image_contraste.save('images_historique/page1_contraste.jpg')\n",
    "\n",
    "# Afficher l'image modifiée\n",
    "image_contraste.show()"
   ]
  },
  {
   "cell_type": "markdown",
   "metadata": {},
   "source": [
    "#### Exercice interactif\n",
    "\n",
    "- Chargez une image  de votre choix.\n",
    "- Effectuez les opérations suivantes :\n",
    "  - Redimensionnez l'image pour qu'elle ait une largeur de 800 pixels tout en conservant le ratio.\n",
    "  - Appliquez un filtre de netteté pour améliorer la lisibilité (parcourir la doc : https://pillow.readthedocs.io/en/stable/reference/ImageFilter.html)."
   ]
  },
  {
   "cell_type": "code",
   "execution_count": null,
   "metadata": {},
   "outputs": [],
   "source": [
    "# Votre code ici"
   ]
  },
  {
   "cell_type": "markdown",
   "metadata": {},
   "source": [
    "---\n",
    "\n",
    "## Gérer le téléchargement avec `os` et `requests`\n",
    "\n",
    "### Création de répertoires pour les documents historiques"
   ]
  },
  {
   "cell_type": "code",
   "execution_count": 2,
   "metadata": {},
   "outputs": [
    {
     "name": "stdout",
     "output_type": "stream",
     "text": [
      "Dossier 'pathtofolder' créé.\n"
     ]
    }
   ],
   "source": [
    "import os\n",
    "\n",
    "# Chemin du répertoire\n",
    "dossier_images = 'pathtofolder'\n",
    "\n",
    "# Créer le répertoire s'il n'existe pas\n",
    "if not os.path.exists(dossier_images):\n",
    "    os.makedirs(dossier_images)\n",
    "    print(f\"Dossier '{dossier_images}' créé.\")\n",
    "else:\n",
    "    print(f\"Dossier '{dossier_images}' existe déjà.\")"
   ]
  },
  {
   "cell_type": "markdown",
   "metadata": {},
   "source": [
    "### Téléchargement d'images à partir de manifestes IIIF\n",
    "\n",
    "Nous allons télécharger une image à partir du manifeste chargé précédemment, en suivant les étapes :\n",
    "- Ouvrir le manifeste en ligne\n",
    "- Parcourir la structure pour trouver l'url de la première image\n",
    "- L'enregistrer dans un dossier spécifique avec comme nom `image_(numéro canvas + 1)`"
   ]
  },
  {
   "cell_type": "code",
   "execution_count": null,
   "metadata": {},
   "outputs": [],
   "source": [
    "import requests\n",
    "import os\n",
    "import time\n",
    "\n",
    "def download_image_from_url(image_url: str, dir_path: str, request_pause: int) -> None:\n",
    "    \"\"\"\n",
    "    Télécharge une image à partir d'une URL et l'enregistre sous forme de fichier.\n",
    "\n",
    "    Paramètres :\n",
    "    - image_url (str) : URL de l'image à télécharger.\n",
    "    - dir_path (str) : Chemin du dossier où l'image sera enregistrée, y compris le nom du fichier.\n",
    "    - request_pause (int) : Durée de la pause en secondes après la requête.\n",
    "    \"\"\"\n",
    "    \n",
    "    print(f'Téléchargement de l\\'image depuis {image_url}')\n",
    "\n",
    "    try:\n",
    "        # Requête pour télécharger l'image\n",
    "        r = requests.get(image_url, stream=True)\n",
    "        print(f\"Code de statut : {r.status_code}\")\n",
    "\n",
    "        # Vérifie si l'image a été récupérée avec succès\n",
    "        if r.status_code == 200:\n",
    "            # Marquer le contenu pour décodage (nécessaire pour certains types de réponses brutes)\n",
    "            r.raw.decode_content = True\n",
    "\n",
    "            # Ouvrir le fichier de destination en mode écriture binaire\n",
    "            with open(dir_path, 'wb') as image_file:\n",
    "                image_file.write(r.content)  # Écriture directe du contenu\n",
    "\n",
    "            # Pause après la requête\n",
    "            time.sleep(request_pause)\n",
    "            print(\"Image téléchargée et sauvegardée avec succès.\")\n",
    "        else:\n",
    "            print(f\"Échec du téléchargement de l'image depuis {image_url}. Code de statut : {r.status_code}\")\n",
    "\n",
    "    except requests.exceptions.SSLError as e:\n",
    "        print(f\"Erreur SSL lors du téléchargement de l'image depuis {image_url}. Message d'erreur : {str(e)}\")\n",
    "    except Exception as e:\n",
    "        print(f\"Erreur lors du téléchargement de l'image depuis {image_url}. Message d'erreur : {str(e)}\")\n",
    "\n",
    "# Exemple d'utilisation\n",
    "image_url = 'https://www.e-codices.unifr.ch/loris/bbb/bbb-0318/bbb-0318_008r.jp2/full/full/0/default.jpg'\n",
    "dir_path = os.path.join('/Users/marioncharpier/Documents/Cours_ENC/IIIF_Images', 'img1.jpg')\n",
    "request_pause = 0\n",
    "download_image_from_url(image_url, dir_path, request_pause)"
   ]
  }
 ],
 "metadata": {
  "kernelspec": {
   "display_name": "iiif_env",
   "language": "python",
   "name": "iiif_env"
  },
  "language_info": {
   "codemirror_mode": {
    "name": "ipython",
    "version": 3
   },
   "file_extension": ".py",
   "mimetype": "text/x-python",
   "name": "python",
   "nbconvert_exporter": "python",
   "pygments_lexer": "ipython3",
   "version": "3.8.0"
  }
 },
 "nbformat": 4,
 "nbformat_minor": 2
}
