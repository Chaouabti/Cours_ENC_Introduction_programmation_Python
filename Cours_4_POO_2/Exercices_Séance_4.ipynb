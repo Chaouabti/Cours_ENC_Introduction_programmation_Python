{
 "cells": [
  {
   "cell_type": "markdown",
   "metadata": {},
   "source": [
    "# Exercices Python - Programmation Orientée Objet et Notions Avancées\n",
    "\n",
    "Bienvenue dans ce notebook d'exercices qui accompagne le cours sur la Programmation Orientée Objet (POO) et des notions avancées en Python. Ce notebook est conçu pour les étudiants de Master 2 en technologies numériques appliquées à l'histoire. Il vise à vous aider à mettre en pratique les concepts abordés dans le cours à travers des exercices pertinents pour le domaine historique.\n",
    "\n",
    "---\n",
    "\n",
    "## Table des Matières\n",
    "\n",
    "1. [Révisions](#Révisions)\n",
    "    - [Exercice 1 : Utilisation de `filter()` avec des données historiques](#exercice-1--utilisation-de-filter-avec-des-données-historiques)\n",
    "    - [Exercice 2 : Typage des paramètres avec des fonctions historiques](#Exercice-2)\n",
    "    - [Exercice 3 : Gestion des exceptions lors de l'analyse de données](#Exercice-3)\n",
    "2. [Introduction aux classes et objets](#Introduction-aux-classes-et-objets)\n",
    "    - [Exercice 4 : Modélisation de personnages historiques](#Exercice-4)\n",
    "    - [Exercice 5 : Création d'une classe `ÉvénementHistorique`](#Exercice-5)\n",
    "3. [Héritage](#Héritage)\n",
    "    - [Exercice 6 : Hiérarchie des périodes historiques](#Exercice-6)\n",
    "    - [Exercice 7 : Spécialisation de la classe `ÉvénementHistorique`](#Exercice-7)\n",
    "4. [Les décorateurs](#Les-décorateurs)\n",
    "    - [Exercice 8 : Création d'un décorateur pour la journalisation](#Exercice-8)\n",
    "    - [Exercice 9 : Décorateur pour la vérification des données](#Exercice-9)\n",
    "    - [Exercice 10 : Mesure du temps d'exécution d'une fonction d'analyse](#Exercice-10)\n",
    "\n",
    "---"
   ]
  },
  {
   "cell_type": "markdown",
   "metadata": {},
   "source": [
    "## Révisions\n",
    "\n",
    "### Exercice 1 : Utilisation de `filter()` avec des données historiques\n",
    "\n",
    "**Objectif :**\n",
    "\n",
    "Utiliser la fonction `filter()` pour extraire des événements historiques se déroulant après une certaine date.\n",
    "\n",
    "**Instructions :**\n",
    "\n",
    "1. Vous avez une liste d'événements historiques sous la forme de tuples `(événement, année)`.\n",
    "\n",
    "    ```python\n",
    "    evenements = [\n",
    "        (\"Bataille de Marathon\", -490),\n",
    "        (\"Chute de l'Empire romain d'Occident\", 476),\n",
    "        (\"Couronnement de Charlemagne\", 800),\n",
    "        (\"Découverte de l'Amérique\", 1492),\n",
    "        (\"Révolution française\", 1789),\n",
    "        (\"Chute du mur de Berlin\", 1989),\n",
    "    ]\n",
    "    ```\n",
    "\n",
    "2. Utilisez `filter()` pour extraire les événements qui se sont produits après l'an 1000.\n",
    "\n",
    "3. Affichez la liste des événements filtrés.\n",
    "\n",
    "**Votre code :**"
   ]
  },
  {
   "cell_type": "code",
   "execution_count": 1,
   "metadata": {},
   "outputs": [],
   "source": [
    "# Votre code ici"
   ]
  },
  {
   "cell_type": "markdown",
   "metadata": {},
   "source": [
    "### Exercice 2 : Typage des paramètres avec des fonctions historiques\n",
    "\n",
    "**Objectif :**\n",
    "\n",
    "Annoter les types des paramètres et des valeurs de retour d'une fonction qui traite des données historiques.\n",
    "\n",
    "**Instructions :**\n",
    "\n",
    "1. Créez une fonction `calculer_duree` qui prend deux paramètres : `debut` et `fin`, représentant des années (entiers).\n",
    "\n",
    "2. La fonction doit retourner la durée entre ces deux années.\n",
    "\n",
    "3. Ajoutez des annotations de type pour indiquer que les paramètres et la valeur de retour sont des entiers.\n",
    "\n",
    "4. Testez votre fonction avec les années 1789 et 1799."
   ]
  },
  {
   "cell_type": "code",
   "execution_count": 2,
   "metadata": {},
   "outputs": [],
   "source": [
    "# Votre code ici"
   ]
  },
  {
   "cell_type": "markdown",
   "metadata": {},
   "source": [
    "### Exercice 3 : Gestion des exceptions lors de l'analyse de données\n",
    "\n",
    "**Objectif :**\n",
    "\n",
    "Gérer les exceptions potentielles lors du traitement de données historiques pour éviter les arrêts brusques du programme.\n",
    "\n",
    "**Instructions :**\n",
    "\n",
    "1. Créez une fonction `analyser_population` qui prend en paramètre un dictionnaire représentant la population de villes à différentes époques. Par exemple :\n",
    "\n",
    "    ```python\n",
    "    populations = {\n",
    "        \"Babylone\": -500000,\n",
    "        \"Rome\": 1000000,\n",
    "        \"Constantinople\": \"un million\",\n",
    "        \"Paris\": 2240000,\n",
    "    }\n",
    "    ```\n",
    "\n",
    "2. La fonction doit parcourir le dictionnaire et calculer le total de la population.\n",
    "\n",
    "3. Gérez les exceptions suivantes :\n",
    "\n",
    "    - `ValueError` si la population n'est pas un nombre entier positif.\n",
    "    - `TypeError` si la valeur n'est pas du bon type.\n",
    "\n",
    "4. Affichez un message d'erreur approprié pour chaque exception, mais le programme doit continuer à traiter les autres villes.\n",
    "\n",
    "**Votre code :**"
   ]
  },
  {
   "cell_type": "code",
   "execution_count": 3,
   "metadata": {},
   "outputs": [],
   "source": [
    "# Votre code ici"
   ]
  },
  {
   "cell_type": "markdown",
   "metadata": {},
   "source": [
    "---\n",
    "\n",
    "## Introduction aux classes et objets\n",
    "\n",
    "### Exercice 4 : Modélisation de personnages historiques\n",
    "\n",
    "**Objectif :**\n",
    "\n",
    "Créer une classe pour modéliser des personnages historiques avec leurs attributs et méthodes.\n",
    "\n",
    "**Instructions :**\n",
    "\n",
    "1. Créez une classe `PersonnageHistorique` avec les attributs :\n",
    "\n",
    "    - `nom`\n",
    "    - `date_naissance`\n",
    "    - `date_deces`\n",
    "    - `nationalite`\n",
    "\n",
    "2. Ajoutez une méthode `se_presenter` qui affiche une phrase présentant le personnage.\n",
    "\n",
    "3. Instanciez deux objets de cette classe avec des personnages de votre choix et appelez leur méthode `se_presenter`.\n",
    "\n",
    "**Votre code :**"
   ]
  },
  {
   "cell_type": "code",
   "execution_count": 4,
   "metadata": {},
   "outputs": [],
   "source": [
    "# Votre code ici"
   ]
  },
  {
   "cell_type": "markdown",
   "metadata": {},
   "source": [
    "---\n",
    "\n",
    "### Exercice 5 : Création d'une classe `ÉvénementHistorique`\n",
    "\n",
    "**Objectif :**\n",
    "\n",
    "Modéliser des événements historiques en utilisant des attributs de classe et d'instance.\n",
    "\n",
    "**Instructions :**\n",
    "\n",
    "1. Créez une classe `EvenementHistorique` avec :\n",
    "\n",
    "    - Un **attribut de classe** `categorie` ayant pour valeur `\"Événement historique\"`.\n",
    "\n",
    "    - Des **attributs d'instance** :\n",
    "\n",
    "        - `nom`\n",
    "        - `date`\n",
    "        - `lieu`\n",
    "\n",
    "2. Ajoutez une méthode `afficher_details` qui affiche les informations de l'événement.\n",
    "\n",
    "3. Instanciez un objet de cette classe pour l'événement \"Première française de Nosferatu\" le 27 octobre 1922 à Paris, et appelez la méthode `afficher_details`.\n",
    "\n",
    "**Votre code :**"
   ]
  },
  {
   "cell_type": "code",
   "execution_count": 5,
   "metadata": {},
   "outputs": [],
   "source": [
    "# Votre code ici"
   ]
  },
  {
   "cell_type": "markdown",
   "metadata": {},
   "source": [
    "## Héritage\n",
    "\n",
    "### Exercice 6 : Hiérarchie des périodes historiques\n",
    "\n",
    "**Objectif :**\n",
    "\n",
    "Utiliser l'héritage pour modéliser les périodes historiques.\n",
    "\n",
    "**Instructions :**\n",
    "\n",
    "1. Créez une classe de base `PeriodeHistorique` avec les attributs :\n",
    "\n",
    "    - `nom`\n",
    "    - `debut` (année de début)\n",
    "    - `fin` (année de fin)\n",
    "\n",
    "2. Créez des classes enfants qui héritent de `PeriodeHistorique` :\n",
    "\n",
    "    - `Antiquite`\n",
    "    - `MoyenAge`\n",
    "    - `EpoqueModerne`\n",
    "\n",
    "3. Ajoutez une méthode `duree` dans la classe de base qui calcule la durée de la période.\n",
    "\n",
    "4. Instanciez un objet de chaque classe enfant avec les dates correspondantes et affichez la durée de chaque période.\n",
    "\n",
    "**Votre code :**"
   ]
  },
  {
   "cell_type": "code",
   "execution_count": 6,
   "metadata": {},
   "outputs": [],
   "source": [
    "# Votre code ici"
   ]
  },
  {
   "cell_type": "markdown",
   "metadata": {},
   "source": [
    "---\n",
    "\n",
    "### Exercice 7 : Spécialisation de la classe `EvenementHistorique`\n",
    "\n",
    "**Objectif :**\n",
    "\n",
    "Créer des classes spécialisées en héritant de `EvenementHistorique`, centrées sur des **découvertes**.\n",
    "\n",
    "**Instructions :**\n",
    "\n",
    "1. À partir de la classe `EvenementHistorique` de l'Exercice 5, créez deux classes enfants :\n",
    "\n",
    "    - `DecouverteScientifique` : ajoute l'attribut `decouvreur` (nom du ou des scientifiques impliqués).\n",
    "    - `ExplorationGeographique` : ajoute l'attribut `explorateurs` (liste des explorateurs impliqués).\n",
    "\n",
    "2. Ajoutez une méthode spécifique à chaque classe enfant :\n",
    "\n",
    "    - Pour `DecouverteScientifique`, une méthode `decrire_decouverte` qui décrit la découverte scientifique.\n",
    "    - Pour `ExplorationGeographique`, une méthode `decrire_exploration` qui décrit l'exploration géographique.\n",
    "\n",
    "3. Instanciez un objet de chaque classe :\n",
    "\n",
    "    - Une découverte scientifique de votre choix.\n",
    "    - Une exploration géographique de votre choix.\n",
    "\n",
    "4. Appelez les méthodes pour afficher les informations spécifiques.\n",
    "\n",
    "**Votre code :**\n",
    "\n"
   ]
  },
  {
   "cell_type": "code",
   "execution_count": 7,
   "metadata": {},
   "outputs": [],
   "source": [
    "# Votre code ici"
   ]
  },
  {
   "cell_type": "markdown",
   "metadata": {},
   "source": [
    "---\n",
    "\n",
    "## Les décorateurs\n",
    "\n",
    "### Exercice 8 : Création d'un décorateur pour la journalisation\n",
    "\n",
    "**Objectif :**\n",
    "\n",
    "Créer un décorateur qui journalise les appels de fonctions d'analyse historique.\n",
    "\n",
    "**Instructions :**\n",
    "\n",
    "1. Créez un décorateur `journaliser_appel` qui :\n",
    "\n",
    "    - Affiche un message avant et après l'appel de la fonction, indiquant le nom de la fonction.\n",
    "\n",
    "2. Appliquez ce décorateur à une fonction `analyser_texte` qui prend un texte (chaîne de caractères) et affiche \"Analyse en cours...\".\n",
    "\n",
    "3. Testez la fonction en l'appelant avec un texte quelconque.\n",
    "\n",
    "**Votre code :**"
   ]
  },
  {
   "cell_type": "code",
   "execution_count": 8,
   "metadata": {},
   "outputs": [],
   "source": [
    "# Votre code ici :"
   ]
  },
  {
   "cell_type": "markdown",
   "metadata": {},
   "source": [
    "---\n",
    "\n",
    "### Exercice 9 : Décorateur pour la vérification des données\n",
    "\n",
    "**Objectif :**\n",
    "\n",
    "Utiliser les décorateurs pour vérifier les données passées à une fonction.\n",
    "\n",
    "**Instructions :**\n",
    "\n",
    "1. Créez un décorateur `verifier_annee` qui :\n",
    "\n",
    "    - Vérifie que l'argument `annee` passé à la fonction est un entier positif.\n",
    "    - Si ce n'est pas le cas, lève une exception `ValueError` avec un message approprié.\n",
    "\n",
    "2. Appliquez ce décorateur à une fonction `afficher_evenements_annee` qui affiche les événements d'une année donnée.\n",
    "\n",
    "3. Testez la fonction avec une année valide et une année invalide (par exemple, une chaîne de caractères ou un entier négatif).\n",
    "\n",
    "**Votre code :**"
   ]
  },
  {
   "cell_type": "code",
   "execution_count": 9,
   "metadata": {},
   "outputs": [],
   "source": [
    "# Votre code ici"
   ]
  },
  {
   "cell_type": "markdown",
   "metadata": {},
   "source": [
    "---\n",
    "\n",
    "<a name=\"Exercice-10\"></a>\n",
    "### Exercice 10 : Mesure du temps d'exécution d'une fonction d'analyse\n",
    "\n",
    "**Objectif :**\n",
    "\n",
    "Créer un décorateur qui mesure le temps d'exécution d'une fonction.\n",
    "\n",
    "**Instructions :**\n",
    "\n",
    "1. Créez un décorateur `mesurer_temps_execution` qui :\n",
    "\n",
    "    - Mesure le temps pris par la fonction pour s'exécuter.\n",
    "    - Affiche le temps d'exécution avec le nom de la fonction.\n",
    "\n",
    "2. Appliquez ce décorateur à une fonction `traiter_donnees_historique` qui simule un traitement long (par exemple, en utilisant `time.sleep(2)`).\n",
    "\n",
    "3. Testez la fonction et vérifiez que le temps d'exécution est affiché.\n",
    "\n",
    "**Votre code :**"
   ]
  },
  {
   "cell_type": "code",
   "execution_count": 10,
   "metadata": {},
   "outputs": [],
   "source": [
    "# Votre code ici"
   ]
  }
 ],
 "metadata": {
  "kernelspec": {
   "display_name": "3.12.6",
   "language": "python",
   "name": "python3"
  },
  "language_info": {
   "codemirror_mode": {
    "name": "ipython",
    "version": 3
   },
   "file_extension": ".py",
   "mimetype": "text/x-python",
   "name": "python",
   "nbconvert_exporter": "python",
   "pygments_lexer": "ipython3",
   "version": "3.12.6"
  }
 },
 "nbformat": 4,
 "nbformat_minor": 2
}
