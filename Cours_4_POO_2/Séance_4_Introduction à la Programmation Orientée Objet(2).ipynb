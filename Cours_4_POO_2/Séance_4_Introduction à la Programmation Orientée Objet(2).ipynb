{
 "cells": [
  {
   "cell_type": "markdown",
   "metadata": {},
   "source": [
    "# Cours de Python - Programmation Orientée Objet et Notions Avancées\n",
    "\n",
    "---\n",
    "\n",
    "## Table des Matières\n",
    "\n",
    "1. [Révisions](#Révisions)\n",
    "    - [Quelques notions à retenir](#quelques-notions-à-retenir)\n",
    "        - [La fonction `filter`](#note-sur-la-fonction-filter)\n",
    "        - [Typage des paramètres en Python](#typage-des-paramètres-en-python)\n",
    "        - [Gérer les exceptions](#gérer-les-exceptions)\n",
    "    - [Introduction aux classes et objets](#introduction-aux-classes-et-objets)\n",
    "        - [Qu'est-ce que la POO ?](#quest-ce-que-la-poo-)\n",
    "        - [Les classes](#les-classes)\n",
    "        - [Les objets](#les-objets)\n",
    "    - [Les méthodes et les attributs](#les-méthodes-et-les-attributs)\n",
    "        - [Les attributs de classe](#les-attributs-de-classe)\n",
    "        - [Les attributs d'instance](#les-attributs-dinstance)\n",
    "        - [La méthode `__init__` et le paramètre`self`](#la-méthode-__init__-et-le-paramètre-self)\n",
    "2. [Héritage](#lhéritage)\n",
    "   - [Qu'est-ce que l'héritage ?](#quest-ce-que-lhéritage-en-poo-)\n",
    "   - [Pourquoi utiliser l'héritage](#pourquoi-utiliser-lhéritage-)\n",
    "   - [Comment fonctionne l'héritage ?](#comment-fonctionne-lhéritage-)\n",
    "   - [Avantages de l'héritage](#avantages-de-lhéritage)\n",
    "3. [Les décorateurs](#les-décorateurs)\n",
    "   - [Qu'est-ce qu'un décorateur ?](#quest-ce-quun-décorateur-en-python-)\n",
    "   - [Pourquoi utliser des décorateurs ?](#pourquoi-utiliser-des-décorateurs-)\n",
    "   - [Commment fonctionnent les décorateurs?](#comment-fonctionnent-les-décorateurs-)\n",
    "   - [Gérer les fonctions avec des arguments `*args` et `**kwargs`](#gérer-les-fonctions-avec-des-arguments-args-et-kwargs)\n",
    "\n",
    "---"
   ]
  },
  {
   "cell_type": "markdown",
   "metadata": {},
   "source": [
    "## Révisions\n",
    "\n",
    "### Quelques notions à retenir\n",
    "\n",
    "#### Note sur la fonction `filter`\n",
    "\n",
    "La fonction `filter()` retourne un **itérateur**, c'est pourquoi on obtient un résultat du type `<filter object>` si on ne le transforme pas en liste. Un itérateur ne conserve aucune donnée et ne produit les résultats que lorsqu'on les appelle. Si on le convertit en liste, cela signifie qu'on demande à l'itérateur de nous produire une liste de ses résultats.\n",
    "\n",
    "Un itérateur se comporte un peu comme une boucle `for`, mais il ne conserve pas les éléments tant que vous ne les avez pas appelés. Cela permet de fournir les éléments à la demande, ce qui est particulièrement utile pour travailler avec de grandes quantités de données sans consommer trop de mémoire.\n",
    "\n",
    "**Syntaxe :**\n",
    "\n",
    "```python\n",
    "filter(function, iterable)\n",
    "```\n",
    "\n",
    "- **`function`** : une fonction qui renvoie `True` ou `False` pour chaque élément de l'itérable.\n",
    "- **`iterable`** : une séquence (liste, tuple, etc.) à filtrer.\n",
    "\n",
    "**Exemple :**"
   ]
  },
  {
   "cell_type": "code",
   "execution_count": 35,
   "metadata": {},
   "outputs": [
    {
     "name": "stdout",
     "output_type": "stream",
     "text": [
      "[2, 4, 6]\n"
     ]
    }
   ],
   "source": [
    "def est_pair(n):\n",
    "    return n % 2 == 0\n",
    "\n",
    "\n",
    "nombres = [1, 2, 3, 4, 5, 6]\n",
    "nombres_pairs = list(filter(est_pair, nombres))\n",
    "print(nombres_pairs)"
   ]
  },
  {
   "cell_type": "markdown",
   "metadata": {},
   "source": [
    "**Avec une fonction lambda :**"
   ]
  },
  {
   "cell_type": "code",
   "execution_count": 36,
   "metadata": {},
   "outputs": [
    {
     "name": "stdout",
     "output_type": "stream",
     "text": [
      "<filter object at 0x109928dc0>\n"
     ]
    }
   ],
   "source": [
    "evenements = [('Bataille de Qadesh', -1274), ('Révolution française', 1789)]\n",
    "resultat = filter(lambda e: e[1] > 0, evenements)  # Retourne un itérateur\n",
    "print(resultat)"
   ]
  },
  {
   "cell_type": "code",
   "execution_count": 37,
   "metadata": {},
   "outputs": [
    {
     "name": "stdout",
     "output_type": "stream",
     "text": [
      "[('Révolution française', 1789)]\n"
     ]
    }
   ],
   "source": [
    "# Si on veut voir les résultats, on doit le transformer en liste :\n",
    "print(list(resultat))  # [('Révolution française', 1789)]"
   ]
  },
  {
   "cell_type": "markdown",
   "metadata": {},
   "source": [
    "#### Typage des paramètres en Python\n",
    "\n",
    "Python étant un langage dynamiquement typé, vous ne pouvez pas forcer un type strictement. Cependant, il existe plusieurs techniques pour indiquer ou vérifier les types des paramètres :\n",
    "\n",
    "- **Le Typage avec Annotations**\n",
    "    - Les annotations de type sont utilisées pour indiquer les types des paramètres et des retours de fonction.\n",
    "    - Non contraignant : Python ne vérifie pas le type à l'exécution. C'est simplement une aide à la documentation et pour les outils de vérification statique.\n",
    "\n",
    "**Syntaxe :**\n",
    "\n",
    "```python\n",
    "def fonction(param1: type1, param2: type2) -> return_type:\n",
    "    pass\n",
    "```\n",
    "\n",
    "**Exemple :**\n",
    "\n",
    "```python\n",
    "def get_labels(labels_file: str) -> str:\n",
    "    # Logique de la fonction\n",
    "    return labels_file\n",
    "\n",
    "# labels_file: str indique que le paramètre devrait être une chaîne de caractères.\n",
    "# -> str indique que la fonction doit retourner une chaîne.\n",
    "```"
   ]
  },
  {
   "cell_type": "markdown",
   "metadata": {},
   "source": [
    "- **Vérification Dynamique et Bibliothèques de Validation**\n",
    "    - Utilisez `isinstance()` pour vérifier manuellement le type et forcer un comportement en cas de type invalide.\n",
    "    - Pour des projets plus complexes, des bibliothèques comme **Pydantic** peuvent être utilisées pour valider les types automatiquement.\n",
    "\n",
    "**Exemple :**\n",
    "```python\n",
    "def get_labels(labels_file: str) -> str:\n",
    "    # Vérifier si le format est le bon, sinon lever une erreur\n",
    "    if not isinstance(labels_file, str):\n",
    "        raise TypeError(\"labels_file doit être une chaîne de caractères\")\n",
    "    return labels_file\n",
    "```"
   ]
  },
  {
   "cell_type": "markdown",
   "metadata": {},
   "source": [
    "**Conclusion**\n",
    "\n",
    "- Les annotations de type indiquent les types mais ne les forcent pas.\n",
    "- Pour forcer les types, utilisez des vérifications manuelles ou des bibliothèques comme **Pydantic** pour valider automatiquement les types.\n",
    "\n",
    "> **Remarque :** Les annotations de type ne sont pas contraignantes au moment de l'exécution, mais peuvent être utilisées par les outils d'analyse statique.\n",
    "---"
   ]
  },
  {
   "cell_type": "markdown",
   "metadata": {},
   "source": [
    "#### Gérer les exceptions\n",
    "\n",
    "**Pourquoi Gérer les Exceptions ?**\n",
    "\n",
    "- **Exceptions** : Erreurs qui surviennent pendant l'exécution d'un programme, perturbant son fonctionnement normal.\n",
    "- **Gestion des exceptions** : Permet de contrôler le flux du programme en cas d'erreurs inattendues.\n",
    "- **Objectif** : Éviter les arrêts brutaux du programme et fournir des messages d'erreur clairs.\n",
    "\n",
    "#####**Lever une Exception avec `raise`**\n",
    "\n",
    "- **Utilisation de `raise`** : Permet de déclencher manuellement une exception.\n",
    "- **Syntaxe** : `raise NomDeLErreur(\"Message d'erreur\")`\n",
    "\n",
    "**Structure de base :**\n",
    "\n",
    "```python\n",
    "try:\n",
    "    # Code susceptible de provoquer une exception\n",
    "    pass\n",
    "except ExceptionType:\n",
    "    # Code à exécuter en cas d'exception\n",
    "    pass\n",
    "else:\n",
    "    # Code à exécuter si aucune exception n'est levée\n",
    "    pass\n",
    "finally:\n",
    "    # Code qui s'exécute dans tous les cas\n",
    "    pass\n",
    "```\n",
    "\n",
    "**Exemple :**"
   ]
  },
  {
   "cell_type": "code",
   "execution_count": 38,
   "metadata": {},
   "outputs": [
    {
     "name": "stdout",
     "output_type": "stream",
     "text": [
      "Le résultat est 2.5.\n",
      "Fin du programme.\n"
     ]
    }
   ],
   "source": [
    "try:\n",
    "    nombre = int(input(\"Entrez un nombre entier : \"))\n",
    "    resultat = 10 / nombre\n",
    "except ValueError:\n",
    "    print(\"Vous devez entrer un nombre entier.\")\n",
    "except ZeroDivisionError:\n",
    "    print(\"Division par zéro impossible.\")\n",
    "else:\n",
    "    print(f\"Le résultat est {resultat}.\")\n",
    "finally:\n",
    "    print(\"Fin du programme.\")"
   ]
  },
  {
   "cell_type": "markdown",
   "metadata": {},
   "source": [
    "##### **Gérer les Exceptions avec `try` et `except`**\n",
    "\n",
    "- **Bloc `try`** : Contient le code qui pourrait provoquer une exception.\n",
    "- **Bloc `except`** : Contient le code à exécuter si une exception survient.\n",
    "- **Syntaxe** :\n",
    "  ```python\n",
    "  try:\n",
    "      # Code susceptible de provoquer une exception\n",
    "  except NomDeLErreur:\n",
    "      # Code à exécuter en cas d'exception\n",
    "  ```\n",
    "\n",
    "**Exemple :**"
   ]
  },
  {
   "cell_type": "code",
   "execution_count": 39,
   "metadata": {},
   "outputs": [
    {
     "name": "stdout",
     "output_type": "stream",
     "text": [
      "Erreur : division by zero\n",
      "Fin du traitement.\n"
     ]
    }
   ],
   "source": [
    "def division(a,b):\n",
    "    return a / b\n",
    "\n",
    "try:\n",
    "    resultat = division(10, 0)\n",
    "except ZeroDivisionError as e:\n",
    "    print(f\"Erreur : {e}\")\n",
    "else:\n",
    "    print(\"Le résultat est\", resultat)\n",
    "finally:\n",
    "    print(\"Fin du traitement.\")"
   ]
  },
  {
   "cell_type": "markdown",
   "metadata": {},
   "source": [
    "##### **Créer vos propres Exceptions Personnalisées**\n",
    "\n",
    "- Vous pouvez utiliser les exceptions natives ou créer vos propres exceptions.\n",
    "- **Définir une classe qui hérite de `Exception`** :\n",
    "  ```python\n",
    "  class MonErreur(Exception):\n",
    "      pass\n",
    "  ```\n",
    "- **Lever l’exception personnalisée** :\n",
    "  ```python\n",
    "  raise MonErreur(\"Votre message d'erreur\")\n",
    "  ```\n",
    "---\n"
   ]
  },
  {
   "cell_type": "markdown",
   "metadata": {},
   "source": [
    "### Introduction aux classes et objets\n",
    "\n",
    "La Programmation Orientée Objet (POO) est un paradigme de programmation qui utilise des objets et des classes pour structurer le code de manière modulaire et réutilisable.\n",
    "\n",
    "\n",
    "#### Qu'est-ce que la POO ?\n",
    "\n",
    "La **Programmation Orientée Objet (POO)** est un paradigme de programmation qui utilise des **objets** et des **classes** pour modéliser des concepts du monde réel ou des données abstraites. Elle facilite la modularité, la réutilisation du code et la maintenance des programmes.\n",
    "\n",
    "- **Objet** : Une instance d'une classe contenant des données (attributs) et des fonctions (méthodes).\n",
    "- **Classe** : Un modèle ou un plan définissant les attributs et les méthodes que ses objets auront.\n",
    "\n",
    "**Avantages :**\n",
    "\n",
    "- **Modularité** : Facilite la maintenance et l'évolution du code.\n",
    "- **Réutilisation** : Les classes peuvent être réutilisées dans différents programmes.\n",
    "- **Abstraction** : Simplifie la complexité en se concentrant sur les aspects pertinents.\n",
    "\n",
    "#### Les classes\n",
    "\n",
    "- **Définition** : Une classe est une structure qui définit un ensemble d'attributs et de méthodes que ses instances partageront.\n",
    "\n",
    "**Syntaxe de base :**\n",
    "\n",
    "```python\n",
    "class NomDeLaClasse:\n",
    "    # Attributs et méthodes de la classe\n",
    "    pass\n",
    "```"
   ]
  },
  {
   "cell_type": "markdown",
   "metadata": {},
   "source": [
    "#### Les objets\n",
    "\n",
    "Un **objet** est une instance d'une classe. C'est une entité concrète qui possède les attributs et méthodes définis dans sa classe.\n",
    "\n",
    "**Instanciation :**\n",
    "\n",
    "```python\n",
    "mon_objet = NomDeLaClasse()\n",
    "```\n",
    "\n",
    "**Exemple :**\n"
   ]
  },
  {
   "cell_type": "code",
   "execution_count": 40,
   "metadata": {},
   "outputs": [
    {
     "name": "stdout",
     "output_type": "stream",
     "text": [
      "Bonjour, je m'appelle Alice.\n"
     ]
    }
   ],
   "source": [
    "class Personne:\n",
    "    def __init__(self, nom):\n",
    "        self.nom = nom\n",
    "\n",
    "    def se_presenter(self):\n",
    "        print(f\"Bonjour, je m'appelle {self.nom}.\")\n",
    "\n",
    "# Création d'un objet\n",
    "personne1 = Personne(\"Alice\")\n",
    "personne1.se_presenter()"
   ]
  },
  {
   "cell_type": "markdown",
   "metadata": {},
   "source": [
    "---\n",
    "\n",
    "### Les méthodes et les attributs\n",
    "\n",
    "Les classes en Python contiennent des attributs (variables) et des méthodes (fonctions) qui définissent les propriétés et les comportements des objets.\n",
    "\n",
    "#### Les attributs de classe\n",
    "\n",
    "Les attributs de classe sont partagés par toutes les instances de la classe.\n",
    "\n",
    "**Exemple :**"
   ]
  },
  {
   "cell_type": "code",
   "execution_count": 41,
   "metadata": {},
   "outputs": [
    {
     "name": "stdout",
     "output_type": "stream",
     "text": [
      "Patrimoine mondial de l'UNESCO\n",
      "La ville d'Assur fait partie du Patrimoine mondial de l'UNESCO et a le statut 'Inscrit'\n"
     ]
    }
   ],
   "source": [
    "class PatrimoineUnesco:\n",
    "    categorie = \"Patrimoine mondial de l'UNESCO\"\n",
    "    statut = 'Inscrit'\n",
    "\n",
    "assur = PatrimoineUnesco()\n",
    "\n",
    "print(PatrimoineUnesco.categorie)\n",
    "print(f\"La ville d'Assur fait partie du {assur.categorie} et a le statut '{assur.statut}'\")"
   ]
  },
  {
   "cell_type": "markdown",
   "metadata": {},
   "source": [
    "#### Les attributs d'instance\n",
    "\n",
    "**Définition** : Attributs propres à chaque objet, définis généralement dans la méthode `__init__`."
   ]
  },
  {
   "cell_type": "markdown",
   "metadata": {},
   "source": [
    "#### La Méthode `__init__` et le Paramètre `self`\n",
    "\n",
    "- **`__init__`** : Méthode spéciale appelée lors de la création d'une nouvelle instance ; elle initialise les attributs d'instance.\n",
    "- **`self`** : Référence à l'instance courante ; permet d'accéder aux attributs et méthodes de l'objet.\n",
    "\n",
    "- **Exemple** :"
   ]
  },
  {
   "cell_type": "code",
   "execution_count": 42,
   "metadata": {},
   "outputs": [
    {
     "name": "stdout",
     "output_type": "stream",
     "text": [
      "La ville d'Assur' est située sur l'actuel site de Qalʿat Sharqat, en Irak\n"
     ]
    }
   ],
   "source": [
    "class PatrimoineUnesco:\n",
    "    def __init__(self, nom, lieu, pays):\n",
    "        self.nom = nom\n",
    "        self.lieu = lieu\n",
    "        self.pays = pays\n",
    "\n",
    "    def info_patrimoine(self):\n",
    "        print(f\"La ville d'{self.nom}' est située sur l'actuel site de {self.lieu}, en {self.pays}\")\n",
    "\n",
    "assur = PatrimoineUnesco(\"Assur\", \"Qalʿat Sharqat\", \"Irak\")\n",
    "\n",
    "assur.info_patrimoine()"
   ]
  },
  {
   "cell_type": "markdown",
   "metadata": {},
   "source": [
    "---\n",
    "**Résumé**\n",
    "\n",
    "- **Classe** : Définition des attributs (variables) et des méthodes (fonctions) communes.\n",
    "- **Attributs** :\n",
    "    - Variables qui stockent les données de l'objet.\n",
    "    - Peuvent être spécifiques à une instance ou partagés par toutes les instances.\n",
    "- **Méthodes** :\n",
    "    - Fonctions qui définissent le comportement de l'objet.\n",
    "    - Agissent généralement sur les attributs de l'objet.\n",
    "- **Instance** :\n",
    "    - Objet concret créé à partir de la classe.\n",
    "    - Possède ses propres valeurs pour les attributs d'instance.\n",
    "\n",
    "**Visualisation du Processus**\n",
    "\n",
    "- **Définition de la Classe** : Création du modèle avec ses attributs et méthodes.\n",
    "- **Instanciation : Création** d'un objet (instance) à partir de la classe.\n",
    "- **Utilisation de l'Objet** :\n",
    "    - Accès aux attributs via `objet.attribut`.\n",
    "    - Appel des méthodes via `objet.methode()`.\n",
    "---"
   ]
  },
  {
   "cell_type": "markdown",
   "metadata": {},
   "source": [
    "## L'héritage\n",
    "### **Qu'est-ce que l'héritage en POO ?**\n",
    "\n",
    "L'héritage est un **principe fondamental** de la Programmation Orientée Objet qui permet de créer de nouvelles classes à partir de classes existantes.\n",
    "\n",
    "---\n",
    "\n",
    "### **Pourquoi utiliser l'héritage ?**\n",
    "\n",
    "- **Réutilisation du code** : Tu peux réutiliser le code déjà écrit dans une classe de base (appelée **classe parente** ou **super-classe**) pour créer une nouvelle classe (appelée **classe enfant** ou **sous-classe**).\n",
    "- **Organisation** : Cela permet d'organiser ton code de manière hiérarchique et logique.\n",
    "- **Facilité de maintenance** : Si tu dois apporter des modifications, tu peux les faire dans la classe parente, et ces changements se répercuteront sur toutes les classes enfants.\n",
    "\n",
    "---"
   ]
  },
  {
   "cell_type": "markdown",
   "metadata": {},
   "source": [
    "### **Comment fonctionne l'héritage ?**\n",
    "\n",
    "En héritage, une classe enfant **hérite** des attributs et méthodes de sa classe parente. Elle peut aussi **ajouter** de nouveaux attributs et méthodes ou **redéfinir** ceux existants.\n",
    "\n",
    "---\n",
    "\n",
    "#### **Exemple concret : Les animaux**\n",
    "\n",
    "**Classe parente : `Animal`**\n",
    "\n",
    "Imaginons une classe de base `Animal` qui contient des attributs et des méthodes communes à tous les animaux."
   ]
  },
  {
   "cell_type": "code",
   "execution_count": 43,
   "metadata": {},
   "outputs": [
    {
     "name": "stdout",
     "output_type": "stream",
     "text": [
      "Brando se déplace.\n"
     ]
    }
   ],
   "source": [
    "class Animal:\n",
    "    def __init__(self, nom):\n",
    "        self.nom = nom\n",
    "\n",
    "    def se_deplacer(self):\n",
    "        print(f\"{self.nom} se déplace.\")\n",
    "\n",
    "brando = Animal(\"Brando\")\n",
    "brando.se_deplacer()"
   ]
  },
  {
   "cell_type": "markdown",
   "metadata": {},
   "source": [
    "**Classes enfants : `Oiseau` et `Poisson`**\n",
    "\n",
    "Nous pouvons créer des classes spécifiques qui héritent de `Animal`.\n"
   ]
  },
  {
   "cell_type": "code",
   "execution_count": 44,
   "metadata": {},
   "outputs": [],
   "source": [
    "class Oiseau(Animal):\n",
    "    def __init__(self, nom, couleur_plumes):\n",
    "        super().__init__(nom)\n",
    "        self.couleur_plumes = couleur_plumes\n",
    "\n",
    "    def voler(self):\n",
    "        print(f\"{self.nom} vole dans le ciel.\")\n",
    "\n",
    "class Poisson(Animal):\n",
    "    def __init__(self, nom, type_eau):\n",
    "        super().__init__(nom)\n",
    "        self.type_eau = type_eau\n",
    "\n",
    "    def nager(self):\n",
    "        print(f\"{self.nom} nage dans l'eau {self.type_eau}.\")"
   ]
  },
  {
   "cell_type": "markdown",
   "metadata": {},
   "source": [
    "**Explications :**\n",
    "\n",
    "- `Oiseau` et `Poisson` héritent de `Animal`, donc ils ont l'attribut `nom` et la méthode `se_deplacer`.\n",
    "- Ils ont aussi leurs propres attributs et méthodes spécifiques (`couleur_plumes`, `voler` pour `Oiseau`; `type_eau`, `nager` pour `Poisson`).\n",
    "\n",
    "**Utilisation :**"
   ]
  },
  {
   "cell_type": "code",
   "execution_count": 45,
   "metadata": {},
   "outputs": [
    {
     "name": "stdout",
     "output_type": "stream",
     "text": [
      "Perroquet se déplace.\n",
      "Perroquet vole dans le ciel.\n",
      "Requin se déplace.\n",
      "Requin nage dans l'eau salée.\n"
     ]
    }
   ],
   "source": [
    "# Création d'instances\n",
    "perroquet = Oiseau(\"Perroquet\", \"multicolore\")\n",
    "perroquet.se_deplacer()   # Hérité de Animal\n",
    "perroquet.voler()         # Spécifique à Oiseau\n",
    "\n",
    "requin = Poisson(\"Requin\", \"salée\")\n",
    "requin.se_deplacer()      # Hérité de Animal\n",
    "requin.nager()            # Spécifique à Poisson"
   ]
  },
  {
   "cell_type": "markdown",
   "metadata": {},
   "source": [
    "---\n",
    "\n",
    "#### **Points importants à retenir**\n",
    "\n",
    "- **La fonction `super()`** : Elle est utilisée pour appeler le constructeur de la classe parente, permettant d'initialiser correctement les attributs hérités.\n",
    "\n",
    "- **Redéfinition de méthodes** : Si nécessaire, une classe enfant peut redéfinir une méthode de la classe parente pour adapter son comportement.\n",
    "\n",
    "---"
   ]
  },
  {
   "cell_type": "markdown",
   "metadata": {},
   "source": [
    "#### **Exemple dans avec des personnages historiques**\n",
    "\n",
    "Imaginons que nous voulons modéliser des personnages historiques.\n",
    "\n",
    "**Classe parente : `PersonnageHistorique`**"
   ]
  },
  {
   "cell_type": "code",
   "execution_count": 46,
   "metadata": {},
   "outputs": [],
   "source": [
    "class PersonnageHistorique:\n",
    "    def __init__(self, nom, epoque):\n",
    "        self.nom = nom\n",
    "        self.epoque = epoque\n",
    "\n",
    "    def se_presenter(self):\n",
    "        print(f\"Je m'appelle {self.nom} et j'ai vécu pendant l'époque {self.epoque}.\")"
   ]
  },
  {
   "cell_type": "markdown",
   "metadata": {},
   "source": [
    "**Classes enfants : `Philosophe` et `Souverain`**"
   ]
  },
  {
   "cell_type": "code",
   "execution_count": 47,
   "metadata": {},
   "outputs": [],
   "source": [
    "class Philosophe(PersonnageHistorique):\n",
    "    def __init__(self, nom, epoque, courant_pensee):\n",
    "        super().__init__(nom, epoque)\n",
    "        self.courant_pensee = courant_pensee\n",
    "\n",
    "    def se_presenter(self):\n",
    "        super().se_presenter()\n",
    "        print(f\"Je suis un philosophe du courant {self.courant_pensee}.\")\n",
    "\n",
    "class Souverain(PersonnageHistorique):\n",
    "    def __init__(self, nom, epoque, royaume):\n",
    "        super().__init__(nom, epoque)\n",
    "        self.royaume = royaume\n",
    "\n",
    "    def se_presenter(self):\n",
    "        super().se_presenter()\n",
    "        print(f\"Je suis le souverain du royaume d'{self.royaume}.\")"
   ]
  },
  {
   "cell_type": "markdown",
   "metadata": {},
   "source": [
    "**Utilisation :**"
   ]
  },
  {
   "cell_type": "code",
   "execution_count": 48,
   "metadata": {},
   "outputs": [
    {
     "name": "stdout",
     "output_type": "stream",
     "text": [
      "Je m'appelle Platon et j'ai vécu pendant l'époque Antiquité.\n",
      "Je suis un philosophe du courant Idéalisme.\n",
      "Je m'appelle Sargon et j'ai vécu pendant l'époque akkadienne.\n",
      "Je suis le souverain du royaume d'Akkad.\n"
     ]
    }
   ],
   "source": [
    "# Création d'instances\n",
    "platon = Philosophe(\"Platon\", \"Antiquité\", \"Idéalisme\")\n",
    "platon.se_presenter()\n",
    "\n",
    "sargon = Souverain(\"Sargon\", \"akkadienne\", \"Akkad\")\n",
    "sargon.se_presenter()"
   ]
  },
  {
   "cell_type": "markdown",
   "metadata": {},
   "source": [
    "---\n",
    "\n",
    "### **Avantages de l'héritage**\n",
    "\n",
    "- **Modularité** : En séparant le code en classes parent/enfant, il est plus facile de gérer et de comprendre le code.\n",
    "- **Réutilisation** : On évite de répéter du code commun à plusieurs classes.\n",
    "- **Extensibilité** : Il est facile d'ajouter de nouvelles classes enfants qui héritent des mêmes propriétés.\n",
    "\n",
    "---\n",
    "\n",
    "#### **Notions avancées**\n",
    "\n",
    "- **Héritage multiple** : Une classe peut hériter de plusieurs classes en même temps. En Python, cela se fait en listant les classes parentes entre parenthèses.\n",
    "\n",
    "```python\n",
    "class ClasseEnfant(ClasseParent1, ClasseParent2):\n",
    "    pass\n",
    "```\n",
    "\n",
    "- **Surcharge de méthodes** : Une classe enfant peut redéfinir une méthode de la classe parente pour changer ou étendre son comportement.\n",
    "\n",
    "**Exemple**\n",
    "\n",
    "```python\n",
    "class PersonnageHistorique:\n",
    "    def __init__(self, nom, epoque):\n",
    "        self.nom = nom\n",
    "        self.epoque = epoque\n",
    "\n",
    "    def se_presenter(self):\n",
    "        print(f\"Je m'appelle {self.nom} et j'ai vécu pendant l'époque {self.epoque}.\")\n",
    "\n",
    "class Philosophe(PersonnageHistorique):\n",
    "    def se_presenter(self):\n",
    "        print(f\"Je m'appelle {self.nom} et j'ai créé un nouveau mouvement de pensée durant l'{self.epoque}.\")\n",
    "\n",
    "```\n",
    "On instancie les deux classes : \n",
    "\n",
    "```python\n",
    "# Instance de la classe parente\n",
    "personnage = PersonnageHistorique(\"Alexandre le Grand\", \"Antiquité\")\n",
    "personnage.se_presenter()\n",
    "\n",
    "# Instance de la classe enfant\n",
    "philosophe = Philosophe(\"Socrate\", \"Antiquité\")\n",
    "philosophe.se_presenter()\n",
    "\n",
    "```\n",
    "\n",
    "**Sortie**\n",
    "\n",
    "```python\n",
    "Je m'appelle Alexandre le Grand et j'ai vécu pendant l'époque Antiquité.\n",
    "Je m'appelle Socrate et j'ai créé un nouveau mouvement de pensée durant l'Antiquité.\n",
    "```\n",
    "---"
   ]
  },
  {
   "cell_type": "markdown",
   "metadata": {},
   "source": [
    "#### **Analogies pour mieux comprendre**\n",
    "\n",
    "- **Classification des êtres vivants** : Dans la biologie, on classe les êtres vivants en différents niveaux (règne, phylum, classe, ordre, famille, genre, espèce). Par exemple, un chat hérite des caractéristiques des mammifères, qui héritent des vertébrés, etc.\n",
    "\n",
    "---\n",
    "\n",
    "## **Exercice pour pratiquer : Classification des Animaux**\n",
    "\n",
    "### **Objectif :**\n",
    "\n",
    "Créer une hiérarchie de classes représentant la classification simple des animaux selon la taxonomie de Linné, et mettre en pratique les concepts d'héritage en Python.\n",
    "\n",
    "#### **Instructions :**\n",
    "\n",
    "1. **Créer une classe de base `Animal`** avec les attributs :\n",
    "   - `nom` : le nom commun de l'animal.\n",
    "   - `age` : l'âge de l'animal.\n",
    "   - `milieu` : le milieu de vie (par exemple : terrestre, aquatique, aérien).\n",
    "\n",
    "   Et une méthode :\n",
    "   - `se_deplacer()` : qui affiche un message générique indiquant que l'animal se déplace."
   ]
  },
  {
   "cell_type": "code",
   "execution_count": 49,
   "metadata": {},
   "outputs": [],
   "source": [
    "# Votre code ici"
   ]
  },
  {
   "cell_type": "markdown",
   "metadata": {},
   "source": [
    "---\n",
    "<details>\n",
    "<summary><strong>Solution</strong></summary>\n",
    "\n",
    "**Étape 1 : Créer la classe de base `Animal`**\n",
    "\n",
    "```python\n",
    "class Animal:\n",
    "    def __init__(self, nom, age, milieu):\n",
    "        self.nom = nom\n",
    "        self.age = age\n",
    "        self.milieu = milieu\n",
    "\n",
    "    def se_deplacer(self):\n",
    "        print(f\"{self.nom} se déplace dans le milieu {self.milieu}.\")\n",
    "```"
   ]
  },
  {
   "cell_type": "markdown",
   "metadata": {},
   "source": [
    "2. **Créer des classes enfants qui héritent de `Animal`** :\n",
    "   - `Mammifere` : ajoute l'attribut `regime_alimentaire` (par exemple : herbivore, carnivore, omnivore).\n",
    "     - Méthode `allaiter()` : affiche un message indiquant que le mammifère allaite ses petits.\n",
    "   - `Oiseau` : ajoute l'attribut `couleur_plumage`.\n",
    "     - Méthode `voler()` : affiche un message indiquant que l'oiseau vole.\n",
    "   - `Poisson` : ajoute l'attribut `type_eau` (douce, salée).\n",
    "     - Méthode `nager()` : affiche un message indiquant que le poisson nage.\n",
    "\n",
    "3. **Redéfinir la méthode `se_deplacer()`** dans chaque classe enfant pour refléter le mode de déplacement spécifique de chaque type d'animal.\n"
   ]
  },
  {
   "cell_type": "markdown",
   "metadata": {},
   "source": [
    "---\n",
    "<details>\n",
    "<summary><strong>Solution</strong></summary>\n",
    "\n",
    "**Étape 2 : Créer les classes enfants**\n",
    "**Classe `Mammifere`**\n",
    "\n",
    "```python\n",
    "class Mammifere(Animal):\n",
    "    def __init__(self, nom, age, milieu, regime_alimentaire):\n",
    "        super().__init__(nom, age, milieu)\n",
    "        self.regime_alimentaire = regime_alimentaire\n",
    "\n",
    "    def allaiter(self):\n",
    "        print(f\"{self.nom} allaite ses petits.\")\n",
    "\n",
    "    def se_deplacer(self):\n",
    "        print(f\"{self.nom} marche ou court sur le sol.\")\n",
    "```\n",
    "\n",
    "**Classe `Oiseau`**\n",
    "\n",
    "```python\n",
    "class Oiseau(Animal):\n",
    "    def __init__(self, nom, age, milieu, couleur_plumage):\n",
    "        super().__init__(nom, age, milieu)\n",
    "        self.couleur_plumage = couleur_plumage\n",
    "\n",
    "    def voler(self):\n",
    "        print(f\"{self.nom} vole dans les airs.\")\n",
    "\n",
    "    def se_deplacer(self):\n",
    "        print(f\"{self.nom} vole ou se déplace en marchant.\")\n",
    "```\n",
    "\n",
    "**Classe `Poisson`**\n",
    "\n",
    "```python\n",
    "class Poisson(Animal):\n",
    "    def __init__(self, nom, age, milieu, type_eau):\n",
    "        super().__init__(nom, age, milieu)\n",
    "        self.type_eau = type_eau\n",
    "\n",
    "    def nager(self):\n",
    "        print(f\"{self.nom} nage dans l'eau {self.type_eau}.\")\n",
    "\n",
    "    def se_deplacer(self):\n",
    "        print(f\"{self.nom} nage en utilisant ses nageoires.\")\n",
    "```"
   ]
  },
  {
   "cell_type": "markdown",
   "metadata": {},
   "source": [
    "---\n",
    "3. **Instancier des objets** de chaque classe enfant avec des exemples concrets (par exemple, un lion, un aigle, un saumon) et afficher leurs attributs et méthodes.\n"
   ]
  },
  {
   "cell_type": "markdown",
   "metadata": {},
   "source": [
    "---\n",
    "<details>\n",
    "<summary><strong>Solution</strong></summary>\n",
    "\n",
    "**Étape 3 : Instancier des objets et tester les méthodes**\n",
    "\n",
    "**Instanciation d'un mammifère : Lion**\n",
    "\n",
    "```python\n",
    "lion = Mammifere(\"Lion\", 5, \"terrestre\", \"carnivore\")\n",
    "print(f\"Nom : {lion.nom}\")\n",
    "print(f\"Âge : {lion.age} ans\")\n",
    "print(f\"Milieu : {lion.milieu}\")\n",
    "print(f\"Régime alimentaire : {lion.regime_alimentaire}\")\n",
    "lion.se_deplacer()\n",
    "lion.allaiter()\n",
    "```\n",
    "\n",
    "**Sortie :**\n",
    "\n",
    "```\n",
    "Nom : Lion\n",
    "Âge : 5 ans\n",
    "Milieu : terrestre\n",
    "Régime alimentaire : carnivore\n",
    "Lion marche ou court sur le sol.\n",
    "Lion allaite ses petits.\n",
    "```\n",
    "\n",
    "###### **Instanciation d'un oiseau : Aigle**\n",
    "\n",
    "```python\n",
    "aigle = Oiseau(\"Aigle\", 3, \"aérien\", \"brun\")\n",
    "print(f\"\\nNom : {aigle.nom}\")\n",
    "print(f\"Âge : {aigle.age} ans\")\n",
    "print(f\"Milieu : {aigle.milieu}\")\n",
    "print(f\"Couleur du plumage : {aigle.couleur_plumage}\")\n",
    "aigle.se_deplacer()\n",
    "aigle.voler()\n",
    "```\n",
    "\n",
    "**Sortie :**\n",
    "\n",
    "```\n",
    "Nom : Aigle\n",
    "Âge : 3 ans\n",
    "Milieu : aérien\n",
    "Couleur du plumage : brun\n",
    "Aigle vole ou se déplace en marchant.\n",
    "Aigle vole dans les airs.\n",
    "```\n",
    "\n",
    "###### **Instanciation d'un poisson : Saumon**\n",
    "\n",
    "```python\n",
    "saumon = Poisson(\"Saumon\", 2, \"aquatique\", \"douce\")\n",
    "print(f\"\\nNom : {saumon.nom}\")\n",
    "print(f\"Âge : {saumon.age} ans\")\n",
    "print(f\"Milieu : {saumon.milieu}\")\n",
    "print(f\"Type d'eau : {saumon.type_eau}\")\n",
    "saumon.se_deplacer()\n",
    "saumon.nager()\n",
    "```\n",
    "\n",
    "**Sortie :**\n",
    "\n",
    "```\n",
    "Nom : Saumon\n",
    "Âge : 2 ans\n",
    "Milieu : aquatique\n",
    "Type d'eau : douce\n",
    "Saumon nage en utilisant ses nageoires.\n",
    "Saumon nage dans l'eau douce.\n",
    "```"
   ]
  },
  {
   "cell_type": "markdown",
   "metadata": {},
   "source": [
    "---\n",
    "\n",
    "**Explications supplémentaires :**\n",
    "\n",
    "- **Héritage :** Les classes `Mammifere`, `Oiseau` et `Poisson` héritent de la classe `Animal`, ce qui signifie qu'elles ont accès aux attributs et méthodes de `Animal`.\n",
    "- **Redéfinition de méthode :** La méthode `se_deplacer()` est redéfinie dans chaque classe enfant pour spécifier le mode de déplacement de chaque type d'animal.\n",
    "- **Attributs spécifiques :** Chaque classe enfant ajoute des attributs spécifiques (`regime_alimentaire`, `couleur_plumage`, `type_eau`) et des méthodes spécifiques (`allaiter()`, `voler()`, `nager()`).\n",
    "- **Utilisation de `super()`:** La fonction `super().__init__()` est utilisée pour appeler le constructeur de la classe parente `Animal` afin d'initialiser les attributs hérités (`nom`, `age`, `milieu`).\n",
    "\n",
    "---"
   ]
  },
  {
   "cell_type": "markdown",
   "metadata": {},
   "source": [
    "**Aller plus loin :**\n",
    "\n",
    "Pour approfondir cet exercice, vous pouvez :\n",
    "\n",
    "- **Ajouter d'autres classes enfants :** Par exemple, `Reptile`, `Amphibien`, `Insecte`, avec leurs propres attributs et méthodes spécifiques.\n",
    "- **Créer une méthode `emettre_son()` dans la classe `Animal`** et la redéfinir dans les classes enfants pour refléter les sons spécifiques de chaque animal.\n",
    "- **Implémenter une hiérarchie plus complexe :** Ajouter des sous-classes de `Mammifere` comme `Felidae` (félins) et `Canidae` (canidés), et ainsi de suite, pour refléter une classification taxonomique plus détaillée.\n",
    "\n",
    "---"
   ]
  },
  {
   "cell_type": "markdown",
   "metadata": {},
   "source": [
    "**Exemple d'ajout d'une sous-classe :**\n",
    "\n",
    "**Classe `Felidae` (Félins)**\n",
    "\n",
    "```python\n",
    "class Felidae(Mammifere):\n",
    "    def __init__(self, nom, age, milieu, regime_alimentaire, espece):\n",
    "        super().__init__(nom, age, milieu, regime_alimentaire)\n",
    "        self.espece = espece\n",
    "\n",
    "    def rugir(self):\n",
    "        print(f\"{self.nom} rugit puissamment !\")\n",
    "\n",
    "    def se_deplacer(self):\n",
    "        print(f\"{self.nom} se déplace avec agilité et discrétion.\")\n",
    "```\n",
    "\n",
    "**Instanciation d'un félin : Tigre**\n",
    "\n",
    "```python\n",
    "tigre = Felidae(\"Tigre\", 4, \"terrestre\", \"carnivore\", \"Panthera tigris\")\n",
    "print(f\"\\nNom : {tigre.nom}\")\n",
    "print(f\"Âge : {tigre.age} ans\")\n",
    "print(f\"Milieu : {tigre.milieu}\")\n",
    "print(f\"Régime alimentaire : {tigre.regime_alimentaire}\")\n",
    "print(f\"Espèce : {tigre.espece}\")\n",
    "tigre.se_deplacer()\n",
    "tigre.allaiter()  # Hérité de Mammifere\n",
    "tigre.rugir()\n",
    "```\n",
    "\n",
    "**Sortie :**\n",
    "\n",
    "```\n",
    "Nom : Tigre\n",
    "Âge : 4 ans\n",
    "Milieu : terrestre\n",
    "Régime alimentaire : carnivore\n",
    "Espèce : Panthera tigris\n",
    "Tigre se déplace avec agilité et discrétion.\n",
    "Tigre allaite ses petits.\n",
    "Tigre rugit puissamment !\n",
    "```\n",
    "\n",
    "---"
   ]
  },
  {
   "cell_type": "markdown",
   "metadata": {},
   "source": [
    "**Application aux Thésaurus d'Iconographie :**\n",
    "\n",
    "- **Créer une classe de base `OeuvreArtistique`** avec des attributs communs tels que `titre`, `artiste`, `date`.\n",
    "- **Créer des classes enfants** comme `Peinture`, `Sculpture`, `Photographie`, qui héritent de `OeuvreArtistique` et ajoutent des attributs spécifiques (par exemple, `technique`, `matériau`).\n",
    "- **Organiser les oeuvres selon des thèmes iconographiques**, en ajoutant des méthodes pour catégoriser ou décrire les symboles présents dans l'oeuvre.\n",
    "\n",
    "---\n",
    "\n",
    "#### **Exemple rapide avec les thésaurus d'iconographie :**\n",
    "\n",
    "##### **Classe de base `OeuvreArtistique`**\n",
    "\n",
    "```python\n",
    "class OeuvreArtistique:\n",
    "    def __init__(self, titre, artiste, date):\n",
    "        self.titre = titre\n",
    "        self.artiste = artiste\n",
    "        self.date = date\n",
    "\n",
    "    def afficher_info(self):\n",
    "        print(f\"Titre : {self.titre}\")\n",
    "        print(f\"Artiste : {self.artiste}\")\n",
    "        print(f\"Date : {self.date}\")\n",
    "```\n",
    "\n",
    "##### **Classe enfant `Peinture`**\n",
    "\n",
    "```python\n",
    "class Peinture(OeuvreArtistique):\n",
    "    def __init__(self, titre, artiste, date, technique):\n",
    "        super().__init__(titre, artiste, date)\n",
    "        self.technique = technique\n",
    "\n",
    "    def afficher_info(self):\n",
    "        super().afficher_info()\n",
    "        print(f\"Technique : {self.technique}\")\n",
    "```\n",
    "\n",
    "##### **Instanciation d'une peinture**\n",
    "\n",
    "```python\n",
    "la_joconde = Peinture(\"La Joconde\", \"Léonard de Vinci\", 1503, \"Huile sur panneau de bois\")\n",
    "la_joconde.afficher_info()\n",
    "```\n",
    "\n",
    "**Sortie :**\n",
    "\n",
    "```\n",
    "Titre : La Joconde\n",
    "Artiste : Léonard de Vinci\n",
    "Date : 1503\n",
    "Technique : Huile sur panneau de bois\n",
    "```"
   ]
  },
  {
   "cell_type": "markdown",
   "metadata": {},
   "source": [
    "---\n",
    "## Les décorateurs\n",
    "### **Qu'est-ce qu'un décorateur en Python ?**\n",
    "\n",
    "Un **décorateur** en Python est un moyen d'ajouter des fonctionnalités supplémentaires à une fonction **sans modifier son code source**. C'est comme si vous emballiez une fonction existante dans une autre fonction pour étendre son comportement."
   ]
  },
  {
   "cell_type": "markdown",
   "metadata": {},
   "source": [
    "---\n",
    "### **Pourquoi utiliser des décorateurs ?**\n",
    "\n",
    "- **Réutilisation du code** : Vous pouvez ajouter la même fonctionnalité à plusieurs fonctions sans répéter le code.\n",
    "- **Séparation des préoccupations** : Vous pouvez garder le code de vos fonctions propre et simple, en déplaçant les fonctionnalités supplémentaires dans les décorateurs.\n",
    "- **Flexibilité** : Vous pouvez facilement activer ou désactiver les fonctionnalités supplémentaires en ajoutant ou en supprimant le décorateur."
   ]
  },
  {
   "cell_type": "markdown",
   "metadata": {},
   "source": [
    "---\n",
    "### **Comment fonctionnent les décorateurs ?**\n",
    "\n",
    "En Python, les fonctions sont des objets. Cela signifie que vous pouvez les passer en paramètres à d'autres fonctions, les retourner, les affecter à des variables, etc.\n",
    "\n",
    "Un décorateur est simplement une fonction qui prend une autre fonction en paramètre et retourne une nouvelle fonction."
   ]
  },
  {
   "cell_type": "markdown",
   "metadata": {},
   "source": [
    "---\n",
    "\n",
    "#### **Construction d'un décorateur étape par étape**\n",
    "\n",
    "##### **1. Une fonction simple**\n",
    "\n",
    "Commençons par une fonction simple qui dit bonjour."
   ]
  },
  {
   "cell_type": "code",
   "execution_count": 50,
   "metadata": {},
   "outputs": [
    {
     "name": "stdout",
     "output_type": "stream",
     "text": [
      "Bonjour !\n"
     ]
    }
   ],
   "source": [
    "def saluer():\n",
    "    print(\"Bonjour !\")\n",
    "\n",
    "saluer()"
   ]
  },
  {
   "cell_type": "markdown",
   "metadata": {},
   "source": [
    "##### **2. Une fonction qui prend une autre fonction en paramètre**\n",
    "\n",
    "Créons une fonction qui prend une fonction en paramètre."
   ]
  },
  {
   "cell_type": "code",
   "execution_count": 51,
   "metadata": {},
   "outputs": [
    {
     "name": "stdout",
     "output_type": "stream",
     "text": [
      "<class 'function'>\n"
     ]
    }
   ],
   "source": [
    "def mon_decorateur(fonction):\n",
    "    def nouvelle_fonction():\n",
    "        fonction()\n",
    "    return nouvelle_fonction\n",
    "\n",
    "print(type(mon_decorateur))"
   ]
  },
  {
   "cell_type": "markdown",
   "metadata": {},
   "source": [
    "Ici, `mon_decorateur` est une fonction qui prend une fonction `fonction` en paramètre, définit une nouvelle fonction `nouvelle_fonction` qui appelle `fonction()`, puis retourne `nouvelle_fonction`."
   ]
  },
  {
   "cell_type": "markdown",
   "metadata": {},
   "source": [
    "##### **3. Décorer la fonction `saluer`**\n",
    "\n",
    "Utilisons le décorateur pour modifier la fonction `saluer`."
   ]
  },
  {
   "cell_type": "code",
   "execution_count": 52,
   "metadata": {},
   "outputs": [],
   "source": [
    "def saluer():\n",
    "    print(\"Bonjour !\")\n",
    "\n",
    "saluer = mon_decorateur(saluer)"
   ]
  },
  {
   "cell_type": "markdown",
   "metadata": {},
   "source": [
    "Maintenant, quand vous appelez `saluer()`, vous exécutez en réalité `nouvelle_fonction`."
   ]
  },
  {
   "cell_type": "markdown",
   "metadata": {},
   "source": [
    "#### **4. Ajouter du code avant et après**\n",
    "\n",
    "Modifions `mon_decorateur` pour ajouter du code avant et après l'appel de la fonction originale."
   ]
  },
  {
   "cell_type": "code",
   "execution_count": 53,
   "metadata": {},
   "outputs": [],
   "source": [
    "def mon_decorateur(fonction):\n",
    "    def nouvelle_fonction():\n",
    "        print(\"Avant l'appel de la fonction\")\n",
    "        fonction()\n",
    "        print(\"Après l'appel de la fonction\")\n",
    "    return nouvelle_fonction"
   ]
  },
  {
   "cell_type": "markdown",
   "metadata": {},
   "source": [
    "Recréons `saluer` avec ce nouveau décorateur."
   ]
  },
  {
   "cell_type": "code",
   "execution_count": 54,
   "metadata": {},
   "outputs": [],
   "source": [
    "def saluer():\n",
    "    print(\"Bonjour !\")\n",
    "\n",
    "saluer = mon_decorateur(saluer)"
   ]
  },
  {
   "cell_type": "markdown",
   "metadata": {},
   "source": [
    "Maintenant, si vous appelez `saluer()`, vous obtenez :\n",
    "\n",
    "```\n",
    "Avant l'appel de la fonction\n",
    "Bonjour !\n",
    "Après l'appel de la fonction\n",
    "```"
   ]
  },
  {
   "cell_type": "markdown",
   "metadata": {},
   "source": [
    "##### **5. Utiliser la syntaxe du décorateur**\n",
    "\n",
    "Python fournit une syntaxe spéciale pour appliquer un décorateur à une fonction, en utilisant le symbole `@`.\n",
    "\n",
    "```python\n",
    "@mon_decorateur\n",
    "def saluer():\n",
    "    print(\"Bonjour !\")\n",
    "```\n",
    "\n",
    "Ceci est équivalent à :\n",
    "\n",
    "```python\n",
    "def saluer():\n",
    "    print(\"Bonjour !\")\n",
    "\n",
    "saluer = mon_decorateur(saluer)\n",
    "```"
   ]
  },
  {
   "cell_type": "markdown",
   "metadata": {},
   "source": [
    "##### **6. Comprendre ce qui se passe**\n",
    "\n",
    "- **`mon_decorateur`** est appelé avec `saluer` comme argument.\n",
    "- Il définit `nouvelle_fonction` qui ajoute du code avant et après `saluer`.\n",
    "- Il retourne `nouvelle_fonction`, qui remplace `saluer`.\n",
    "- Quand vous appelez `saluer()`, vous exécutez en réalité `nouvelle_fonction()`.\n",
    "\n",
    "---"
   ]
  },
  {
   "cell_type": "markdown",
   "metadata": {},
   "source": [
    "#### **Exemple complet avec explication détaillée**\n",
    "\n",
    "##### **Définition du décorateur**"
   ]
  },
  {
   "cell_type": "code",
   "execution_count": 55,
   "metadata": {},
   "outputs": [],
   "source": [
    "def afficher_debut_fin(fonction):\n",
    "    def wrapper():\n",
    "        print(\"Début de la fonction\")\n",
    "        fonction()\n",
    "        print(\"Fin de la fonction\")\n",
    "    return wrapper"
   ]
  },
  {
   "cell_type": "markdown",
   "metadata": {},
   "source": [
    "- **`afficher_debut_fin`** est notre décorateur.\n",
    "- **`wrapper`** est la nouvelle fonction qui englobe la fonction originale.\n",
    "- **`print(\"Début de la fonction\")`** est exécuté avant l'appel de la fonction originale.\n",
    "- **`fonction()`** est l'appel de la fonction originale.\n",
    "- **`print(\"Fin de la fonction\")`** est exécuté après l'appel de la fonction originale."
   ]
  },
  {
   "cell_type": "markdown",
   "metadata": {},
   "source": [
    "##### **Utilisation du décorateur**\n",
    "\n",
    "- **`@afficher_debut_fin`** applique le décorateur à la fonction `dire_bonjour`."
   ]
  },
  {
   "cell_type": "code",
   "execution_count": 56,
   "metadata": {},
   "outputs": [],
   "source": [
    "@afficher_debut_fin\n",
    "def dire_bonjour():\n",
    "    print(\"Bonjour tout le monde !\")"
   ]
  },
  {
   "cell_type": "markdown",
   "metadata": {},
   "source": [
    "##### **Appel de la fonction décorée**"
   ]
  },
  {
   "cell_type": "code",
   "execution_count": 57,
   "metadata": {},
   "outputs": [
    {
     "name": "stdout",
     "output_type": "stream",
     "text": [
      "Début de la fonction\n",
      "Bonjour tout le monde !\n",
      "Fin de la fonction\n"
     ]
    }
   ],
   "source": [
    "dire_bonjour()"
   ]
  },
  {
   "cell_type": "markdown",
   "metadata": {},
   "source": [
    "##### **Explication**\n",
    "\n",
    "- Quand vous appelez `dire_bonjour()`, vous exécutez en réalité `wrapper()`.\n",
    "- Le message \"Début de la fonction\" est affiché.\n",
    "- La fonction originale `dire_bonjour` est appelée, ce qui affiche \"Bonjour tout le monde !\".\n",
    "- Le message \"Fin de la fonction\" est affiché."
   ]
  },
  {
   "cell_type": "markdown",
   "metadata": {},
   "source": [
    "---\n",
    "\n",
    "### **Gérer les fonctions avec des arguments `*args` et `**kwargs`**\n",
    "\n",
    "Si votre fonction originale prend des arguments, vous devez modifier le décorateur pour accepter ces arguments.\n",
    "\n",
    "#### **Décorateur modifié pour accepter des arguments avec `*args` et `**kwargs`**"
   ]
  },
  {
   "cell_type": "code",
   "execution_count": 58,
   "metadata": {},
   "outputs": [],
   "source": [
    "def afficher_debut_fin(fonction):\n",
    "    def wrapper(*args, **kwargs):\n",
    "        print(\"Début de la fonction\")\n",
    "        resultat = fonction(*args, **kwargs)\n",
    "        print(\"Fin de la fonction\")\n",
    "        return resultat\n",
    "    return wrapper"
   ]
  },
  {
   "cell_type": "markdown",
   "metadata": {},
   "source": [
    "- **`*args` et `**kwargs`** permettent à `wrapper` d'accepter n'importe quel nombre d'arguments positionnels et nommés.\n",
    "- **`resultat = fonction(*args, **kwargs)`** appelle la fonction originale avec tous ses arguments.\n",
    "- **`return resultat`** retourne le résultat de la fonction originale."
   ]
  },
  {
   "cell_type": "markdown",
   "metadata": {},
   "source": [
    "#### **Fonction avec des arguments**"
   ]
  },
  {
   "cell_type": "code",
   "execution_count": 59,
   "metadata": {},
   "outputs": [],
   "source": [
    "@afficher_debut_fin\n",
    "def addition(a, b):\n",
    "    return a + b"
   ]
  },
  {
   "cell_type": "markdown",
   "metadata": {},
   "source": [
    "##### **Appel de la fonction décorée**"
   ]
  },
  {
   "cell_type": "code",
   "execution_count": 60,
   "metadata": {},
   "outputs": [
    {
     "name": "stdout",
     "output_type": "stream",
     "text": [
      "Début de la fonction\n",
      "Fin de la fonction\n",
      "Le résultat est 8\n"
     ]
    }
   ],
   "source": [
    "resultat = addition(5, 3)\n",
    "print(f\"Le résultat est {resultat}\")"
   ]
  },
  {
   "cell_type": "markdown",
   "metadata": {},
   "source": [
    "---\n",
    "\n",
    "#### **Autre exemple pratique**\n",
    "\n",
    "##### **Création d'un décorateur pour mesurer le temps d'exécution**"
   ]
  },
  {
   "cell_type": "code",
   "execution_count": 61,
   "metadata": {},
   "outputs": [],
   "source": [
    "import time\n",
    "\n",
    "def mesurer_temps(fonction):\n",
    "    def get_time(*args, **kwargs):\n",
    "        debut = time.time()\n",
    "        resultat = fonction(*args, **kwargs)\n",
    "        fin = time.time()\n",
    "        duree = fin - debut\n",
    "        print(f\"Temps d'exécution : {duree} secondes\")\n",
    "        return resultat\n",
    "    return get_time"
   ]
  },
  {
   "cell_type": "markdown",
   "metadata": {},
   "source": [
    "##### **Utilisation du décorateur**"
   ]
  },
  {
   "cell_type": "code",
   "execution_count": 62,
   "metadata": {},
   "outputs": [],
   "source": [
    "@mesurer_temps\n",
    "def somme_nombres(n):\n",
    "    somme = 0\n",
    "    for i in range(n):\n",
    "        somme += i\n",
    "    return somme"
   ]
  },
  {
   "cell_type": "markdown",
   "metadata": {},
   "source": [
    "##### **Appel de la fonction décorée**"
   ]
  },
  {
   "cell_type": "code",
   "execution_count": 63,
   "metadata": {},
   "outputs": [
    {
     "name": "stdout",
     "output_type": "stream",
     "text": [
      "Temps d'exécution : 0.02829599380493164 secondes\n",
      "La somme est 499999500000\n"
     ]
    }
   ],
   "source": [
    "somme = somme_nombres(1000000)\n",
    "print(f\"La somme est {somme}\")"
   ]
  },
  {
   "cell_type": "markdown",
   "metadata": {},
   "source": [
    "---\n",
    "\n",
    "#### **Points importants à retenir**\n",
    "\n",
    "- Un décorateur est une fonction qui prend une fonction en entrée et retourne une nouvelle fonction.\n",
    "- La syntaxe `@nom_du_decorateur` est une manière pratique d'appliquer un décorateur à une fonction.\n",
    "- Les décorateurs peuvent ajouter du code **avant** et **après** l'exécution de la fonction originale.\n",
    "- Utilisez `*args` et `**kwargs` dans le décorateur pour gérer les fonctions qui acceptent des arguments.\n",
    "- Les décorateurs sont souvent utilisés pour :\n",
    "  - **Journaliser** les appels de fonctions.\n",
    "  - **Vérifier** des préconditions ou des permissions.\n",
    "  - **Mesurer** le temps d'exécution.\n",
    "  - **Mettre en cache** les résultats des fonctions.\n",
    "\n",
    "---"
   ]
  },
  {
   "cell_type": "markdown",
   "metadata": {},
   "source": [
    "#### **Conclusion**\n",
    "\n",
    "Les décorateurs en Python sont un outil puissant pour **modifier ou étendre** le comportement des fonctions sans modifier leur code source. Ils vous permettent d'ajouter des fonctionnalités transversales telles que la journalisation, la vérification des permissions, le cache, etc.\n",
    "\n",
    "En comprenant comment fonctionnent les décorateurs, vous pouvez écrire du code plus propre, modulaire et maintenable.\n",
    "\n",
    "---\n",
    "\n",
    "#### **Récapitulatif**\n",
    "\n",
    "- **Décorateur** : Fonction qui prend une fonction en paramètre et retourne une nouvelle fonction.\n",
    "- **Syntaxe** : Utilisation de `@nom_du_decorateur` au-dessus de la fonction à décorer.\n",
    "- **Fonction interne (`wrapper`)** : Définit le nouveau comportement, en appelant la fonction originale.\n",
    "- **Arguments** : Utilisation de `*args` et `**kwargs` pour gérer les fonctions avec des arguments."
   ]
  }
 ],
 "metadata": {
  "kernelspec": {
   "display_name": "3.12.6",
   "language": "python",
   "name": "python3"
  },
  "language_info": {
   "codemirror_mode": {
    "name": "ipython",
    "version": 3
   },
   "file_extension": ".py",
   "mimetype": "text/x-python",
   "name": "python",
   "nbconvert_exporter": "python",
   "pygments_lexer": "ipython3",
   "version": "3.12.6"
  }
 },
 "nbformat": 4,
 "nbformat_minor": 2
}
