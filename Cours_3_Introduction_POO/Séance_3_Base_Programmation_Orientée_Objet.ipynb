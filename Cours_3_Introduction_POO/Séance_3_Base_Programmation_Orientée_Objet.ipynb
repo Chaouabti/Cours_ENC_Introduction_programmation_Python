{
 "cells": [
  {
   "cell_type": "markdown",
   "metadata": {},
   "source": [
    "# Séance 3 - Base de la Programmation Orientée Objet\n",
    "\n",
    "---"
   ]
  },
  {
   "cell_type": "markdown",
   "metadata": {},
   "source": [
    "## Table des Matières\n",
    "\n",
    "1. [Révisions](#Révisions)\n",
    "    - [Commentaires de code](#Commentaires-de-code)\n",
    "        - [Pourquoi commenter son code ?](#Pourquoi-commenter-son-code-?)\n",
    "        - [Commentaire docstring (`\"\"\"...\"\"\"`)](#Commentaire-docstring)\n",
    "        - [Commentaire en ligne (`#`)](#Commentaire-en-ligne)\n",
    "    - [Fonctions](#Fonctions)\n",
    "        - [Importance des fonctions](#Importance-des-fonctions)\n",
    "        - [Structure d'une fonction](#Structure-d'une-fonction)\n",
    "        - [Fonction lambda](#Fonction-lambda)\n",
    "    - [Modules](#Modules)\n",
    "        - [Rappels](#Rappels)\n",
    "        - [Le fichier `__init__.py`](#Le-fichier-__init__.py)\n",
    "        - [Import de modules](#Import-de-modules)\n",
    "2. [Introduction aux Classes et Objets](#Introduction-aux-Classes-et-Objets)\n",
    "    - [Qu'est-ce que la POO ?](#Qu'est-ce-que-la-POO-?)\n",
    "    - [Les Classes](#Les-Classes)\n",
    "    - [Les Objets](#Les-Objets)\n",
    "    - \n",
    "3. [Les Méthodes et les Attributs](#Les-Méthodes-et-les-Attributs)\n",
    "    - [Les Attributs d'Instance](#Les-Attributs-d'Instance)\n",
    "    - [Les Attributs de Classe](#Les-Attributs-de-Classe)\n",
    "    - [La Méthode `__init__` et le Paramètre `self`](#La-Méthode-__init__-et-le-Paramètre-self)\n",
    "3. [Exemples Pratiques et Exercices](#Exemples-Pratiques-et-Exercices)\n",
    "\n",
    "---"
   ]
  },
  {
   "cell_type": "markdown",
   "metadata": {
    "vscode": {
     "languageId": "plaintext"
    }
   },
   "source": [
    "## Révisions\n",
    "\n",
    "### Commentaires de code\n",
    "\n",
    "#### Pourquoi commenter son code ?\n",
    "\n",
    "Les commentaires sont des notes que vous laissez dans votre code pour expliquer ce qu'il fait. Ils ne sont pas exécutés par l'interpréteur Python, mais ils sont essentiels pour :\n",
    "\n",
    "- **Améliorer la lisibilité et la compréhension** : Aider les autres (et vous-même) à comprendre ce que fait le code.\n",
    "- **Faciliter la maintenance et la collaboration** : Rendre le code plus facile à mettre à jour et à partager avec d'autres développeurs.\n",
    "- **Servir de documentation** : Expliquer les fonctionnalités, les paramètres et les retours des fonctions ou classes.\n",
    "\n",
    "#### Commentaire docstring\n",
    "\n",
    "Les **docstrings** sont des chaînes de documentation placées juste après la définition d'une fonction, d'une classe ou d'un module. Elles sont définies entre triple guillemets (`\"\"\"...\"\"\"`) et peuvent s'étendre sur plusieurs lignes."
   ]
  },
  {
   "cell_type": "markdown",
   "metadata": {},
   "source": [
    "##### Exemple :"
   ]
  },
  {
   "cell_type": "code",
   "execution_count": 19,
   "metadata": {},
   "outputs": [],
   "source": [
    "def analyser_texte(texte):\n",
    "    \"\"\"\n",
    "    Analyse un texte donné et retourne le nombre de mots.\n",
    "\n",
    "    Paramètres:\n",
    "    :param texte (str): \n",
    "        - Type: str\n",
    "        - Description Le texte à analyser.\n",
    "\n",
    "    Retourne:\n",
    "        - Type : int\n",
    "        - Description : Le nombre de mots dans le texte.\n",
    "    \"\"\"\n",
    "    mots = texte.split()\n",
    "    return len(mots)"
   ]
  },
  {
   "cell_type": "markdown",
   "metadata": {},
   "source": [
    "#### Commentaire en ligne\n",
    "\n",
    "Les commentaires en ligne commencent par le symbole `#` et s'étendent jusqu'à la fin de la ligne. Ils sont utilisés pour expliquer des parties spécifiques du code."
   ]
  },
  {
   "cell_type": "markdown",
   "metadata": {},
   "source": [
    "##### Exemple :"
   ]
  },
  {
   "cell_type": "code",
   "execution_count": 20,
   "metadata": {},
   "outputs": [],
   "source": [
    "# Initialisation de la liste des événements historiques\n",
    "evenements = []\n",
    "\n",
    "# Ajout d'un événement à la liste\n",
    "evenements.append(\"Chute de l'Empire romain en 476\")"
   ]
  },
  {
   "cell_type": "markdown",
   "metadata": {},
   "source": [
    "---\n",
    "\n",
    "### Fonctions\n",
    "\n",
    "#### Importance des fonctions\n",
    "\n",
    "Les fonctions permettent de :\n",
    "\n",
    "- **Modulariser le code** : Diviser le code en blocs réutilisables.\n",
    "- **Réduire la redondance** : Éviter de répéter le même code plusieurs fois.\n",
    "- **Améliorer la lisibilité** : Rendre le code plus facile à comprendre.\n",
    "\n",
    "#### Structure d'une fonction\n",
    "\n",
    "Une fonction en Python est définie avec le mot-clé `def`, suivi du nom de la fonction et des parenthèses contenant éventuellement des paramètres.\n",
    "\n",
    "##### Syntaxe de base :"
   ]
  },
  {
   "cell_type": "code",
   "execution_count": 21,
   "metadata": {},
   "outputs": [],
   "source": [
    "def nom_de_la_fonction(paramètre1, paramètre2):\n",
    "    # Bloc de code de la fonction\n",
    "    resultat = ''\n",
    "    return resultat"
   ]
  },
  {
   "cell_type": "markdown",
   "metadata": {},
   "source": [
    "##### Exemple :"
   ]
  },
  {
   "cell_type": "code",
   "execution_count": 22,
   "metadata": {},
   "outputs": [],
   "source": [
    "def calculer_annees_regne(date1, date2):\n",
    "    \"\"\"\n",
    "    Calcule le nombre d'années entre deux dates.\n",
    "\n",
    "    Paramètres:\n",
    "    date1 (int): La première date.\n",
    "    date2 (int): La deuxième date.\n",
    "\n",
    "    Retourne:\n",
    "    int: Le nombre d'années entre les deux dates.\n",
    "    \"\"\"\n",
    "    return abs(date2 - date1)"
   ]
  },
  {
   "cell_type": "markdown",
   "metadata": {},
   "source": [
    "#### Fonction lambda\n",
    "\n",
    "Les **fonctions lambda** sont des fonctions anonymes, définies en une seule ligne avec le mot-clé `lambda`. Elles sont souvent utilisées pour des opérations simples.\n",
    "\n",
    "##### Syntaxe :\n",
    "\n",
    "lambda paramètres: expression"
   ]
  },
  {
   "cell_type": "markdown",
   "metadata": {},
   "source": [
    "##### Exemple :"
   ]
  },
  {
   "cell_type": "code",
   "execution_count": 23,
   "metadata": {},
   "outputs": [
    {
     "name": "stdout",
     "output_type": "stream",
     "text": [
      "15\n"
     ]
    }
   ],
   "source": [
    "# Fonction lambda pour ajouter 10 à un nombre\n",
    "ajouter_dix = lambda x: x + 10\n",
    "print(ajouter_dix(5))  # Affiche 15"
   ]
  },
  {
   "cell_type": "markdown",
   "metadata": {},
   "source": [
    "---\n",
    "\n",
    "### Modules\n",
    "\n",
    "#### Rappels\n",
    "\n",
    "Un **module** est un fichier Python contenant du code (fonctions, classes, variables) que vous pouvez réutiliser dans d'autres scripts en l'important. Les modules permettent de :\n",
    "\n",
    "- **Organiser le code** : Structurer le code en parties logiques.\n",
    "- **Réutiliser le code** : Importer des fonctions ou classes dans plusieurs scripts.\n",
    "\n",
    "#### Le fichier `__init__.py`\n",
    "\n",
    "Le fichier `__init__.py` est utilisé pour indiquer qu'un répertoire doit être traité comme un **package** Python. Il peut être vide ou contenir du code d'initialisation pour le package.\n",
    "\n",
    "##### Exemple de structure de package :\n",
    "\n",
    "```\n",
    "mon_package/\n",
    "├── __init__.py\n",
    "├── module1.py\n",
    "└── module2.py\n",
    "```\n",
    "\n",
    "#### Import de modules\n",
    "\n",
    "Il existe plusieurs façons d'importer des modules en Python.\n",
    "\n",
    "##### Importation standard"
   ]
  },
  {
   "cell_type": "code",
   "execution_count": 24,
   "metadata": {},
   "outputs": [
    {
     "name": "stdout",
     "output_type": "stream",
     "text": [
      "3.141592653589793\n"
     ]
    }
   ],
   "source": [
    "import math\n",
    "\n",
    "print(math.pi)"
   ]
  },
  {
   "cell_type": "markdown",
   "metadata": {},
   "source": [
    "##### Importation spécifique"
   ]
  },
  {
   "cell_type": "code",
   "execution_count": 25,
   "metadata": {},
   "outputs": [
    {
     "name": "stdout",
     "output_type": "stream",
     "text": [
      "3.141592653589793\n"
     ]
    }
   ],
   "source": [
    "from math import pi\n",
    "\n",
    "print(pi)"
   ]
  },
  {
   "cell_type": "markdown",
   "metadata": {},
   "source": [
    "##### Utilisation d'alias"
   ]
  },
  {
   "cell_type": "code",
   "execution_count": 26,
   "metadata": {},
   "outputs": [
    {
     "name": "stdout",
     "output_type": "stream",
     "text": [
      "3.141592653589793\n"
     ]
    }
   ],
   "source": [
    "import math as m\n",
    "\n",
    "print((m.pi))"
   ]
  },
  {
   "cell_type": "markdown",
   "metadata": {},
   "source": [
    "---\n",
    "\n",
    "## Introduction aux Classes et Objets\n",
    "\n",
    "### Qu'est-ce que la POO ?\n",
    "\n",
    "La **Programmation Orientée Objet (POO)** est un paradigme de programmation qui utilise des **objets** et des **classes** pour créer des modèles basés sur le monde réel. Elle facilite :\n",
    "\n",
    "- **L'organisation du code** : En regroupant les données et les fonctions qui les manipulent.\n",
    "- **La réutilisation du code** : Grâce à l'héritage et aux classes génériques.\n",
    "- **La maintenance** : En rendant le code plus modulaire et plus facile à comprendre.\n",
    "\n",
    "### Les Classes\n",
    "\n",
    "#### Définition d'une classe en programmation\n",
    "\n",
    "- Une **classe** est un plan ou un modèle qui définit les attributs (données) et les méthodes (comportements) que les objets créés à partir de cette classe posséderont.\n",
    "\n",
    "#### Syntaxe en Python"
   ]
  },
  {
   "cell_type": "code",
   "execution_count": 27,
   "metadata": {},
   "outputs": [],
   "source": [
    "class NomDeLaClasse:\n",
    "    # Corps de la classe\n",
    "    pass\n",
    "\n"
   ]
  },
  {
   "cell_type": "markdown",
   "metadata": {},
   "source": [
    "- **Convention de nommage** : Les noms de classes sont généralement écrits en **CamelCase**.\n",
    "\n",
    "##### Exemple :"
   ]
  },
  {
   "cell_type": "code",
   "execution_count": 28,
   "metadata": {},
   "outputs": [
    {
     "name": "stdout",
     "output_type": "stream",
     "text": [
      "<class '__main__.Personnage'>\n"
     ]
    }
   ],
   "source": [
    "class Personnage:\n",
    "    pass\n",
    "\n",
    "print(Personnage)"
   ]
  },
  {
   "cell_type": "markdown",
   "metadata": {},
   "source": [
    "### Les Objets\n",
    "\n",
    "#### Qu'est-ce qu'un objet ?\n",
    "\n",
    "- Un **objet** est une instance concrète d'une classe. Il possède ses propres attributs et peut utiliser les méthodes définies par sa classe.\n",
    "\n",
    "#### Création d'instances\n",
    "\n",
    "Pour créer une instance d'une classe :\n",
    "\n",
    "```python\n",
    "nom_de_l_instance = NomDeLaClasse()\n",
    "```\n",
    "##### Exemple :"
   ]
  },
  {
   "cell_type": "code",
   "execution_count": 29,
   "metadata": {},
   "outputs": [
    {
     "name": "stdout",
     "output_type": "stream",
     "text": [
      "<__main__.Personnage object at 0x1059ba1b0>\n"
     ]
    }
   ],
   "source": [
    "class Personnage:\n",
    "    pass\n",
    "\n",
    "Zelda = Personnage()\n",
    "print(Zelda)"
   ]
  },
  {
   "cell_type": "markdown",
   "metadata": {},
   "source": [
    "## Les Méthodes et les Attributs\n",
    "\n",
    "### Les Attributs de Classe\n",
    "\n",
    "- **Définition** : Variables partagées par toutes les instances de la classe, définies directement dans la classe.\n",
    "- **Utilisation** : Pour des valeurs communes à toutes les instances.\n",
    "\n",
    "#### Exemple :"
   ]
  },
  {
   "cell_type": "code",
   "execution_count": 30,
   "metadata": {},
   "outputs": [
    {
     "name": "stdout",
     "output_type": "stream",
     "text": [
      "princesse Hyrule prêtresse\n",
      "Zelda est la princesse du royaume d'Hyrule, où elle est prêtresse\n"
     ]
    }
   ],
   "source": [
    "class Personnage:\n",
    "    fonction = \"princesse\"\n",
    "    royaume = \"Hyrule\"\n",
    "    pouvoir = \"prêtresse\"\n",
    "\n",
    "Zelda = Personnage()\n",
    "print(Zelda.fonction, Zelda.royaume, Zelda.pouvoir)\n",
    "print(f\"Zelda est la {Zelda.fonction} du royaume d'{Zelda.royaume}, où elle est {Zelda.pouvoir}\")"
   ]
  },
  {
   "cell_type": "markdown",
   "metadata": {},
   "source": [
    "### Modification d'un attribut de classe \n",
    "\n",
    "#### Via la classe :\n",
    "\n",
    "Si vous modifiez un attribut de classe directement via la classe, toutes les instances existantes et futures refléteront ce changement, car elles accèdent à cet attribut à travers la classe."
   ]
  },
  {
   "cell_type": "code",
   "execution_count": 31,
   "metadata": {},
   "outputs": [
    {
     "name": "stdout",
     "output_type": "stream",
     "text": [
      "New Hyrule\n"
     ]
    }
   ],
   "source": [
    "Personnage.royaume = \"New Hyrule\"\n",
    "print(Zelda.royaume)  # Affiche : New Hyrule"
   ]
  },
  {
   "cell_type": "markdown",
   "metadata": {},
   "source": [
    "#### Via une instance :\n",
    "\n",
    "Si vous modifiez un attribut via une instance, cela ne modifie pas l'attribut de la classe, mais crée un nouvel attribut d'instance pour cette instance uniquement. Les autres instances et la classe conservent leur version de l'attribut de classe."
   ]
  },
  {
   "cell_type": "code",
   "execution_count": 32,
   "metadata": {},
   "outputs": [
    {
     "name": "stdout",
     "output_type": "stream",
     "text": [
      "sorcière\n",
      "prêtresse\n"
     ]
    }
   ],
   "source": [
    "Zelda.pouvoir = \"sorcière\"\n",
    "print(Zelda.pouvoir)         # Affiche : sorcière\n",
    "print(Personnage.pouvoir)    # Affiche : prêtresse"
   ]
  },
  {
   "cell_type": "markdown",
   "metadata": {},
   "source": [
    "### Les Attributs d'Instance\n",
    "\n",
    "- **Définition** : Variables propres à chaque objet, définies dans la méthode `__init__`.\n",
    "- **Création** : Utilisent le mot-clé `self` pour faire référence à l'instance elle-même.\n",
    "\n",
    "#### Exemple :"
   ]
  },
  {
   "cell_type": "code",
   "execution_count": 33,
   "metadata": {},
   "outputs": [
    {
     "name": "stdout",
     "output_type": "stream",
     "text": [
      "Zelda Princesse\n"
     ]
    }
   ],
   "source": [
    "class Personnage:\n",
    "    def __init__(self, nom, fonction):\n",
    "        self.nom = nom\n",
    "        self.fonction = fonction\n",
    "\n",
    "Zelda = Personnage(\"Zelda\", \"Princesse\")\n",
    "print(Zelda.nom, Zelda.fonction)"
   ]
  },
  {
   "cell_type": "markdown",
   "metadata": {},
   "source": [
    "### La Méthode `__init__` et le Paramètre `self`\n",
    "\n",
    "#### La méthode `__init__`\n",
    "\n",
    "- **Rôle** : Méthode spéciale appelée **constructeur**, utilisée pour initialiser les attributs d'une instance lors de sa création.\n",
    "\n",
    "#### Le paramètre `self`\n",
    "\n",
    "- **Définition** : Représente l'instance de l'objet lui-même.\n",
    "- **Utilisation** : Permet d'accéder aux attributs et méthodes de la classe à l'intérieur de ses méthodes.\n",
    "\n",
    "##### Exemple :"
   ]
  },
  {
   "cell_type": "code",
   "execution_count": 34,
   "metadata": {},
   "outputs": [
    {
     "name": "stdout",
     "output_type": "stream",
     "text": [
      "Je m'appelle Zelda et je suis Princesse.\n"
     ]
    }
   ],
   "source": [
    "class Personnage:\n",
    "    def __init__(self, nom, fonction):\n",
    "        self.nom = nom\n",
    "        self.fonction = fonction\n",
    "\n",
    "    def se_presenter(self):\n",
    "        print(f\"Je m'appelle {self.nom} et je suis {self.fonction}.\")\n",
    "\n",
    "Zelda = Personnage(\"Zelda\", \"Princesse\")\n",
    "Zelda.se_presenter()"
   ]
  },
  {
   "cell_type": "markdown",
   "metadata": {},
   "source": [
    "---\n",
    "\n",
    "## Exemples Pratiques et Exercices\n",
    "\n",
    "### Exemple : Classe `Personnage` avec Méthodes et Attributs"
   ]
  },
  {
   "cell_type": "code",
   "execution_count": 35,
   "metadata": {},
   "outputs": [
    {
     "name": "stdout",
     "output_type": "stream",
     "text": [
      "Zelda est Princesse du royaume d'Hyrule et a le pouvoir de Prêtresse\n",
      "Niveau d'expérience : 2\n",
      "Link est Élu du royaume d'Hyrule et a le pouvoir de Sauveur du royaume\n",
      "Niveau d'expérience : 0\n"
     ]
    }
   ],
   "source": [
    "class Personnage:\n",
    "    def __init__(self, nom, fonction, royaume, pouvoir, xp):\n",
    "        self.nom = nom\n",
    "        self.fonction = fonction\n",
    "        self.royaume = royaume\n",
    "        self.pouvoir = pouvoir\n",
    "        self.xp = xp\n",
    "\n",
    "    def gain_xp(self, gxp):\n",
    "        self.xp += gxp\n",
    "\n",
    "    def infos(self):\n",
    "        print(f\"{self.nom} est {self.fonction} du royaume d'{self.royaume} et a le pouvoir de {self.pouvoir}\")\n",
    "        print(f\"Niveau d'expérience : {self.xp}\")\n",
    "\n",
    "# Création de l'instance Zelda\n",
    "Zelda = Personnage(\"Zelda\", \"Princesse\", \"Hyrule\", \"Prêtresse\", 0)\n",
    "Zelda.gain_xp(2)\n",
    "Zelda.infos()\n",
    "\n",
    "# Création de l'instance Link\n",
    "Link = Personnage(\"Link\", \"Élu\", \"Hyrule\", \"Sauveur du royaume\", 0)\n",
    "Link.infos()"
   ]
  },
  {
   "cell_type": "markdown",
   "metadata": {},
   "source": [
    "### Exercices\n",
    "\n",
    "#### Exercice 1 : Ajouter une Méthode `niveau`\n",
    "\n",
    "**Objectif** : Ajouter une méthode `niveau` à la classe `Personnage` qui détermine le niveau du personnage en fonction de son expérience (`xp`).\n",
    "\n",
    "- **Niveaux** :\n",
    "    - `xp` < 5 : Niveau \"Débutant\"\n",
    "    - 5 <= `xp` < 10 : Niveau \"Intermédiaire\"\n",
    "    - `xp` >= 10 : Niveau \"Expert\"\n",
    "\n",
    "**Instructions** :\n",
    "\n",
    "1. Ajouter la méthode `niveau` à la classe `Personnage`.\n",
    "2. Modifier la méthode `infos` pour afficher le niveau du personnage.\n",
    "3. Créer un personnage, lui faire gagner de l'expérience, et afficher ses informations.\n"
   ]
  },
  {
   "cell_type": "code",
   "execution_count": 36,
   "metadata": {},
   "outputs": [],
   "source": [
    "# Votre code"
   ]
  },
  {
   "cell_type": "markdown",
   "metadata": {},
   "source": [
    "#### Exercice 2 : Créer une Classe `EvenementHistorique`\n",
    "\n",
    "**Objectif** : Créer une classe `EvenementHistorique` pour modéliser des événements historiques.\n",
    "\n",
    "**Instructions** :\n",
    "\n",
    "1. Créer la classe avec les attributs `nom`, `date`, `lieu`, `description`.\n",
    "2. Ajouter une méthode `afficher_details` qui affiche toutes les informations de l'événement.\n",
    "3. Instancier plusieurs événements et afficher leurs détails."
   ]
  },
  {
   "cell_type": "code",
   "execution_count": 37,
   "metadata": {},
   "outputs": [],
   "source": [
    "# Votre code"
   ]
  }
 ],
 "metadata": {
  "kernelspec": {
   "display_name": "3.12.6",
   "language": "python",
   "name": "python3"
  },
  "language_info": {
   "codemirror_mode": {
    "name": "ipython",
    "version": 3
   },
   "file_extension": ".py",
   "mimetype": "text/x-python",
   "name": "python",
   "nbconvert_exporter": "python",
   "pygments_lexer": "ipython3",
   "version": "3.12.6"
  }
 },
 "nbformat": 4,
 "nbformat_minor": 2
}
